{
 "cells": [
  {
   "cell_type": "markdown",
   "id": "comfortable-harmony",
   "metadata": {},
   "source": [
    "Jupyter Notebook to Look at SMP Data"
   ]
  },
  {
   "cell_type": "markdown",
   "id": "cross-level",
   "metadata": {},
   "source": [
    "Import libraries"
   ]
  },
  {
   "cell_type": "code",
   "execution_count": 1,
   "id": "fantastic-dream",
   "metadata": {},
   "outputs": [],
   "source": [
    "# Import the connection function from the snowexsql library\n",
    "from snowexsql.db import get_db\n",
    "\n",
    "# This is what you will use for all of hackweek to access the db\n",
    "db_name = 'snow:hackweek@52.32.183.144/snowex'\n",
    "\n",
    "# Using the function get_db, we receive 2 ways to interact with the database\n",
    "engine, session = get_db(db_name)"
   ]
  },
  {
   "cell_type": "code",
   "execution_count": 2,
   "id": "authorized-geometry",
   "metadata": {},
   "outputs": [],
   "source": [
    "# Import the layer table which is where SMP data lives\n",
    "from snowexsql.data import LayerData\n",
    "\n",
    "# Import our convenient tool to convert to geopandas dataframes\n",
    "from snowexsql.conversions import query_to_geopandas\n",
    "\n",
    "# A little matplotlib biz if you want to plot multiple plots in a loop\n",
    "import matplotlib.pyplot as plt \n",
    "\n",
    "# import geopandas lib to make a brand new GeoDataFrame to store your final results\n",
    "import geopandas as gpd "
   ]
  },
  {
   "cell_type": "markdown",
   "id": "constitutional-median",
   "metadata": {},
   "source": [
    "Find some SMP filenames"
   ]
  },
  {
   "cell_type": "code",
   "execution_count": 3,
   "id": "suffering-football",
   "metadata": {},
   "outputs": [
    {
     "name": "stdout",
     "output_type": "stream",
     "text": [
      "None\n",
      "graupel layer\n",
      "fname = SNEX20_SMP_S19M1266_2S16_20200208.CSV, serial no. = 19\n",
      "fname = SNEX20_SMP_S19M0911_1S8_20200201.CSV, serial no. = 19\n",
      "Battered from wind (wind crust)\n",
      "fname = SNEX20_SMP_S19M0872_5C21_20200130.CSV, serial no. = 19\n",
      "fname = SNEX20_SMP_S06M0617_2N4_20200128.CSV, serial no. = 06\n",
      "fname = SNEX20_SMP_S19M0748_3N22_20200128.CSV, serial no. = 19\n",
      "fname = SNEX20_SMP_S06M0618_2N4_20200128.CSV, serial no. = 06\n",
      "Graupel layer surrounded by rounds (RG)\n"
     ]
    }
   ],
   "source": [
    "# use this while testing queries. It helps avoid little database errors that sometimes happen when a query fails.\n",
    "session.rollback()\n",
    "\n",
    "# Get profile file names which live in the comments of smp data. \n",
    "result = session.query(LayerData.comments, LayerData.site_id).distinct().limit(10).all()\n",
    "\n",
    "filename = []\n",
    "# Parse the filename strings from our results\n",
    "#print(result)\n",
    "for r in result:\n",
    "     info = r[0] # Retrieve it from the tuple\n",
    "     print(info)\n",
    "     #info.split(',') # Split the string on commas\n",
    "     #Extract the filename and store it in the filenames list "
   ]
  },
  {
   "cell_type": "markdown",
   "id": "secondary-beach",
   "metadata": {},
   "source": [
    "Generate some data frames to store the data"
   ]
  },
  {
   "cell_type": "code",
   "execution_count": 4,
   "id": "automotive-rescue",
   "metadata": {},
   "outputs": [],
   "source": [
    "final_df = gpd.GeoDataFrame(columns = ['med_force','geom'])\n",
    "to_add_df = gpd.GeoDataFrame(columns = ['med_force','geom'])\n",
    "#print(final_df)"
   ]
  },
  {
   "cell_type": "markdown",
   "id": "effective-indonesian",
   "metadata": {},
   "source": [
    "Plot the raw data for one of the files"
   ]
  },
  {
   "cell_type": "code",
   "execution_count": 5,
   "id": "honey-immune",
   "metadata": {},
   "outputs": [
    {
     "data": {
      "image/png": "[encoded data removed]",
      "text/plain": [
       "<Figure size 432x288 with 1 Axes>"
      ]
     },
     "metadata": {
      "needs_background": "light"
     },
     "output_type": "display_data"
    }
   ],
   "source": [
    "filenames = ['SNEX20_SMP_S19M1266_2S16_20200208.CSV']\n",
    "\n",
    "for f in filenames:\n",
    "    # Grab any layer data that has the file name in its comments\n",
    "    qry = session.query(LayerData).filter(LayerData.comments.contains(f)).order_by('depth')\n",
    "\n",
    "    # build a geopandas dataframe from the query\n",
    "    df = query_to_geopandas(qry, engine)\n",
    "\n",
    "    # Everything in the layers table is a string so we need to cast our value column as a float to calc stats on it\n",
    "    df['value'] = df['value'].astype(float)\n",
    "\n",
    "    # plot biz plot the profile vertically.\n",
    "    fig, axes = plt.subplots(1)\n",
    "    axes.plot(df['value'], df['depth'])"
   ]
  },
  {
   "cell_type": "markdown",
   "id": "christian-culture",
   "metadata": {},
   "source": [
    "Manually input the snow surface and ground values"
   ]
  },
  {
   "cell_type": "code",
   "execution_count": 6,
   "id": "fitting-albert",
   "metadata": {},
   "outputs": [],
   "source": [
    "surface = -21\n",
    "ground = -90"
   ]
  },
  {
   "cell_type": "markdown",
   "id": "contained-bulletin",
   "metadata": {},
   "source": [
    "Find the median between the surface and ground, plot the filtered data, and add data to the data frame"
   ]
  },
  {
   "cell_type": "code",
   "execution_count": 7,
   "id": "associate-bread",
   "metadata": {},
   "outputs": [
    {
     "name": "stdout",
     "output_type": "stream",
     "text": [
      "0.238\n",
      "   med_force                            geom\n",
      "0      0.238  POINT (743905.753 4322634.104)\n"
     ]
    },
    {
     "data": {
      "image/png": "[encoded data removed]",
      "text/plain": [
       "<Figure size 432x288 with 1 Axes>"
      ]
     },
     "metadata": {
      "needs_background": "light"
     },
     "output_type": "display_data"
    }
   ],
   "source": [
    "#Threshold for surface and ground\n",
    "ind =  (df['depth'] < surface) & (df['depth'] > ground)\n",
    "\n",
    "# Print out a stat\n",
    "median = df[ind]['value'].median()\n",
    "print(median)\n",
    "\n",
    "# plot biz plot the profile vertically.\n",
    "fig, axes = plt.subplots(1)\n",
    "axes.plot(df[ind]['value'], df[ind]['depth'])\n",
    "\n",
    "# add median force and location to a dataframe\n",
    "final_df['geom'] = df['geom'].unique() # Which should only be one location\n",
    "final_df['med_force'] = df[ind]['value'].median()    \n",
    "print(final_df)"
   ]
  },
  {
   "cell_type": "code",
   "execution_count": 8,
   "id": "built-vocabulary",
   "metadata": {},
   "outputs": [
    {
     "data": {
      "image/png": "[encoded data removed]",
      "text/plain": [
       "<Figure size 432x288 with 1 Axes>"
      ]
     },
     "metadata": {
      "needs_background": "light"
     },
     "output_type": "display_data"
    }
   ],
   "source": [
    "filenames = ['SNEX20_SMP_S19M0911_1S8_20200201.CSV']\n",
    "\n",
    "for f in filenames:\n",
    "    # Grab any layer data that has the file name in its comments\n",
    "    qry = session.query(LayerData).filter(LayerData.comments.contains(f)).order_by('depth')\n",
    "\n",
    "    # build a geopandas dataframe from the query\n",
    "    df = query_to_geopandas(qry, engine)\n",
    "\n",
    "    # Everything in the layers table is a string so we need to cast our value column as a float to calc stats on it\n",
    "    df['value'] = df['value'].astype(float)\n",
    "\n",
    "    # plot biz plot the profile vertically.\n",
    "    fig, axes = plt.subplots(1)\n",
    "    axes.plot(df['value'], df['depth'])"
   ]
  },
  {
   "cell_type": "markdown",
   "id": "quality-discount",
   "metadata": {},
   "source": [
    "Manually input the snow surface and ground values"
   ]
  },
  {
   "cell_type": "code",
   "execution_count": 9,
   "id": "modern-furniture",
   "metadata": {},
   "outputs": [],
   "source": [
    "surface = -3\n",
    "ground = -82"
   ]
  },
  {
   "cell_type": "markdown",
   "id": "embedded-joshua",
   "metadata": {},
   "source": [
    "Find the median between the surface and ground, plot the filtered data, and store data to the data frame"
   ]
  },
  {
   "cell_type": "code",
   "execution_count": 10,
   "id": "naval-showcase",
   "metadata": {},
   "outputs": [
    {
     "name": "stdout",
     "output_type": "stream",
     "text": [
      "0.26\n",
      "   med_force                            geom\n",
      "0       0.26  POINT (742606.052 4322880.455)\n"
     ]
    },
    {
     "data": {
      "image/png": "[encoded data removed]",
      "text/plain": [
       "<Figure size 432x288 with 1 Axes>"
      ]
     },
     "metadata": {
      "needs_background": "light"
     },
     "output_type": "display_data"
    }
   ],
   "source": [
    "#Threshold for surface and ground\n",
    "ind =  (df['depth'] < surface) & (df['depth'] > ground)\n",
    "\n",
    "# Print out a stat\n",
    "median = df[ind]['value'].median()\n",
    "print(median)\n",
    "\n",
    "# plot biz plot the profile vertically.\n",
    "fig, axes = plt.subplots(1)\n",
    "axes.plot(df[ind]['value'], df[ind]['depth'])\n",
    "\n",
    "# add median force and location to a dataframe\n",
    "to_add_df['geom'] = df['geom'].unique() # Which should only be one location\n",
    "to_add_df['med_force'] = median\n",
    "print(to_add_df)"
   ]
  },
  {
   "cell_type": "code",
   "execution_count": 11,
   "id": "conservative-easter",
   "metadata": {},
   "outputs": [
    {
     "name": "stdout",
     "output_type": "stream",
     "text": [
      "   med_force                            geom\n",
      "0      0.238  POINT (743905.753 4322634.104)\n",
      "0      0.260  POINT (742606.052 4322880.455)\n"
     ]
    }
   ],
   "source": [
    "final_df = final_df.append(to_add_df)\n",
    "print(final_df)"
   ]
  },
  {
   "cell_type": "code",
   "execution_count": null,
   "id": "matched-attendance",
   "metadata": {},
   "outputs": [],
   "source": []
  },
  {
   "cell_type": "code",
   "execution_count": 12,
   "id": "infinite-lancaster",
   "metadata": {},
   "outputs": [
    {
     "data": {
      "image/png": "[encoded data removed]",
      "text/plain": [
       "<Figure size 432x288 with 1 Axes>"
      ]
     },
     "metadata": {
      "needs_background": "light"
     },
     "output_type": "display_data"
    }
   ],
   "source": [
    "filenames = ['SNEX20_SMP_S19M0872_5C21_20200130.CSV']\n",
    "\n",
    "for f in filenames:\n",
    "    # Grab any layer data that has the file name in its comments\n",
    "    qry = session.query(LayerData).filter(LayerData.comments.contains(f)).order_by('depth')\n",
    "\n",
    "    # build a geopandas dataframe from the query\n",
    "    df = query_to_geopandas(qry, engine)\n",
    "\n",
    "    # Everything in the layers table is a string so we need to cast our value column as a float to calc stats on it\n",
    "    df['value'] = df['value'].astype(float)\n",
    "\n",
    "    # plot biz plot the profile vertically.\n",
    "    fig, axes = plt.subplots(1)\n",
    "    axes.plot(df['value'], df['depth'])"
   ]
  },
  {
   "cell_type": "markdown",
   "id": "material-stretch",
   "metadata": {},
   "source": [
    "Manually input the snow surface and ground values"
   ]
  },
  {
   "cell_type": "code",
   "execution_count": 13,
   "id": "collected-topic",
   "metadata": {},
   "outputs": [],
   "source": [
    "surface = -10\n",
    "ground = -105"
   ]
  },
  {
   "cell_type": "markdown",
   "id": "consolidated-theater",
   "metadata": {},
   "source": [
    "Find the median between the surface and ground, plot the filtered data, and store data to the data frame"
   ]
  },
  {
   "cell_type": "code",
   "execution_count": 14,
   "id": "sixth-passport",
   "metadata": {},
   "outputs": [
    {
     "name": "stdout",
     "output_type": "stream",
     "text": [
      "0.17\n",
      "   med_force                            geom\n",
      "0       0.17  POINT (743882.322 4324478.339)\n"
     ]
    },
    {
     "data": {
      "image/png": "[encoded data removed]",
      "text/plain": [
       "<Figure size 432x288 with 1 Axes>"
      ]
     },
     "metadata": {
      "needs_background": "light"
     },
     "output_type": "display_data"
    }
   ],
   "source": [
    "#Threshold for surface and ground\n",
    "ind =  (df['depth'] < surface) & (df['depth'] > ground)\n",
    "\n",
    "# Print out a stat\n",
    "median = df[ind]['value'].median()\n",
    "print(median)\n",
    "\n",
    "# plot biz plot the profile vertically.\n",
    "fig, axes = plt.subplots(1)\n",
    "axes.plot(df[ind]['value'], df[ind]['depth'])\n",
    "\n",
    "# add median force and location to a dataframe\n",
    "to_add_df['geom'] = df['geom'].unique() # Which should only be one location\n",
    "to_add_df['med_force'] = median\n",
    "print(to_add_df)"
   ]
  },
  {
   "cell_type": "code",
   "execution_count": 15,
   "id": "mechanical-provincial",
   "metadata": {},
   "outputs": [
    {
     "name": "stdout",
     "output_type": "stream",
     "text": [
      "   med_force                            geom\n",
      "0      0.238  POINT (743905.753 4322634.104)\n",
      "0      0.260  POINT (742606.052 4322880.455)\n",
      "0      0.170  POINT (743882.322 4324478.339)\n"
     ]
    }
   ],
   "source": [
    "final_df = final_df.append(to_add_df)\n",
    "print(final_df)"
   ]
  },
  {
   "cell_type": "markdown",
   "id": "fluid-cannon",
   "metadata": {},
   "source": [
    "new line test"
   ]
  },
  {
   "cell_type": "code",
   "execution_count": null,
   "id": "piano-guyana",
   "metadata": {},
   "outputs": [],
   "source": []
  }
 ],
 "metadata": {
  "kernelspec": {
   "display_name": "Python 3",
   "language": "python",
   "name": "python3"
  },
  "language_info": {
   "codemirror_mode": {
    "name": "ipython",
    "version": 3
   },
   "file_extension": ".py",
   "mimetype": "text/x-python",
   "name": "python",
   "nbconvert_exporter": "python",
   "pygments_lexer": "ipython3",
   "version": "3.8.8"
  }
 },
 "nbformat": 4,
 "nbformat_minor": 5
}
