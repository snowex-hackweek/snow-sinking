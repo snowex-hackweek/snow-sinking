{
 "cells": [
  {
   "cell_type": "code",
   "execution_count": null,
   "id": "modified-infrared",
   "metadata": {},
   "outputs": [],
   "source": []
  },
  {
   "cell_type": "code",
   "execution_count": 15,
   "id": "cosmetic-exchange",
   "metadata": {},
   "outputs": [],
   "source": [
    "# Import the connection function from the snowexsql library\n",
    "from snowexsql.db import get_db\n",
    "\n",
    "# This is what you will use for all of hackweek to access the db\n",
    "db_name = 'snow:hackweek@52.32.183.144/snowex'\n",
    "\n",
    "# Using the function get_db, we receive 2 ways to interact with the database\n",
    "engine, session = get_db(db_name)"
   ]
  },
  {
   "cell_type": "code",
   "execution_count": 16,
   "id": "black-collective",
   "metadata": {},
   "outputs": [],
   "source": [
    "# Import the layer table which is where SMP data lives\n",
    "from snowexsql.data import LayerData\n",
    "\n",
    "# Import our convenient tool to convert to geopandas dataframes\n",
    "from snowexsql.conversions import query_to_geopandas\n",
    "\n",
    "# A little matplotlib biz if you want to plot multiple plots in a loop\n",
    "import matplotlib.pyplot as plt \n",
    "\n",
    "# import geopandas lib to make a brand new GeoDataFrame to store your final results\n",
    "import geopandas as gpd \n",
    "\n",
    "import pandas as pd\n",
    "import numpy as np"
   ]
  },
  {
   "cell_type": "markdown",
   "id": "familiar-commodity",
   "metadata": {},
   "source": [
    "Find some SMP filenames"
   ]
  },
  {
   "cell_type": "code",
   "execution_count": 24,
   "id": "conventional-politics",
   "metadata": {},
   "outputs": [
    {
     "data": {
      "image/png": "[encoded data removed]",
      "text/plain": [
       "<Figure size 360x360 with 1 Axes>"
      ]
     },
     "metadata": {
      "needs_background": "light"
     },
     "output_type": "display_data"
    }
   ],
   "source": [
    "site = '5S21'\n",
    "engine_smp, session_smp = get_db(db_name)\n",
    "q_smp = session_smp.query(LayerData).filter(LayerData.type == 'force').filter(LayerData.site_id.contains(site) )\n",
    "df_smp = query_to_geopandas(q_smp, engine_smp)\n",
    "\n",
    "q_pit=session_smp.query(LayerData).filter(LayerData.type == 'hand_hardness').filter(LayerData.site_id.contains(site) )\n",
    "df_pit = query_to_geopandas(q_pit, engine_smp)\n",
    "\n",
    "session_smp.close()\n",
    "\n",
    "# Plot SMP profile locations with colored by the time they were taken using upside down triangles\n",
    "ax = df_smp.plot(column='time', cmap='jet', marker='v', label='SMP', figsize=(5,5), markersize=100, edgecolor='black')\n",
    "\n",
    "ax.plot(df_pit.easting, df_pit.northing, color='black', marker='s', markersize=15, label='Pit ({})'.format(site))\n",
    "\n",
    "# Add important labels\n",
    "ax.set_xlabel('Easting [m]')\n",
    "ax.set_ylabel('Northing [m]')\n",
    "plt.suptitle('SMP Locations at Site {} Showing Acquisition Order'.format(site), fontsize=16)\n",
    "\n",
    "# Avoid using Scientific notation for coords.\n",
    "ax.ticklabel_format(style='plain', useOffset=False)\n",
    "ax.legend()\n",
    "# plt.tight_layout()\n",
    "plt.show()"
   ]
  },
  {
   "cell_type": "code",
   "execution_count": 25,
   "id": "occupational-geology",
   "metadata": {},
   "outputs": [
    {
     "data": {
      "text/html": [
       "<div>\n",
       "<style scoped>\n",
       "    .dataframe tbody tr th:only-of-type {\n",
       "        vertical-align: middle;\n",
       "    }\n",
       "\n",
       "    .dataframe tbody tr th {\n",
       "        vertical-align: top;\n",
       "    }\n",
       "\n",
       "    .dataframe thead th {\n",
       "        text-align: right;\n",
       "    }\n",
       "</style>\n",
       "<table border=\"1\" class=\"dataframe\">\n",
       "  <thead>\n",
       "    <tr style=\"text-align: right;\">\n",
       "      <th></th>\n",
       "      <th>comments</th>\n",
       "      <th>dists</th>\n",
       "    </tr>\n",
       "  </thead>\n",
       "  <tbody>\n",
       "    <tr>\n",
       "      <th>34796</th>\n",
       "      <td>fname = SNEX20_SMP_S19M0997_5S21_20200201.CSV,...</td>\n",
       "      <td>5.214860</td>\n",
       "    </tr>\n",
       "    <tr>\n",
       "      <th>27670</th>\n",
       "      <td>fname = SNEX20_SMP_S19M0996_5S21_20200201.CSV,...</td>\n",
       "      <td>5.681141</td>\n",
       "    </tr>\n",
       "    <tr>\n",
       "      <th>2395</th>\n",
       "      <td>fname = SNEX20_SMP_S19M1017_5S21_20200201.CSV,...</td>\n",
       "      <td>6.640878</td>\n",
       "    </tr>\n",
       "    <tr>\n",
       "      <th>52398</th>\n",
       "      <td>fname = SNEX20_SMP_S19M1018_5S21_20200201.CSV,...</td>\n",
       "      <td>6.640878</td>\n",
       "    </tr>\n",
       "    <tr>\n",
       "      <th>30416</th>\n",
       "      <td>fname = SNEX20_SMP_S19M1016_5S21_20200201.CSV,...</td>\n",
       "      <td>6.640878</td>\n",
       "    </tr>\n",
       "  </tbody>\n",
       "</table>\n",
       "</div>"
      ],
      "text/plain": [
       "                                                comments     dists\n",
       "34796  fname = SNEX20_SMP_S19M0997_5S21_20200201.CSV,...  5.214860\n",
       "27670  fname = SNEX20_SMP_S19M0996_5S21_20200201.CSV,...  5.681141\n",
       "2395   fname = SNEX20_SMP_S19M1017_5S21_20200201.CSV,...  6.640878\n",
       "52398  fname = SNEX20_SMP_S19M1018_5S21_20200201.CSV,...  6.640878\n",
       "30416  fname = SNEX20_SMP_S19M1016_5S21_20200201.CSV,...  6.640878"
      ]
     },
     "execution_count": 25,
     "metadata": {},
     "output_type": "execute_result"
    }
   ],
   "source": [
    "# find closest SMP profile to the pit\n",
    "\n",
    "# No profile is taken at the same time, so we grab all the unique times and sort them\n",
    "times = sorted(df_smp['time'].unique())\n",
    "\n",
    "nprofiles=len(times)\n",
    "\n",
    "ids=np.empty(nprofiles)\n",
    "\n",
    "p=0\n",
    "for t in times:\n",
    "    ind = df_smp['time'] == t\n",
    "    data = df_smp.loc[ind].copy()\n",
    "    ids[p]=data.iloc[0].id\n",
    "    p+=1\n",
    "    \n",
    "i_dists=df_smp['id'].isin(ids)\n",
    "\n",
    "df_smp_dists=df_smp.loc[i_dists]\n",
    "df_smp_dists=df_smp_dists.assign(dists=-1)\n",
    "df_smp_dists['dists']=np.sqrt((df_smp_dists['easting']-df_pit.iloc[0].easting)**2+(df_smp_dists['northing']-df_pit.iloc[0].northing)**2)\n",
    "\n",
    "    \n",
    "df_smp_dists.sort_values(by='dists')[['comments','dists']].head() #check out the list of profiles sorted by distance to pit"
   ]
  },
  {
   "cell_type": "markdown",
   "id": "motivated-blast",
   "metadata": {},
   "source": [
    "Generate some data frames to store the data"
   ]
  },
  {
   "cell_type": "code",
   "execution_count": 44,
   "id": "studied-celebrity",
   "metadata": {},
   "outputs": [],
   "source": [
    "final_df = gpd.GeoDataFrame(columns = ['siteID','med_force','geom','sum10','sum50'])\n",
    "to_add_df = gpd.GeoDataFrame(columns = ['siteID','med_force','geom','sum10','sum50'])\n",
    "#print(final_df)"
   ]
  },
  {
   "cell_type": "markdown",
   "id": "infrared-writing",
   "metadata": {},
   "source": [
    "Plot the raw data for one of the files"
   ]
  },
  {
   "cell_type": "code",
   "execution_count": 45,
   "id": "atlantic-focus",
   "metadata": {},
   "outputs": [
    {
     "data": {
      "image/png": "[encoded data removed]",
      "text/plain": [
       "<Figure size 432x288 with 1 Axes>"
      ]
     },
     "metadata": {
      "needs_background": "light"
     },
     "output_type": "display_data"
    }
   ],
   "source": [
    "filenames = ['SMP_S19M0997_5S21_20200201.CSV']\n",
    "\n",
    "for f in filenames:\n",
    "    # Grab any layer data that has the file name in its comments\n",
    "    qry = session.query(LayerData).filter(LayerData.comments.contains(f)).order_by('depth')\n",
    "\n",
    "    # build a geopandas dataframe from the query\n",
    "    df = query_to_geopandas(qry, engine)\n",
    "\n",
    "    # Everything in the layers table is a string so we need to cast our value column as a float to calc stats on it\n",
    "    df['value'] = df['value'].astype(float)\n",
    "\n",
    "    # plot biz plot the profile vertically.\n",
    "    fig, axes = plt.subplots(1)\n",
    "    axes.plot(df['value'], df['depth'])"
   ]
  },
  {
   "cell_type": "markdown",
   "id": "secure-hostel",
   "metadata": {},
   "source": [
    "Manually input the snow surface and ground values"
   ]
  },
  {
   "cell_type": "code",
   "execution_count": 46,
   "id": "green-combination",
   "metadata": {},
   "outputs": [],
   "source": [
    "surface = -5\n",
    "ground = -100"
   ]
  },
  {
   "cell_type": "markdown",
   "id": "solid-childhood",
   "metadata": {},
   "source": [
    "Find the median between the surface and ground, plot the filtered data, and add data to the data frame"
   ]
  },
  {
   "cell_type": "code",
   "execution_count": 48,
   "id": "designing-designation",
   "metadata": {},
   "outputs": [
    {
     "name": "stdout",
     "output_type": "stream",
     "text": [
      "0.237\n",
      "35.491\n",
      "399.728\n",
      "  siteID  med_force                            geom   sum10    sum50\n",
      "0   5S21      0.237  POINT (744564.879 4322724.486)  35.491  399.728\n"
     ]
    },
    {
     "data": {
      "image/png": "[encoded data removed]",
      "text/plain": [
       "<Figure size 432x288 with 1 Axes>"
      ]
     },
     "metadata": {
      "needs_background": "light"
     },
     "output_type": "display_data"
    },
    {
     "data": {
      "image/png": "[encoded data removed]",
      "text/plain": [
       "<Figure size 432x288 with 1 Axes>"
      ]
     },
     "metadata": {
      "needs_background": "light"
     },
     "output_type": "display_data"
    }
   ],
   "source": [
    "#Threshold for surface and ground\n",
    "ind =  (df['depth'] < surface) & (df['depth'] > ground)\n",
    "ind_10cm = (df['depth'] < surface) & (df['depth'] > (surface - 10))\n",
    "ind_50cm = (df['depth'] < surface) & (df['depth'] > (surface - 50))\n",
    "\n",
    "# Print out a stat\n",
    "median = df[ind]['value'].median()\n",
    "print(median)\n",
    "\n",
    "sum10 = df[ind_10cm]['value'].sum()\n",
    "print(sum10)\n",
    "\n",
    "sum50 =  df[ind_50cm]['value'].sum()\n",
    "print(sum50)\n",
    "\n",
    "\n",
    "# plot biz plot the profile vertically.\n",
    "fig, axes = plt.subplots(1)\n",
    "axes.plot(df[ind]['value'], df[ind]['depth'])\n",
    "\n",
    "fig, axes = plt.subplots(1)\n",
    "axes.plot(df[ind_50cm]['value'], df[ind_depth]['depth'])\n",
    "\n",
    "# add median force and location to a dataframe\n",
    "final_df['geom'] = df['geom'].unique() # Which should only be one location\n",
    "final_df['med_force'] = df[ind]['value'].median()   \n",
    "final_df['sum10'] = sum10\n",
    "final_df['sum50'] = sum50\n",
    "final_df['siteID'] = site\n",
    "print(final_df)"
   ]
  },
  {
   "cell_type": "code",
   "execution_count": 9,
   "id": "provincial-bradley",
   "metadata": {},
   "outputs": [
    {
     "data": {
      "image/png": "[encoded data removed]",
      "text/plain": [
       "<Figure size 432x288 with 1 Axes>"
      ]
     },
     "metadata": {
      "needs_background": "light"
     },
     "output_type": "display_data"
    }
   ],
   "source": [
    "filenames = ['SNEX20_SMP_S19M0911_1S8_20200201.CSV']\n",
    "\n",
    "for f in filenames:\n",
    "    # Grab any layer data that has the file name in its comments\n",
    "    qry = session.query(LayerData).filter(LayerData.comments.contains(f)).order_by('depth')\n",
    "\n",
    "    # build a geopandas dataframe from the query\n",
    "    df = query_to_geopandas(qry, engine)\n",
    "\n",
    "    # Everything in the layers table is a string so we need to cast our value column as a float to calc stats on it\n",
    "    df['value'] = df['value'].astype(float)\n",
    "\n",
    "    # plot biz plot the profile vertically.\n",
    "    fig, axes = plt.subplots(1)\n",
    "    axes.plot(df['value'], df['depth'])"
   ]
  },
  {
   "cell_type": "markdown",
   "id": "insured-violence",
   "metadata": {},
   "source": [
    "Manually input the snow surface and ground values"
   ]
  },
  {
   "cell_type": "code",
   "execution_count": 10,
   "id": "proprietary-manual",
   "metadata": {},
   "outputs": [],
   "source": [
    "surface = -3\n",
    "ground = -82"
   ]
  },
  {
   "cell_type": "markdown",
   "id": "complete-above",
   "metadata": {},
   "source": [
    "Find the median between the surface and ground, plot the filtered data, and store data to the data frame"
   ]
  },
  {
   "cell_type": "code",
   "execution_count": 14,
   "id": "cloudy-green",
   "metadata": {},
   "outputs": [
    {
     "name": "stdout",
     "output_type": "stream",
     "text": [
      "0.26\n",
      "998.0989999999999\n",
      "   med_force                            geom\n",
      "0       0.26  POINT (742606.052 4322880.455)\n"
     ]
    },
    {
     "data": {
      "image/png": "[encoded data removed]",
      "text/plain": [
       "<Figure size 432x288 with 1 Axes>"
      ]
     },
     "metadata": {
      "needs_background": "light"
     },
     "output_type": "display_data"
    }
   ],
   "source": [
    "#Threshold for surface and ground\n",
    "ind =  (df['depth'] < surface) & (df['depth'] > ground)\n",
    "\n",
    "# Print out a stat\n",
    "median = df[ind]['value'].median()\n",
    "sum = df[ind]['value'].sum()\n",
    "print(median)\n",
    "print(sum)\n",
    "\n",
    "# plot biz plot the profile vertically.\n",
    "fig, axes = plt.subplots(1)\n",
    "axes.plot(df[ind]['value'], df[ind]['depth'])\n",
    "\n",
    "# add median force and location to a dataframe\n",
    "to_add_df['geom'] = df['geom'].unique() # Which should only be one location\n",
    "to_add_df['med_force'] = median\n",
    "print(to_add_df)"
   ]
  },
  {
   "cell_type": "code",
   "execution_count": 12,
   "id": "native-teddy",
   "metadata": {},
   "outputs": [
    {
     "name": "stdout",
     "output_type": "stream",
     "text": [
      "   med_force                            geom\n",
      "0      0.158  POINT (743946.686 4322636.220)\n",
      "0      0.260  POINT (742606.052 4322880.455)\n"
     ]
    }
   ],
   "source": [
    "final_df = final_df.append(to_add_df)\n",
    "print(final_df)"
   ]
  }
 ],
 "metadata": {
  "kernelspec": {
   "display_name": "Python 3",
   "language": "python",
   "name": "python3"
  },
  "language_info": {
   "codemirror_mode": {
    "name": "ipython",
    "version": 3
   },
   "file_extension": ".py",
   "mimetype": "text/x-python",
   "name": "python",
   "nbconvert_exporter": "python",
   "pygments_lexer": "ipython3",
   "version": "3.8.8"
  }
 },
 "nbformat": 4,
 "nbformat_minor": 5
}
