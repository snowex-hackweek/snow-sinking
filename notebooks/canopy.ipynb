{
 "cells": [
  {
   "cell_type": "code",
   "execution_count": null,
   "id": "lonely-carry",
   "metadata": {},
   "outputs": [],
   "source": [
    "# general purpose data manipulation and analysis\n",
    "import numpy as np\n",
    "import scipy.spatial as spatial\n",
    "\n",
    "# packages for working with raster datasets\n",
    "import rasterio\n",
    "from rasterio.mask import mask\n",
    "from rasterio.plot import show\n",
    "from rasterio.enums import Resampling\n",
    "\n",
    "import xarray # allows us to work with raster data as arrays\n",
    "\n",
    "# packages for working with geospatial data\n",
    "!pip install pycrs\n",
    "import geopandas as gpd\n",
    "import pycrs\n",
    "\n",
    "from shapely.geometry import box\n",
    "\n",
    "# import packages for viewing the data\n",
    "import matplotlib.pyplot as pyplot\n"
   ]
  },
  {
   "cell_type": "code",
   "execution_count": null,
   "id": "collaborative-genre",
   "metadata": {},
   "outputs": [],
   "source": [
    "#define paths\n",
    "import os\n",
    "CURDIR = os.path.dirname(os.path.realpath(\"__file__\"))"
   ]
  },
  {
   "cell_type": "code",
   "execution_count": null,
   "id": "welcome-sierra",
   "metadata": {},
   "outputs": [],
   "source": [
    "# matplotlib functionality\n",
    "%matplotlib inline\n",
    "# %matplotlib notebook"
   ]
  },
  {
   "cell_type": "markdown",
   "id": "northern-point",
   "metadata": {},
   "source": [
    "## Canopy height models\n",
    "\n",
    "We will use an existing raster of a canopy height model (CHM) to clip our snow depth map. This CHM is an area investigated by [Mazzotti et al. 2019](https://agupubs.onlinelibrary.wiley.com/doi/full/10.1029/2019WR024898). You can also access the data [here](https://www.envidat.ch/#/metadata/als-based-snow-depth)."
   ]
  },
  {
   "cell_type": "code",
   "execution_count": null,
   "id": "encouraging-spectrum",
   "metadata": {},
   "outputs": [],
   "source": [
    "# load the chm\n",
    "chmc = xarray.open_rasterio('/home/jovyan/snow-sinking/data/CHM_20160926GMc_700x700_EPSG32612.tif')\n",
    "chmb = xarray.open_rasterio('/home/jovyan/snow-sinking/data/CHM_20160926GMb_700x700_EPSG32612.tif')\n"
   ]
  },
  {
   "cell_type": "markdown",
   "id": "chinese-corpus",
   "metadata": {},
   "source": [
    "Don't forget that if the coordinate systems in your datasets don't match then you will need to transform one of them. You can change the coordinate systems using the links above. (Note, I've already transformed this dataset from EPSG 32613)."
   ]
  },
  {
   "cell_type": "code",
   "execution_count": null,
   "id": "waiting-announcement",
   "metadata": {},
   "outputs": [],
   "source": [
    "# plot the CHM, setting the maximum color value to the maximum canopy height in the dataset\n",
    "fig3, ax3 = pyplot.subplots()\n",
    "pos3 = ax3.imshow(chmc.data[0,:,:], cmap='inferno', vmin=0, vmax=chmb.data.max())\n",
    "ax3.set_title('CHM Grand Mesa B')\n",
    "fig3.colorbar(pos3, ax=ax3)"
   ]
  },
  {
   "cell_type": "markdown",
   "id": "elder-olympus",
   "metadata": {},
   "source": [
    "### Canopy Density\n",
    "Canopy density metric defined as the proportion of first returns whose height is 2 meters or greater divided by the total number first returns (0.0 to 1.0). \n",
    "\n",
    "[Canopy Fuel Estimator (CFE)](http://forsys.cfr.washington.edu/CFE/canopy_fuel_estimator.html)\n",
    "\n",
    "**Method**\n",
    "\n",
    "We use a kdtree searcher with a 5 m radius to estimate the CFE"
   ]
  },
  {
   "cell_type": "code",
   "execution_count": null,
   "id": "periodic-alloy",
   "metadata": {},
   "outputs": [],
   "source": [
    "# Compute the CFE or Load a previously computed .tif\n",
    "# Compute time is approx 15 minutes\n",
    "isC = 1\n",
    "isB = 0\n",
    "if isC:\n",
    "    cfe = chmc\n",
    "    chm = chmc\n",
    "elif isB:\n",
    "    cfe = chmb\n",
    "    chm = chmb\n",
    "isKDTree = 1\n",
    "if isKDTree:\n",
    "    y = cfe.y.values\n",
    "    x = cfe.x.values\n",
    "    yyix = range(len(y))\n",
    "    xxix = range(len(x))\n",
    "    xv,yv = np.meshgrid(x,y,sparse=False, indexing = 'xy')\n",
    "    xixv,yixv = np.meshgrid(xxix,yyix,sparse=False, indexing = 'xy')\n",
    "    xv = np.reshape(xv,-1)\n",
    "    yv = np.reshape(yv,-1)\n",
    "    xixv = np.reshape(xixv,-1)\n",
    "    yixv = np.reshape(yixv,-1)\n",
    "    coords = np.column_stack([xv,yv])\n",
    "    mytree = spatial.cKDTree(coords)\n",
    "    radius = 5\n",
    "    #ix = mytree.query_ball_point(point, 5,return_sorted=None, return_length=False)\n",
    "    #print(ix)\n",
    "    for jj in range(len(yv)):\n",
    "        point = [xv[jj],yv[jj]]\n",
    "        ix = mytree.query_ball_point(point, radius,return_sorted=None, return_length=False)\n",
    "        # Compute the CFE and Store it into our xarray\n",
    "        yix,xix = np.unravel_index(ix,[len(cfe.y.values),len(cfe.x.values)])\n",
    "        tmpix1 = np.argwhere(chm.data[0,yix,xix]>=2)\n",
    "        tmpix2 = np.argwhere(chm.data[0,yix,xix]<2)\n",
    "        # Must check if empty\n",
    "        if not len(tmpix1):\n",
    "            cfe.data[0,yixv[jj],xixv[jj]] = 0\n",
    "        else:    \n",
    "            cfe.data[0,yixv[jj],xixv[jj]] = len(tmpix1)/(len(tmpix1)+len(tmpix2))\n",
    "        # This loop is if we want to do other stats with the searched data\n",
    "            #bin = []\n",
    "            #for kk in range(len(tmp)):\n",
    "            #    tmpix1 = tmpix1[kk][0]\n",
    "            #    tmpix2 = tmpix1[kk][1]\n",
    "            #    bin.append(chmb.data[0][tmpix1][tmpix2])\n",
    "else: # Load .tif Imagery\n",
    "    if isB:\n",
    "        in_tif = \"/home/jovyan/snow-sinking/data/CFE_20160926GMb_700x700_EPSG32612.tif\"\n",
    "    if isC:\n",
    "        in_tif = \"/home/jovyan/snow-sinking/data/CFE_20160926GMc_700x700_EPSG32612.tif\"\n",
    "    cfe= xarray.open_rasterio(in_tif)"
   ]
  },
  {
   "cell_type": "code",
   "execution_count": null,
   "id": "clinical-narrative",
   "metadata": {},
   "outputs": [],
   "source": [
    "# plot the CFE, setting the maximum color value to the maximum canopy height in the dataset\n",
    "fig3, ax3 = pyplot.subplots()\n",
    "pos3 = ax3.imshow(cfe.data[0,:,:], cmap='inferno', vmin=0, vmax=cfe.data.max())\n",
    "ax3.set_title('CFE Grand Mesa')\n",
    "fig3.colorbar(pos3, ax=ax3)"
   ]
  },
  {
   "cell_type": "code",
   "execution_count": null,
   "id": "turkish-generic",
   "metadata": {},
   "outputs": [],
   "source": [
    "if isKDTree:\n",
    "    epsg_code = int(cfe.crs[11:])\n",
    "    out_meta= ({\"driver\": \"GTiff\",\"dtype\": \"float32\", 'nodata': -3.4028230607370965e+38, \"width\": cfe.shape[2],\"height\": cfe.shape[1],\"count\": 1, \"transform\": cfe.transform,\"crs\": pycrs.parse.from_epsg_code(epsg_code).to_proj4()})"
   ]
  },
  {
   "cell_type": "code",
   "execution_count": null,
   "id": "acquired-cuisine",
   "metadata": {},
   "outputs": [],
   "source": [
    "if isB:\n",
    "    out_tif = \"/home/jovyan/snow-sinking/data/CFE_20160926GMb_700x700_EPSG32612.tif\"\n",
    "if isC:\n",
    "    out_tif = \"/home/jovyan/snow-sinking/data/CFE_20160926GMc_700x700_EPSG32612.tif\"\n",
    "    \n",
    "isWrite = 1    \n",
    "if isWrite:\n",
    "    with rasterio.open(out_tif, \"w\", **out_meta) as dest:\n",
    "        dest.write(cfe.data)"
   ]
  },
  {
   "cell_type": "code",
   "execution_count": null,
   "id": "educated-hudson",
   "metadata": {},
   "outputs": [],
   "source": [
    "CFE = xarray.open_rasterio(out_tif)\n",
    "CFE.coords"
   ]
  },
  {
   "cell_type": "code",
   "execution_count": null,
   "id": "musical-belle",
   "metadata": {},
   "outputs": [],
   "source": [
    "# plot the new SD map \n",
    "fig4, ax4 = pyplot.subplots()\n",
    "pos4 = ax4.imshow(CFE.data[0,:,:], cmap='inferno', vmin=0, vmax=np.max(CFE.data))\n",
    "ax4.set_title('GM CFE')\n",
    "fig4.colorbar(pos4, ax=ax4)"
   ]
  }
 ],
 "metadata": {
  "kernelspec": {
   "display_name": "Python 3",
   "language": "python",
   "name": "python3"
  },
  "language_info": {
   "codemirror_mode": {
    "name": "ipython",
    "version": 3
   },
   "file_extension": ".py",
   "mimetype": "text/x-python",
   "name": "python",
   "nbconvert_exporter": "python",
   "pygments_lexer": "ipython3",
   "version": "3.8.8"
  }
 },
 "nbformat": 4,
 "nbformat_minor": 5
}
