{
 "cells": [
  {
   "cell_type": "markdown",
   "id": "ambient-insured",
   "metadata": {},
   "source": [
    "# Tate's init\n",
    "\n",
    "Let's try some of the rasterio things that Micah Presented to get LiDAR Snow Depth at a few select pits."
   ]
  },
  {
   "cell_type": "code",
   "execution_count": null,
   "id": "egyptian-spiritual",
   "metadata": {},
   "outputs": [],
   "source": [
    "# Import the function to get connect to the db\n",
    "from snowexsql.db import get_db\n",
    "\n",
    "# This is what you will use for all of hackweek to access the db\n",
    "db_name = 'snow:hackweek@52.32.183.144/snowex'\n",
    "\n",
    "# Using the function get_db, we receive 2 ways to interact with the database\n",
    "engine, session = get_db(db_name)"
   ]
  },
  {
   "cell_type": "code",
   "execution_count": null,
   "id": "numerical-magic",
   "metadata": {},
   "outputs": [],
   "source": [
    "import matplotlib.pyplot as plt\n",
    "import numpy as np"
   ]
  },
  {
   "cell_type": "code",
   "execution_count": null,
   "id": "elegant-movie",
   "metadata": {},
   "outputs": [],
   "source": [
    "from snowexsql.data import ImageData\n",
    "\n",
    "# What will this return?\n",
    "result = session.query(ImageData.raster).limit(1).all()\n",
    "\n",
    "print(type(result[0][0]))"
   ]
  },
  {
   "cell_type": "code",
   "execution_count": null,
   "id": "transsexual-vegetation",
   "metadata": {},
   "outputs": [],
   "source": [
    "# import this to use define sql functions (e.g. postgis!)\n",
    "from sqlalchemy.sql import func \n",
    "\n",
    "# Import this to convert to a rasterio object for easy plotting\n",
    "from snowexsql.conversions import raster_to_rasterio \n",
    "\n",
    "# Import a convenient function to plot with \n",
    "from rasterio.plot import show"
   ]
  },
  {
   "cell_type": "code",
   "execution_count": null,
   "id": "empirical-length",
   "metadata": {},
   "outputs": [],
   "source": [
    "# import our pits metadata table class\n",
    "from snowexsql.data import SiteData\n",
    "from geoalchemy2.types import Raster\n",
    "import geoalchemy2.functions as gfunc\n",
    "from geoalchemy2.shape import to_shape\n",
    "\n",
    "session.rollback()\n",
    "\n",
    "# 1. Lets choose a site we want to grab a raster tile\n",
    "site_id = '5S31'\n",
    "\n",
    "# 2. Get the location of the pit, POSTGIS functions like to work in the text format of things so convert the point geom to text which is also in binary in the db   \n",
    "point = session.query(SiteData.geom).filter(SiteData.site_id == site_id).distinct().all()[0][0]\n",
    "\n",
    "# 3. Merge all the tiles together, note gfunc vs func. This is because ST_Union exists in two places in postgis for geom and rasters!\n",
    "base = gfunc.ST_Union(ImageData.raster, _type=Raster)\n",
    "\n",
    "# 4. Get the merged result as a geotiff! \n",
    "base = func.ST_AsTiff(base)\n",
    "\n",
    "# 5. Filter by uavsar interferogram data\n",
    "#qry = session.query(base).filter(ImageData.type == 'insar interferogram real')\n",
    "qry = session.query(base).filter(ImageData.type == 'depth')\n",
    "\n",
    "\n",
    "# 6. Filter by a polarization in the description \n",
    "#qry = qry.filter(ImageData.description.contains('Polarization = HH'))\n",
    "\n",
    "# 7. Isolate tiles touching the pit location\n",
    "qry = qry.filter(func.ST_Intersects(ImageData.raster, point))\n",
    "\n",
    "print(qry.count())\n",
    "\n",
    "# 8. Execute, convert and plot! \n",
    "result = qry.all()\n",
    "datasets = raster_to_rasterio(session, result)\n",
    "numerical = datasets[0].read(1)\n",
    "#show(datasets[0], vmin=-0.02, vmax=0.02, cmap='Purples')\n",
    "show(datasets[0], vmin=0, vmax=1.5, cmap='gist_heat')\n"
   ]
  },
  {
   "cell_type": "code",
   "execution_count": null,
   "id": "young-satin",
   "metadata": {},
   "outputs": [],
   "source": []
  },
  {
   "cell_type": "code",
   "execution_count": null,
   "id": "latest-royal",
   "metadata": {},
   "outputs": [],
   "source": [
    "tmp = session.query(ImageData.type).distinct().all()\n",
    "print(tmp)\n",
    "tmp = session.query(ImageData.instrument).distinct().all()\n",
    "print(tmp)"
   ]
  },
  {
   "cell_type": "code",
   "execution_count": null,
   "id": "moderate-taxation",
   "metadata": {},
   "outputs": [],
   "source": [
    "plt.hist(numerical[0], density=True, bins=20)  # density=False would make counts\n",
    "plt.ylabel('Probability')\n",
    "plt.xlabel('Depth');"
   ]
  },
  {
   "cell_type": "code",
   "execution_count": null,
   "id": "greatest-dayton",
   "metadata": {},
   "outputs": [],
   "source": [
    "datasets[0].bounds\n",
    "#tmp = datasets[0].xy(datasets[0].height // 2, datasets[0].width // 2)\n",
    "#tmp?"
   ]
  },
  {
   "cell_type": "code",
   "execution_count": null,
   "id": "acute-relations",
   "metadata": {},
   "outputs": [],
   "source": [
    "coords = []\n",
    "for i in range(0,datasets[0].width):\n",
    "    for j in range(0,datasets[0].height):\n",
    "        coords.append(datasets[0].xy(j, i))\n"
   ]
  },
  {
   "cell_type": "code",
   "execution_count": null,
   "id": "opening-genetics",
   "metadata": {},
   "outputs": [],
   "source": [
    "len(coords)==datasets[0].width*datasets[0].height\n",
    "coords[1000][0]*coords[1001][0]\n",
    "point\n",
    "shply_geom = to_shape(point)\n",
    "shply_geom.y"
   ]
  },
  {
   "cell_type": "code",
   "execution_count": null,
   "id": "durable-motion",
   "metadata": {},
   "outputs": [],
   "source": [
    "# Grab our pit geometry (position) object by provided site id from the site details table, Since there is multiple layers and dates we limit the request to 1\n",
    "qp = session.query(SiteData.geom).filter(SiteData.site_id == site_id).distinct().all()[0][0]\n",
    "point2 = session.query(qp[0].geom.ST_AsText()).all()\n",
    "print(point2)\n"
   ]
  },
  {
   "cell_type": "code",
   "execution_count": null,
   "id": "palestinian-uncle",
   "metadata": {},
   "outputs": [],
   "source": []
  }
 ],
 "metadata": {
  "kernelspec": {
   "display_name": "Python 3",
   "language": "python",
   "name": "python3"
  },
  "language_info": {
   "codemirror_mode": {
    "name": "ipython",
    "version": 3
   },
   "file_extension": ".py",
   "mimetype": "text/x-python",
   "name": "python",
   "nbconvert_exporter": "python",
   "pygments_lexer": "ipython3",
   "version": "3.8.8"
  }
 },
 "nbformat": 4,
 "nbformat_minor": 5
}
