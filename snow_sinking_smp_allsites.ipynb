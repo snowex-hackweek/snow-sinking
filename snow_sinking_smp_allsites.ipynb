{
 "cells": [
  {
   "cell_type": "markdown",
   "id": "deadly-lease",
   "metadata": {},
   "source": [
    "This is the smp file"
   ]
  },
  {
   "cell_type": "code",
   "execution_count": 1,
   "id": "periodic-correlation",
   "metadata": {},
   "outputs": [],
   "source": [
    "# Import the connection function from the snowexsql library\n",
    "from snowexsql.db import get_db\n",
    "\n",
    "# This is what you will use for all of hackweek to access the db\n",
    "db_name = 'snow:hackweek@52.32.183.144/snowex'\n",
    "\n",
    "# Using the function get_db, we receive 2 ways to interact with the database\n",
    "engine, session = get_db(db_name)\n",
    "# Import the layer table which is where SMP data lives\n",
    "from snowexsql.data import LayerData\n",
    "\n",
    "# Import our convenient tool to convert to geopandas dataframes\n",
    "from snowexsql.conversions import query_to_geopandas\n",
    "\n",
    "# A little matplotlib biz if you want to plot multiple plots in a loop\n",
    "import matplotlib.pyplot as plt \n",
    "\n",
    "# import geopandas lib to make a brand new GeoDataFrame to store your final results\n",
    "import geopandas as gpd \n",
    "\n",
    "import pandas as pd\n",
    "import numpy as np"
   ]
  },
  {
   "cell_type": "markdown",
   "id": "viral-strength",
   "metadata": {},
   "source": [
    "Generate some data frames to store the data"
   ]
  },
  {
   "cell_type": "code",
   "execution_count": 2,
   "id": "subjective-pound",
   "metadata": {},
   "outputs": [],
   "source": [
    "final_df = gpd.GeoDataFrame(columns = ['siteID','med_force','geom','sum10','sum50'])\n",
    "to_add_df = gpd.GeoDataFrame(columns = ['siteID','med_force','geom','sum10','sum50'])\n",
    "#print(final_df)"
   ]
  },
  {
   "cell_type": "markdown",
   "id": "banned-deployment",
   "metadata": {},
   "source": [
    "Find some SMP filenames"
   ]
  },
  {
   "cell_type": "code",
   "execution_count": 3,
   "id": "weekly-moscow",
   "metadata": {},
   "outputs": [],
   "source": [
    "site = '7C15'\n",
    "engine_smp, session_smp = get_db(db_name)\n",
    "q_smp = session_smp.query(LayerData).filter(LayerData.type == 'force').filter(LayerData.site_id.contains(site) )\n",
    "df_smp = query_to_geopandas(q_smp, engine_smp)\n",
    "\n",
    "q_pit=session_smp.query(LayerData).filter(LayerData.type == 'hand_hardness').filter(LayerData.site_id.contains(site) )\n",
    "df_pit = query_to_geopandas(q_pit, engine_smp)\n",
    "\n",
    "session_smp.close()\n",
    "\n",
    "# # Plot SMP profile locations with colored by the time they were taken using upside down triangles\n",
    "# ax = df_smp.plot(column='time', cmap='jet', marker='v', label='SMP', figsize=(5,5), markersize=100, edgecolor='black')\n",
    "\n",
    "# ax.plot(df_pit.easting, df_pit.northing, color='black', marker='s', markersize=15, label='Pit ({})'.format(site))\n",
    "\n",
    "# # Add important labels\n",
    "# ax.set_xlabel('Easting [m]')\n",
    "# ax.set_ylabel('Northing [m]')\n",
    "# plt.suptitle('SMP Locations at Site {} Showing Acquisition Order'.format(site), fontsize=16)\n",
    "\n",
    "# # Avoid using Scientific notation for coords.\n",
    "# ax.ticklabel_format(style='plain', useOffset=False)\n",
    "# ax.legend()\n",
    "# # plt.tight_layout()\n",
    "# plt.show()"
   ]
  },
  {
   "cell_type": "code",
   "execution_count": 4,
   "id": "conventional-caution",
   "metadata": {},
   "outputs": [
    {
     "data": {
      "text/html": [
       "<div>\n",
       "<style scoped>\n",
       "    .dataframe tbody tr th:only-of-type {\n",
       "        vertical-align: middle;\n",
       "    }\n",
       "\n",
       "    .dataframe tbody tr th {\n",
       "        vertical-align: top;\n",
       "    }\n",
       "\n",
       "    .dataframe thead th {\n",
       "        text-align: right;\n",
       "    }\n",
       "</style>\n",
       "<table border=\"1\" class=\"dataframe\">\n",
       "  <thead>\n",
       "    <tr style=\"text-align: right;\">\n",
       "      <th></th>\n",
       "      <th>comments</th>\n",
       "      <th>dists</th>\n",
       "    </tr>\n",
       "  </thead>\n",
       "  <tbody>\n",
       "    <tr>\n",
       "      <th>21313</th>\n",
       "      <td>fname = SNEX20_SMP_S06M0831_7C15_20200130.CSV,...</td>\n",
       "      <td>2.325973</td>\n",
       "    </tr>\n",
       "    <tr>\n",
       "      <th>16703</th>\n",
       "      <td>fname = SNEX20_SMP_S06M0833_7C15_20200130.CSV,...</td>\n",
       "      <td>2.604038</td>\n",
       "    </tr>\n",
       "    <tr>\n",
       "      <th>9109</th>\n",
       "      <td>fname = SNEX20_SMP_S06M0832_7C15_20200130.CSV,...</td>\n",
       "      <td>3.695795</td>\n",
       "    </tr>\n",
       "    <tr>\n",
       "      <th>1546</th>\n",
       "      <td>fname = SNEX20_SMP_S06M0835_7C15_20200130.CSV,...</td>\n",
       "      <td>5.091385</td>\n",
       "    </tr>\n",
       "    <tr>\n",
       "      <th>24394</th>\n",
       "      <td>fname = SNEX20_SMP_S06M0836_7C15_20200130.CSV,...</td>\n",
       "      <td>5.283580</td>\n",
       "    </tr>\n",
       "  </tbody>\n",
       "</table>\n",
       "</div>"
      ],
      "text/plain": [
       "                                                comments     dists\n",
       "21313  fname = SNEX20_SMP_S06M0831_7C15_20200130.CSV,...  2.325973\n",
       "16703  fname = SNEX20_SMP_S06M0833_7C15_20200130.CSV,...  2.604038\n",
       "9109   fname = SNEX20_SMP_S06M0832_7C15_20200130.CSV,...  3.695795\n",
       "1546   fname = SNEX20_SMP_S06M0835_7C15_20200130.CSV,...  5.091385\n",
       "24394  fname = SNEX20_SMP_S06M0836_7C15_20200130.CSV,...  5.283580"
      ]
     },
     "execution_count": 4,
     "metadata": {},
     "output_type": "execute_result"
    }
   ],
   "source": [
    "# find closest SMP profile to the pit\n",
    "\n",
    "# No profile is taken at the same time, so we grab all the unique times and sort them\n",
    "times = sorted(df_smp['time'].unique())\n",
    "\n",
    "nprofiles=len(times)\n",
    "\n",
    "ids=np.empty(nprofiles)\n",
    "\n",
    "p=0\n",
    "for t in times:\n",
    "    ind = df_smp['time'] == t\n",
    "    data = df_smp.loc[ind].copy()\n",
    "    ids[p]=data.iloc[0].id\n",
    "    p+=1\n",
    "    \n",
    "i_dists=df_smp['id'].isin(ids)\n",
    "\n",
    "df_smp_dists=df_smp.loc[i_dists]\n",
    "df_smp_dists=df_smp_dists.assign(dists=-1)\n",
    "df_smp_dists['dists']=np.sqrt((df_smp_dists['easting']-df_pit.iloc[0].easting)**2+(df_smp_dists['northing']-df_pit.iloc[0].northing)**2)\n",
    "\n",
    "    \n",
    "df_smp_dists.sort_values(by='dists')[['comments','dists']].head() #check out the list of profiles sorted by distance to pit"
   ]
  },
  {
   "cell_type": "markdown",
   "id": "extreme-means",
   "metadata": {},
   "source": [
    "Plot the raw data for one of the files"
   ]
  },
  {
   "cell_type": "code",
   "execution_count": 5,
   "id": "ethical-knight",
   "metadata": {},
   "outputs": [
    {
     "data": {
      "image/png": "[encoded data removed]",
      "text/plain": [
       "<Figure size 432x288 with 1 Axes>"
      ]
     },
     "metadata": {
      "needs_background": "light"
     },
     "output_type": "display_data"
    }
   ],
   "source": [
    "filenames = ['SNEX20_SMP_S06M0831_7C15_20200130.CSV']\n",
    "\n",
    "for f in filenames:\n",
    "    # Grab any layer data that has the file name in its comments\n",
    "    qry = session.query(LayerData).filter(LayerData.comments.contains(f)).order_by('depth')\n",
    "\n",
    "    # build a geopandas dataframe from the query\n",
    "    df = query_to_geopandas(qry, engine)\n",
    "\n",
    "    # Everything in the layers table is a string so we need to cast our value column as a float to calc stats on it\n",
    "    df['value'] = df['value'].astype(float)\n",
    "\n",
    "    # plot biz plot the profile vertically.\n",
    "    fig, axes = plt.subplots(1)\n",
    "    axes.plot(df['value'], df['depth'])"
   ]
  },
  {
   "cell_type": "markdown",
   "id": "metropolitan-botswana",
   "metadata": {},
   "source": [
    "Manually input the snow surface and ground values"
   ]
  },
  {
   "cell_type": "code",
   "execution_count": 6,
   "id": "appreciated-platform",
   "metadata": {},
   "outputs": [],
   "source": [
    "surface = 0\n",
    "ground = -65"
   ]
  },
  {
   "cell_type": "markdown",
   "id": "chicken-synthesis",
   "metadata": {},
   "source": [
    "Find the median between the surface and ground, the sum of force measurements in the first 10 and 50 cm, plot the filtered data, and add data to the data frame"
   ]
  },
  {
   "cell_type": "code",
   "execution_count": 9,
   "id": "divided-rehabilitation",
   "metadata": {},
   "outputs": [
    {
     "name": "stdout",
     "output_type": "stream",
     "text": [
      "0.169\n",
      "31.749000000000002\n",
      "289.4200000000001\n",
      "  siteID  med_force                            geom   sum10   sum50\n",
      "0   7C15      0.169  POINT (742674.870 4325579.843)  31.749  289.42\n"
     ]
    },
    {
     "data": {
      "image/png": "[encoded data removed]",
      "text/plain": [
       "<Figure size 432x288 with 1 Axes>"
      ]
     },
     "metadata": {
      "needs_background": "light"
     },
     "output_type": "display_data"
    }
   ],
   "source": [
    "#Threshold for surface and ground\n",
    "ind =  (df['depth'] < surface) & (df['depth'] > ground)\n",
    "ind_10cm = (df['depth'] < surface) & (df['depth'] > (surface - 10))\n",
    "ind_50cm = (df['depth'] < surface) & (df['depth'] > (surface - 50))\n",
    "\n",
    "# Print out a stat\n",
    "median = df[ind]['value'].median()\n",
    "print(median)\n",
    "\n",
    "sum10 = df[ind_10cm]['value'].sum()\n",
    "print(sum10)\n",
    "\n",
    "sum50 =  df[ind_50cm]['value'].sum()\n",
    "print(sum50)\n",
    "\n",
    "\n",
    "# plot biz plot the profile vertically.\n",
    "fig, axes = plt.subplots(1)\n",
    "axes.plot(df[ind]['value'], df[ind]['depth'])\n",
    "\n",
    "# fig, axes = plt.subplots(1)\n",
    "# axes.plot(df[ind_50cm]['value'], df[ind_50cm]['depth'])\n",
    "\n",
    "# add median force and location to a dataframe\n",
    "final_df['geom'] = df['geom'].unique() # Which should only be one location\n",
    "final_df['med_force'] = df[ind]['value'].median()   \n",
    "final_df['sum10'] = sum10\n",
    "final_df['sum50'] = sum50\n",
    "final_df['siteID'] = site\n",
    "print(final_df)"
   ]
  },
  {
   "cell_type": "code",
   "execution_count": 10,
   "id": "figured-transcription",
   "metadata": {},
   "outputs": [],
   "source": [
    "site = '8C11'"
   ]
  },
  {
   "cell_type": "code",
   "execution_count": 11,
   "id": "alpine-spank",
   "metadata": {
    "collapsed": true,
    "jupyter": {
     "outputs_hidden": true,
     "source_hidden": true
    }
   },
   "outputs": [
    {
     "data": {
      "text/html": [
       "<div>\n",
       "<style scoped>\n",
       "    .dataframe tbody tr th:only-of-type {\n",
       "        vertical-align: middle;\n",
       "    }\n",
       "\n",
       "    .dataframe tbody tr th {\n",
       "        vertical-align: top;\n",
       "    }\n",
       "\n",
       "    .dataframe thead th {\n",
       "        text-align: right;\n",
       "    }\n",
       "</style>\n",
       "<table border=\"1\" class=\"dataframe\">\n",
       "  <thead>\n",
       "    <tr style=\"text-align: right;\">\n",
       "      <th></th>\n",
       "      <th>comments</th>\n",
       "      <th>dists</th>\n",
       "    </tr>\n",
       "  </thead>\n",
       "  <tbody>\n",
       "    <tr>\n",
       "      <th>8968</th>\n",
       "      <td>fname = SNEX20_SMP_S19M1158_8C11_20200205.CSV,...</td>\n",
       "      <td>3.400473</td>\n",
       "    </tr>\n",
       "    <tr>\n",
       "      <th>0</th>\n",
       "      <td>fname = SNEX20_SMP_S19M1157_8C11_20200205.CSV,...</td>\n",
       "      <td>5.215657</td>\n",
       "    </tr>\n",
       "    <tr>\n",
       "      <th>1868</th>\n",
       "      <td>fname = SNEX20_SMP_S19M1159_8C11_20200205.CSV,...</td>\n",
       "      <td>5.655628</td>\n",
       "    </tr>\n",
       "    <tr>\n",
       "      <th>27</th>\n",
       "      <td>fname = SNEX20_SMP_S19M1160_8C11_20200205.CSV,...</td>\n",
       "      <td>10.698246</td>\n",
       "    </tr>\n",
       "    <tr>\n",
       "      <th>11388</th>\n",
       "      <td>fname = SNEX20_SMP_S19M1161_8C11_20200205.CSV,...</td>\n",
       "      <td>20.472399</td>\n",
       "    </tr>\n",
       "  </tbody>\n",
       "</table>\n",
       "</div>"
      ],
      "text/plain": [
       "                                                comments      dists\n",
       "8968   fname = SNEX20_SMP_S19M1158_8C11_20200205.CSV,...   3.400473\n",
       "0      fname = SNEX20_SMP_S19M1157_8C11_20200205.CSV,...   5.215657\n",
       "1868   fname = SNEX20_SMP_S19M1159_8C11_20200205.CSV,...   5.655628\n",
       "27     fname = SNEX20_SMP_S19M1160_8C11_20200205.CSV,...  10.698246\n",
       "11388  fname = SNEX20_SMP_S19M1161_8C11_20200205.CSV,...  20.472399"
      ]
     },
     "execution_count": 11,
     "metadata": {},
     "output_type": "execute_result"
    }
   ],
   "source": [
    "\n",
    "engine_smp, session_smp = get_db(db_name)\n",
    "q_smp = session_smp.query(LayerData).filter(LayerData.type == 'force').filter(LayerData.site_id.contains(site) )\n",
    "df_smp = query_to_geopandas(q_smp, engine_smp)\n",
    "\n",
    "q_pit=session_smp.query(LayerData).filter(LayerData.type == 'hand_hardness').filter(LayerData.site_id.contains(site) )\n",
    "df_pit = query_to_geopandas(q_pit, engine_smp)\n",
    "\n",
    "session_smp.close()\n",
    "\n",
    "# # Plot SMP profile locations with colored by the time they were taken using upside down triangles\n",
    "# ax = df_smp.plot(column='time', cmap='jet', marker='v', label='SMP', figsize=(5,5), markersize=100, edgecolor='black')\n",
    "\n",
    "# ax.plot(df_pit.easting, df_pit.northing, color='black', marker='s', markersize=15, label='Pit ({})'.format(site))\n",
    "\n",
    "# # Add important labels\n",
    "# ax.set_xlabel('Easting [m]')\n",
    "# ax.set_ylabel('Northing [m]')\n",
    "# plt.suptitle('SMP Locations at Site {} Showing Acquisition Order'.format(site), fontsize=16)\n",
    "\n",
    "# # Avoid using Scientific notation for coords.\n",
    "# ax.ticklabel_format(style='plain', useOffset=False)\n",
    "# ax.legend()\n",
    "# # plt.tight_layout()\n",
    "# plt.show()\n",
    "\n",
    "# find closest SMP profile to the pit\n",
    "\n",
    "# No profile is taken at the same time, so we grab all the unique times and sort them\n",
    "times = sorted(df_smp['time'].unique())\n",
    "\n",
    "nprofiles=len(times)\n",
    "\n",
    "ids=np.empty(nprofiles)\n",
    "\n",
    "p=0\n",
    "for t in times:\n",
    "    ind = df_smp['time'] == t\n",
    "    data = df_smp.loc[ind].copy()\n",
    "    ids[p]=data.iloc[0].id\n",
    "    p+=1\n",
    "    \n",
    "i_dists=df_smp['id'].isin(ids)\n",
    "\n",
    "df_smp_dists=df_smp.loc[i_dists]\n",
    "df_smp_dists=df_smp_dists.assign(dists=-1)\n",
    "df_smp_dists['dists']=np.sqrt((df_smp_dists['easting']-df_pit.iloc[0].easting)**2+(df_smp_dists['northing']-df_pit.iloc[0].northing)**2)\n",
    "\n",
    "    \n",
    "df_smp_dists.sort_values(by='dists')[['comments','dists']].head() #check out the list of profiles sorted by distance to pit"
   ]
  },
  {
   "cell_type": "code",
   "execution_count": 12,
   "id": "delayed-restriction",
   "metadata": {
    "jupyter": {
     "source_hidden": true
    }
   },
   "outputs": [
    {
     "data": {
      "image/png": "[encoded data removed]",
      "text/plain": [
       "<Figure size 432x288 with 1 Axes>"
      ]
     },
     "metadata": {
      "needs_background": "light"
     },
     "output_type": "display_data"
    }
   ],
   "source": [
    "filenames = ['SNEX20_SMP_S19M1158_8C11_20200205.CSV']\n",
    "\n",
    "for f in filenames:\n",
    "    # Grab any layer data that has the file name in its comments\n",
    "    qry = session.query(LayerData).filter(LayerData.comments.contains(f)).order_by('depth')\n",
    "\n",
    "    # build a geopandas dataframe from the query\n",
    "    df = query_to_geopandas(qry, engine)\n",
    "\n",
    "    # Everything in the layers table is a string so we need to cast our value column as a float to calc stats on it\n",
    "    df['value'] = df['value'].astype(float)\n",
    "\n",
    "    # plot biz plot the profile vertically.\n",
    "    fig, axes = plt.subplots(1)\n",
    "    axes.plot(df['value'], df['depth'])"
   ]
  },
  {
   "cell_type": "code",
   "execution_count": 13,
   "id": "creative-bangkok",
   "metadata": {
    "jupyter": {
     "source_hidden": true
    }
   },
   "outputs": [],
   "source": [
    "surface = -10\n",
    "ground = -105"
   ]
  },
  {
   "cell_type": "code",
   "execution_count": 14,
   "id": "integrated-emission",
   "metadata": {
    "collapsed": true,
    "jupyter": {
     "outputs_hidden": true,
     "source_hidden": true
    }
   },
   "outputs": [
    {
     "name": "stdout",
     "output_type": "stream",
     "text": [
      "0.256\n",
      "45.370999999999995\n",
      "436.65799999999996\n",
      "  siteID  med_force                            geom   sum10    sum50\n",
      "0   8C11      0.256  POINT (741936.919 4326490.807)  45.371  436.658\n"
     ]
    },
    {
     "data": {
      "image/png": "[encoded data removed]",
      "text/plain": [
       "<Figure size 432x288 with 1 Axes>"
      ]
     },
     "metadata": {
      "needs_background": "light"
     },
     "output_type": "display_data"
    }
   ],
   "source": [
    "#Threshold for surface and ground\n",
    "ind =  (df['depth'] < surface) & (df['depth'] > ground)\n",
    "ind_10cm = (df['depth'] < surface) & (df['depth'] > (surface - 10))\n",
    "ind_50cm = (df['depth'] < surface) & (df['depth'] > (surface - 50))\n",
    "\n",
    "# Print out a stat\n",
    "median = df[ind]['value'].median()\n",
    "print(median)\n",
    "\n",
    "sum10 = df[ind_10cm]['value'].sum()\n",
    "print(sum10)\n",
    "\n",
    "sum50 =  df[ind_50cm]['value'].sum()\n",
    "print(sum50)\n",
    "\n",
    "\n",
    "# plot biz plot the profile vertically.\n",
    "fig, axes = plt.subplots(1)\n",
    "axes.plot(df[ind]['value'], df[ind]['depth'])\n",
    "\n",
    "# fig, axes = plt.subplots(1)\n",
    "# axes.plot(df[ind_50cm]['value'], df[ind_50cm]['depth'])\n",
    "\n",
    "# add median force and location to a dataframe\n",
    "to_add_df['geom'] = df['geom'].unique() # Which should only be one location\n",
    "to_add_df['med_force'] = df[ind]['value'].median()   \n",
    "to_add_df['sum10'] = sum10\n",
    "to_add_df['sum50'] = sum50\n",
    "to_add_df['siteID'] = site\n",
    "print(to_add_df)"
   ]
  },
  {
   "cell_type": "code",
   "execution_count": 14,
   "id": "insured-appointment",
   "metadata": {
    "collapsed": true,
    "jupyter": {
     "outputs_hidden": true,
     "source_hidden": true
    }
   },
   "outputs": [
    {
     "name": "stdout",
     "output_type": "stream",
     "text": [
      "0.26\n",
      "998.0989999999999\n",
      "   med_force                            geom\n",
      "0       0.26  POINT (742606.052 4322880.455)\n"
     ]
    },
    {
     "data": {
      "image/png": "[encoded data removed]",
      "text/plain": [
       "<Figure size 432x288 with 1 Axes>"
      ]
     },
     "metadata": {
      "needs_background": "light"
     },
     "output_type": "display_data"
    }
   ],
   "source": [
    "#Threshold for surface and ground\n",
    "ind =  (df['depth'] < surface) & (df['depth'] > ground)\n",
    "\n",
    "# Print out a stat\n",
    "median = df[ind]['value'].median()\n",
    "sum = df[ind]['value'].sum()\n",
    "print(median)\n",
    "print(sum)\n",
    "\n",
    "# plot biz plot the profile vertically.\n",
    "fig, axes = plt.subplots(1)\n",
    "axes.plot(df[ind]['value'], df[ind]['depth'])\n",
    "\n",
    "# add median force and location to a dataframe\n",
    "to_add_df['geom'] = df['geom'].unique() # Which should only be one location\n",
    "to_add_df['med_force'] = median\n",
    "print(to_add_df)"
   ]
  },
  {
   "cell_type": "code",
   "execution_count": 15,
   "id": "promotional-occurrence",
   "metadata": {
    "jupyter": {
     "source_hidden": true
    }
   },
   "outputs": [
    {
     "name": "stdout",
     "output_type": "stream",
     "text": [
      "  siteID  med_force                            geom   sum10    sum50\n",
      "0   7C15      0.169  POINT (742674.870 4325579.843)  31.749  289.420\n",
      "0   8C11      0.256  POINT (741936.919 4326490.807)  45.371  436.658\n"
     ]
    }
   ],
   "source": [
    "final_df = final_df.append(to_add_df)\n",
    "print(final_df)"
   ]
  },
  {
   "cell_type": "code",
   "execution_count": 16,
   "id": "quantitative-festival",
   "metadata": {},
   "outputs": [],
   "source": [
    "site = '8N38'"
   ]
  },
  {
   "cell_type": "code",
   "execution_count": 17,
   "id": "occupied-armor",
   "metadata": {},
   "outputs": [
    {
     "data": {
      "text/html": [
       "<div>\n",
       "<style scoped>\n",
       "    .dataframe tbody tr th:only-of-type {\n",
       "        vertical-align: middle;\n",
       "    }\n",
       "\n",
       "    .dataframe tbody tr th {\n",
       "        vertical-align: top;\n",
       "    }\n",
       "\n",
       "    .dataframe thead th {\n",
       "        text-align: right;\n",
       "    }\n",
       "</style>\n",
       "<table border=\"1\" class=\"dataframe\">\n",
       "  <thead>\n",
       "    <tr style=\"text-align: right;\">\n",
       "      <th></th>\n",
       "      <th>comments</th>\n",
       "      <th>dists</th>\n",
       "    </tr>\n",
       "  </thead>\n",
       "  <tbody>\n",
       "    <tr>\n",
       "      <th>19747</th>\n",
       "      <td>fname = SNEX20_SMP_S06M0851_8N38_20200130.CSV,...</td>\n",
       "      <td>2.438944</td>\n",
       "    </tr>\n",
       "    <tr>\n",
       "      <th>16674</th>\n",
       "      <td>fname = SNEX20_SMP_S06M0858_8N38_20200130.CSV,...</td>\n",
       "      <td>2.877528</td>\n",
       "    </tr>\n",
       "    <tr>\n",
       "      <th>27508</th>\n",
       "      <td>fname = SNEX20_SMP_S06M0860_8N38_20200130.CSV,...</td>\n",
       "      <td>2.920150</td>\n",
       "    </tr>\n",
       "    <tr>\n",
       "      <th>0</th>\n",
       "      <td>fname = SNEX20_SMP_S06M0859_8N38_20200130.CSV,...</td>\n",
       "      <td>3.490924</td>\n",
       "    </tr>\n",
       "    <tr>\n",
       "      <th>9000</th>\n",
       "      <td>fname = SNEX20_SMP_S06M0857_8N38_20200130.CSV,...</td>\n",
       "      <td>5.366407</td>\n",
       "    </tr>\n",
       "  </tbody>\n",
       "</table>\n",
       "</div>"
      ],
      "text/plain": [
       "                                                comments     dists\n",
       "19747  fname = SNEX20_SMP_S06M0851_8N38_20200130.CSV,...  2.438944\n",
       "16674  fname = SNEX20_SMP_S06M0858_8N38_20200130.CSV,...  2.877528\n",
       "27508  fname = SNEX20_SMP_S06M0860_8N38_20200130.CSV,...  2.920150\n",
       "0      fname = SNEX20_SMP_S06M0859_8N38_20200130.CSV,...  3.490924\n",
       "9000   fname = SNEX20_SMP_S06M0857_8N38_20200130.CSV,...  5.366407"
      ]
     },
     "execution_count": 17,
     "metadata": {},
     "output_type": "execute_result"
    }
   ],
   "source": [
    "\n",
    "engine_smp, session_smp = get_db(db_name)\n",
    "q_smp = session_smp.query(LayerData).filter(LayerData.type == 'force').filter(LayerData.site_id.contains(site) )\n",
    "df_smp = query_to_geopandas(q_smp, engine_smp)\n",
    "\n",
    "q_pit=session_smp.query(LayerData).filter(LayerData.type == 'hand_hardness').filter(LayerData.site_id.contains(site) )\n",
    "df_pit = query_to_geopandas(q_pit, engine_smp)\n",
    "\n",
    "session_smp.close()\n",
    "\n",
    "# # Plot SMP profile locations with colored by the time they were taken using upside down triangles\n",
    "# ax = df_smp.plot(column='time', cmap='jet', marker='v', label='SMP', figsize=(5,5), markersize=100, edgecolor='black')\n",
    "\n",
    "# ax.plot(df_pit.easting, df_pit.northing, color='black', marker='s', markersize=15, label='Pit ({})'.format(site))\n",
    "\n",
    "# # Add important labels\n",
    "# ax.set_xlabel('Easting [m]')\n",
    "# ax.set_ylabel('Northing [m]')\n",
    "# plt.suptitle('SMP Locations at Site {} Showing Acquisition Order'.format(site), fontsize=16)\n",
    "\n",
    "# # Avoid using Scientific notation for coords.\n",
    "# ax.ticklabel_format(style='plain', useOffset=False)\n",
    "# ax.legend()\n",
    "# # plt.tight_layout()\n",
    "# plt.show()\n",
    "\n",
    "# find closest SMP profile to the pit\n",
    "\n",
    "# No profile is taken at the same time, so we grab all the unique times and sort them\n",
    "times = sorted(df_smp['time'].unique())\n",
    "\n",
    "nprofiles=len(times)\n",
    "\n",
    "ids=np.empty(nprofiles)\n",
    "\n",
    "p=0\n",
    "for t in times:\n",
    "    ind = df_smp['time'] == t\n",
    "    data = df_smp.loc[ind].copy()\n",
    "    ids[p]=data.iloc[0].id\n",
    "    p+=1\n",
    "    \n",
    "i_dists=df_smp['id'].isin(ids)\n",
    "\n",
    "df_smp_dists=df_smp.loc[i_dists]\n",
    "df_smp_dists=df_smp_dists.assign(dists=-1)\n",
    "df_smp_dists['dists']=np.sqrt((df_smp_dists['easting']-df_pit.iloc[0].easting)**2+(df_smp_dists['northing']-df_pit.iloc[0].northing)**2)\n",
    "\n",
    "    \n",
    "df_smp_dists.sort_values(by='dists')[['comments','dists']].head() #check out the list of profiles sorted by distance to pit"
   ]
  },
  {
   "cell_type": "code",
   "execution_count": 18,
   "id": "adolescent-situation",
   "metadata": {},
   "outputs": [
    {
     "data": {
      "image/png": "[encoded data removed]",
      "text/plain": [
       "<Figure size 432x288 with 1 Axes>"
      ]
     },
     "metadata": {
      "needs_background": "light"
     },
     "output_type": "display_data"
    }
   ],
   "source": [
    "filenames = ['SNEX20_SMP_S06M0851_8N38_20200130.CSV']\n",
    "\n",
    "for f in filenames:\n",
    "    # Grab any layer data that has the file name in its comments\n",
    "    qry = session.query(LayerData).filter(LayerData.comments.contains(f)).order_by('depth')\n",
    "\n",
    "    # build a geopandas dataframe from the query\n",
    "    df = query_to_geopandas(qry, engine)\n",
    "\n",
    "    # Everything in the layers table is a string so we need to cast our value column as a float to calc stats on it\n",
    "    df['value'] = df['value'].astype(float)\n",
    "\n",
    "    # plot biz plot the profile vertically.\n",
    "    fig, axes = plt.subplots(1)\n",
    "    axes.plot(df['value'], df['depth'])"
   ]
  },
  {
   "cell_type": "code",
   "execution_count": 19,
   "id": "durable-sleep",
   "metadata": {},
   "outputs": [],
   "source": [
    "surface = 0\n",
    "ground = -65"
   ]
  },
  {
   "cell_type": "code",
   "execution_count": 20,
   "id": "wanted-shaft",
   "metadata": {},
   "outputs": [
    {
     "name": "stdout",
     "output_type": "stream",
     "text": [
      "0.162\n",
      "30.991\n",
      "224.32100000000003\n",
      "  siteID  med_force                            geom   sum10    sum50\n",
      "0   8N38      0.162  POINT (745305.410 4324000.404)  30.991  224.321\n"
     ]
    },
    {
     "data": {
      "image/png": "[encoded data removed]",
      "text/plain": [
       "<Figure size 432x288 with 1 Axes>"
      ]
     },
     "metadata": {
      "needs_background": "light"
     },
     "output_type": "display_data"
    }
   ],
   "source": [
    "#Threshold for surface and ground\n",
    "ind =  (df['depth'] < surface) & (df['depth'] > ground)\n",
    "ind_10cm = (df['depth'] < surface) & (df['depth'] > (surface - 10))\n",
    "ind_50cm = (df['depth'] < surface) & (df['depth'] > (surface - 50))\n",
    "\n",
    "# Print out a stat\n",
    "median = df[ind]['value'].median()\n",
    "print(median)\n",
    "\n",
    "sum10 = df[ind_10cm]['value'].sum()\n",
    "print(sum10)\n",
    "\n",
    "sum50 =  df[ind_50cm]['value'].sum()\n",
    "print(sum50)\n",
    "\n",
    "\n",
    "# plot biz plot the profile vertically.\n",
    "fig, axes = plt.subplots(1)\n",
    "axes.plot(df[ind]['value'], df[ind]['depth'])\n",
    "\n",
    "# fig, axes = plt.subplots(1)\n",
    "# axes.plot(df[ind_50cm]['value'], df[ind_50cm]['depth'])\n",
    "\n",
    "# add median force and location to a dataframe\n",
    "to_add_df['geom'] = df['geom'].unique() # Which should only be one location\n",
    "to_add_df['med_force'] = df[ind]['value'].median()   \n",
    "to_add_df['sum10'] = sum10\n",
    "to_add_df['sum50'] = sum50\n",
    "to_add_df['siteID'] = site\n",
    "print(to_add_df)"
   ]
  },
  {
   "cell_type": "code",
   "execution_count": 21,
   "id": "refined-worst",
   "metadata": {},
   "outputs": [
    {
     "name": "stdout",
     "output_type": "stream",
     "text": [
      "  siteID  med_force                            geom   sum10    sum50\n",
      "0   7C15      0.169  POINT (742674.870 4325579.843)  31.749  289.420\n",
      "0   8C11      0.256  POINT (741936.919 4326490.807)  45.371  436.658\n",
      "0   8N38      0.162  POINT (745305.410 4324000.404)  30.991  224.321\n"
     ]
    }
   ],
   "source": [
    "final_df = final_df.append(to_add_df)\n",
    "print(final_df)"
   ]
  },
  {
   "cell_type": "code",
   "execution_count": 22,
   "id": "unsigned-internship",
   "metadata": {},
   "outputs": [],
   "source": [
    "site = '9C16'"
   ]
  },
  {
   "cell_type": "code",
   "execution_count": 23,
   "id": "confirmed-penalty",
   "metadata": {},
   "outputs": [
    {
     "data": {
      "text/html": [
       "<div>\n",
       "<style scoped>\n",
       "    .dataframe tbody tr th:only-of-type {\n",
       "        vertical-align: middle;\n",
       "    }\n",
       "\n",
       "    .dataframe tbody tr th {\n",
       "        vertical-align: top;\n",
       "    }\n",
       "\n",
       "    .dataframe thead th {\n",
       "        text-align: right;\n",
       "    }\n",
       "</style>\n",
       "<table border=\"1\" class=\"dataframe\">\n",
       "  <thead>\n",
       "    <tr style=\"text-align: right;\">\n",
       "      <th></th>\n",
       "      <th>comments</th>\n",
       "      <th>dists</th>\n",
       "    </tr>\n",
       "  </thead>\n",
       "  <tbody>\n",
       "    <tr>\n",
       "      <th>37436</th>\n",
       "      <td>fname = SNEX20_SMP_S19M1152_9C16_20200205.CSV,...</td>\n",
       "      <td>0.775300</td>\n",
       "    </tr>\n",
       "    <tr>\n",
       "      <th>26198</th>\n",
       "      <td>fname = SNEX20_SMP_S19M1134_9C16_20200205.CSV,...</td>\n",
       "      <td>4.395946</td>\n",
       "    </tr>\n",
       "    <tr>\n",
       "      <th>14483</th>\n",
       "      <td>fname = SNEX20_SMP_S19M1150_9C16_20200205.CSV,...</td>\n",
       "      <td>5.511500</td>\n",
       "    </tr>\n",
       "    <tr>\n",
       "      <th>44667</th>\n",
       "      <td>fname = SNEX20_SMP_S19M1151_9C16_20200205.CSV,...</td>\n",
       "      <td>6.743118</td>\n",
       "    </tr>\n",
       "    <tr>\n",
       "      <th>31831</th>\n",
       "      <td>fname = SNEX20_SMP_S19M1145_9C16_20200205.CSV,...</td>\n",
       "      <td>9.301464</td>\n",
       "    </tr>\n",
       "  </tbody>\n",
       "</table>\n",
       "</div>"
      ],
      "text/plain": [
       "                                                comments     dists\n",
       "37436  fname = SNEX20_SMP_S19M1152_9C16_20200205.CSV,...  0.775300\n",
       "26198  fname = SNEX20_SMP_S19M1134_9C16_20200205.CSV,...  4.395946\n",
       "14483  fname = SNEX20_SMP_S19M1150_9C16_20200205.CSV,...  5.511500\n",
       "44667  fname = SNEX20_SMP_S19M1151_9C16_20200205.CSV,...  6.743118\n",
       "31831  fname = SNEX20_SMP_S19M1145_9C16_20200205.CSV,...  9.301464"
      ]
     },
     "execution_count": 23,
     "metadata": {},
     "output_type": "execute_result"
    }
   ],
   "source": [
    "\n",
    "engine_smp, session_smp = get_db(db_name)\n",
    "q_smp = session_smp.query(LayerData).filter(LayerData.type == 'force').filter(LayerData.site_id.contains(site) )\n",
    "df_smp = query_to_geopandas(q_smp, engine_smp)\n",
    "\n",
    "q_pit=session_smp.query(LayerData).filter(LayerData.type == 'hand_hardness').filter(LayerData.site_id.contains(site) )\n",
    "df_pit = query_to_geopandas(q_pit, engine_smp)\n",
    "\n",
    "session_smp.close()\n",
    "\n",
    "# # Plot SMP profile locations with colored by the time they were taken using upside down triangles\n",
    "# ax = df_smp.plot(column='time', cmap='jet', marker='v', label='SMP', figsize=(5,5), markersize=100, edgecolor='black')\n",
    "\n",
    "# ax.plot(df_pit.easting, df_pit.northing, color='black', marker='s', markersize=15, label='Pit ({})'.format(site))\n",
    "\n",
    "# # Add important labels\n",
    "# ax.set_xlabel('Easting [m]')\n",
    "# ax.set_ylabel('Northing [m]')\n",
    "# plt.suptitle('SMP Locations at Site {} Showing Acquisition Order'.format(site), fontsize=16)\n",
    "\n",
    "# # Avoid using Scientific notation for coords.\n",
    "# ax.ticklabel_format(style='plain', useOffset=False)\n",
    "# ax.legend()\n",
    "# # plt.tight_layout()\n",
    "# plt.show()\n",
    "\n",
    "# find closest SMP profile to the pit\n",
    "\n",
    "# No profile is taken at the same time, so we grab all the unique times and sort them\n",
    "times = sorted(df_smp['time'].unique())\n",
    "\n",
    "nprofiles=len(times)\n",
    "\n",
    "ids=np.empty(nprofiles)\n",
    "\n",
    "p=0\n",
    "for t in times:\n",
    "    ind = df_smp['time'] == t\n",
    "    data = df_smp.loc[ind].copy()\n",
    "    ids[p]=data.iloc[0].id\n",
    "    p+=1\n",
    "    \n",
    "i_dists=df_smp['id'].isin(ids)\n",
    "\n",
    "df_smp_dists=df_smp.loc[i_dists]\n",
    "df_smp_dists=df_smp_dists.assign(dists=-1)\n",
    "df_smp_dists['dists']=np.sqrt((df_smp_dists['easting']-df_pit.iloc[0].easting)**2+(df_smp_dists['northing']-df_pit.iloc[0].northing)**2)\n",
    "\n",
    "    \n",
    "df_smp_dists.sort_values(by='dists')[['comments','dists']].head() #check out the list of profiles sorted by distance to pit"
   ]
  },
  {
   "cell_type": "code",
   "execution_count": 24,
   "id": "communist-conservation",
   "metadata": {},
   "outputs": [
    {
     "data": {
      "image/png": "[encoded data removed]",
      "text/plain": [
       "<Figure size 432x288 with 1 Axes>"
      ]
     },
     "metadata": {
      "needs_background": "light"
     },
     "output_type": "display_data"
    }
   ],
   "source": [
    "filenames = ['SNEX20_SMP_S19M1152_9C16_20200205.CSV']\n",
    "\n",
    "for f in filenames:\n",
    "    # Grab any layer data that has the file name in its comments\n",
    "    qry = session.query(LayerData).filter(LayerData.comments.contains(f)).order_by('depth')\n",
    "\n",
    "    # build a geopandas dataframe from the query\n",
    "    df = query_to_geopandas(qry, engine)\n",
    "\n",
    "    # Everything in the layers table is a string so we need to cast our value column as a float to calc stats on it\n",
    "    df['value'] = df['value'].astype(float)\n",
    "\n",
    "    # plot biz plot the profile vertically.\n",
    "    fig, axes = plt.subplots(1)\n",
    "    axes.plot(df['value'], df['depth'])"
   ]
  },
  {
   "cell_type": "code",
   "execution_count": 26,
   "id": "other-equality",
   "metadata": {},
   "outputs": [],
   "source": [
    "surface = -10\n",
    "ground = -105"
   ]
  },
  {
   "cell_type": "code",
   "execution_count": 27,
   "id": "direct-creator",
   "metadata": {},
   "outputs": [
    {
     "name": "stdout",
     "output_type": "stream",
     "text": [
      "0.23\n",
      "28.169000000000004\n",
      "310.639\n",
      "  siteID  med_force                            geom   sum10    sum50\n",
      "0   9C16       0.23  POINT (742580.357 4325429.434)  28.169  310.639\n"
     ]
    },
    {
     "data": {
      "image/png": "[encoded data removed]",
      "text/plain": [
       "<Figure size 432x288 with 1 Axes>"
      ]
     },
     "metadata": {
      "needs_background": "light"
     },
     "output_type": "display_data"
    }
   ],
   "source": [
    "#Threshold for surface and ground\n",
    "ind =  (df['depth'] < surface) & (df['depth'] > ground)\n",
    "ind_10cm = (df['depth'] < surface) & (df['depth'] > (surface - 10))\n",
    "ind_50cm = (df['depth'] < surface) & (df['depth'] > (surface - 50))\n",
    "\n",
    "# Print out a stat\n",
    "median = df[ind]['value'].median()\n",
    "print(median)\n",
    "\n",
    "sum10 = df[ind_10cm]['value'].sum()\n",
    "print(sum10)\n",
    "\n",
    "sum50 =  df[ind_50cm]['value'].sum()\n",
    "print(sum50)\n",
    "\n",
    "\n",
    "# plot biz plot the profile vertically.\n",
    "fig, axes = plt.subplots(1)\n",
    "axes.plot(df[ind]['value'], df[ind]['depth'])\n",
    "\n",
    "# fig, axes = plt.subplots(1)\n",
    "# axes.plot(df[ind_50cm]['value'], df[ind_50cm]['depth'])\n",
    "\n",
    "# add median force and location to a dataframe\n",
    "to_add_df['geom'] = df['geom'].unique() # Which should only be one location\n",
    "to_add_df['med_force'] = df[ind]['value'].median()   \n",
    "to_add_df['sum10'] = sum10\n",
    "to_add_df['sum50'] = sum50\n",
    "to_add_df['siteID'] = site\n",
    "print(to_add_df)"
   ]
  },
  {
   "cell_type": "code",
   "execution_count": 28,
   "id": "rising-chambers",
   "metadata": {},
   "outputs": [
    {
     "name": "stdout",
     "output_type": "stream",
     "text": [
      "  siteID  med_force                            geom   sum10    sum50\n",
      "0   7C15      0.169  POINT (742674.870 4325579.843)  31.749  289.420\n",
      "0   8C11      0.256  POINT (741936.919 4326490.807)  45.371  436.658\n",
      "0   8N38      0.162  POINT (745305.410 4324000.404)  30.991  224.321\n",
      "0   9C16      0.230  POINT (742580.357 4325429.434)  28.169  310.639\n"
     ]
    }
   ],
   "source": [
    "final_df = final_df.append(to_add_df)\n",
    "print(final_df)"
   ]
  },
  {
   "cell_type": "code",
   "execution_count": 32,
   "id": "improving-invasion",
   "metadata": {},
   "outputs": [],
   "source": [
    "site = '9C17'"
   ]
  },
  {
   "cell_type": "code",
   "execution_count": 33,
   "id": "romantic-going",
   "metadata": {},
   "outputs": [
    {
     "data": {
      "text/html": [
       "<div>\n",
       "<style scoped>\n",
       "    .dataframe tbody tr th:only-of-type {\n",
       "        vertical-align: middle;\n",
       "    }\n",
       "\n",
       "    .dataframe tbody tr th {\n",
       "        vertical-align: top;\n",
       "    }\n",
       "\n",
       "    .dataframe thead th {\n",
       "        text-align: right;\n",
       "    }\n",
       "</style>\n",
       "<table border=\"1\" class=\"dataframe\">\n",
       "  <thead>\n",
       "    <tr style=\"text-align: right;\">\n",
       "      <th></th>\n",
       "      <th>comments</th>\n",
       "      <th>dists</th>\n",
       "    </tr>\n",
       "  </thead>\n",
       "  <tbody>\n",
       "    <tr>\n",
       "      <th>2927</th>\n",
       "      <td>fname = SNEX20_SMP_S06M0803_9C17_20200130.CSV,...</td>\n",
       "      <td>0.638982</td>\n",
       "    </tr>\n",
       "    <tr>\n",
       "      <th>13500</th>\n",
       "      <td>fname = SNEX20_SMP_S06M0805_9C17_20200130.CSV,...</td>\n",
       "      <td>2.062486</td>\n",
       "    </tr>\n",
       "    <tr>\n",
       "      <th>31724</th>\n",
       "      <td>fname = SNEX20_SMP_S06M0807_9C17_20200130.CSV,...</td>\n",
       "      <td>2.315540</td>\n",
       "    </tr>\n",
       "    <tr>\n",
       "      <th>12200</th>\n",
       "      <td>fname = SNEX20_SMP_S06M0808_9C17_20200130.CSV,...</td>\n",
       "      <td>2.315540</td>\n",
       "    </tr>\n",
       "    <tr>\n",
       "      <th>15133</th>\n",
       "      <td>fname = SNEX20_SMP_S06M0810_9C17_20200130.CSV,...</td>\n",
       "      <td>2.315540</td>\n",
       "    </tr>\n",
       "  </tbody>\n",
       "</table>\n",
       "</div>"
      ],
      "text/plain": [
       "                                                comments     dists\n",
       "2927   fname = SNEX20_SMP_S06M0803_9C17_20200130.CSV,...  0.638982\n",
       "13500  fname = SNEX20_SMP_S06M0805_9C17_20200130.CSV,...  2.062486\n",
       "31724  fname = SNEX20_SMP_S06M0807_9C17_20200130.CSV,...  2.315540\n",
       "12200  fname = SNEX20_SMP_S06M0808_9C17_20200130.CSV,...  2.315540\n",
       "15133  fname = SNEX20_SMP_S06M0810_9C17_20200130.CSV,...  2.315540"
      ]
     },
     "execution_count": 33,
     "metadata": {},
     "output_type": "execute_result"
    }
   ],
   "source": [
    "\n",
    "engine_smp, session_smp = get_db(db_name)\n",
    "q_smp = session_smp.query(LayerData).filter(LayerData.type == 'force').filter(LayerData.site_id.contains(site) )\n",
    "df_smp = query_to_geopandas(q_smp, engine_smp)\n",
    "\n",
    "q_pit=session_smp.query(LayerData).filter(LayerData.type == 'hand_hardness').filter(LayerData.site_id.contains(site) )\n",
    "df_pit = query_to_geopandas(q_pit, engine_smp)\n",
    "\n",
    "session_smp.close()\n",
    "\n",
    "# # Plot SMP profile locations with colored by the time they were taken using upside down triangles\n",
    "# ax = df_smp.plot(column='time', cmap='jet', marker='v', label='SMP', figsize=(5,5), markersize=100, edgecolor='black')\n",
    "\n",
    "# ax.plot(df_pit.easting, df_pit.northing, color='black', marker='s', markersize=15, label='Pit ({})'.format(site))\n",
    "\n",
    "# # Add important labels\n",
    "# ax.set_xlabel('Easting [m]')\n",
    "# ax.set_ylabel('Northing [m]')\n",
    "# plt.suptitle('SMP Locations at Site {} Showing Acquisition Order'.format(site), fontsize=16)\n",
    "\n",
    "# # Avoid using Scientific notation for coords.\n",
    "# ax.ticklabel_format(style='plain', useOffset=False)\n",
    "# ax.legend()\n",
    "# # plt.tight_layout()\n",
    "# plt.show()\n",
    "\n",
    "# find closest SMP profile to the pit\n",
    "\n",
    "# No profile is taken at the same time, so we grab all the unique times and sort them\n",
    "times = sorted(df_smp['time'].unique())\n",
    "\n",
    "nprofiles=len(times)\n",
    "\n",
    "ids=np.empty(nprofiles)\n",
    "\n",
    "p=0\n",
    "for t in times:\n",
    "    ind = df_smp['time'] == t\n",
    "    data = df_smp.loc[ind].copy()\n",
    "    ids[p]=data.iloc[0].id\n",
    "    p+=1\n",
    "    \n",
    "i_dists=df_smp['id'].isin(ids)\n",
    "\n",
    "df_smp_dists=df_smp.loc[i_dists]\n",
    "df_smp_dists=df_smp_dists.assign(dists=-1)\n",
    "df_smp_dists['dists']=np.sqrt((df_smp_dists['easting']-df_pit.iloc[0].easting)**2+(df_smp_dists['northing']-df_pit.iloc[0].northing)**2)\n",
    "\n",
    "    \n",
    "df_smp_dists.sort_values(by='dists')[['comments','dists']].head() #check out the list of profiles sorted by distance to pit"
   ]
  },
  {
   "cell_type": "code",
   "execution_count": 34,
   "id": "banner-radical",
   "metadata": {},
   "outputs": [
    {
     "data": {
      "image/png": "[encoded data removed]",
      "text/plain": [
       "<Figure size 432x288 with 1 Axes>"
      ]
     },
     "metadata": {
      "needs_background": "light"
     },
     "output_type": "display_data"
    }
   ],
   "source": [
    "filenames = ['SNEX20_SMP_S06M0803_9C17_20200130.CSV']\n",
    "\n",
    "for f in filenames:\n",
    "    # Grab any layer data that has the file name in its comments\n",
    "    qry = session.query(LayerData).filter(LayerData.comments.contains(f)).order_by('depth')\n",
    "\n",
    "    # build a geopandas dataframe from the query\n",
    "    df = query_to_geopandas(qry, engine)\n",
    "\n",
    "    # Everything in the layers table is a string so we need to cast our value column as a float to calc stats on it\n",
    "    df['value'] = df['value'].astype(float)\n",
    "\n",
    "    # plot biz plot the profile vertically.\n",
    "    fig, axes = plt.subplots(1)\n",
    "    axes.plot(df['value'], df['depth'])"
   ]
  },
  {
   "cell_type": "code",
   "execution_count": 35,
   "id": "bronze-company",
   "metadata": {},
   "outputs": [],
   "source": [
    "surface = 0\n",
    "ground = -65"
   ]
  },
  {
   "cell_type": "code",
   "execution_count": 36,
   "id": "speaking-updating",
   "metadata": {},
   "outputs": [
    {
     "name": "stdout",
     "output_type": "stream",
     "text": [
      "0.172\n",
      "39.661\n",
      "264.485\n",
      "  siteID  med_force                            geom   sum10    sum50\n",
      "0   9C17      0.172  POINT (743040.195 4324966.391)  39.661  264.485\n"
     ]
    },
    {
     "data": {
      "image/png": "[encoded data removed]",
      "text/plain": [
       "<Figure size 432x288 with 1 Axes>"
      ]
     },
     "metadata": {
      "needs_background": "light"
     },
     "output_type": "display_data"
    }
   ],
   "source": [
    "#Threshold for surface and ground\n",
    "ind =  (df['depth'] < surface) & (df['depth'] > ground)\n",
    "ind_10cm = (df['depth'] < surface) & (df['depth'] > (surface - 10))\n",
    "ind_50cm = (df['depth'] < surface) & (df['depth'] > (surface - 50))\n",
    "\n",
    "# Print out a stat\n",
    "median = df[ind]['value'].median()\n",
    "print(median)\n",
    "\n",
    "sum10 = df[ind_10cm]['value'].sum()\n",
    "print(sum10)\n",
    "\n",
    "sum50 =  df[ind_50cm]['value'].sum()\n",
    "print(sum50)\n",
    "\n",
    "\n",
    "# plot biz plot the profile vertically.\n",
    "fig, axes = plt.subplots(1)\n",
    "axes.plot(df[ind]['value'], df[ind]['depth'])\n",
    "\n",
    "# fig, axes = plt.subplots(1)\n",
    "# axes.plot(df[ind_50cm]['value'], df[ind_50cm]['depth'])\n",
    "\n",
    "# add median force and location to a dataframe\n",
    "to_add_df['geom'] = df['geom'].unique() # Which should only be one location\n",
    "to_add_df['med_force'] = df[ind]['value'].median()   \n",
    "to_add_df['sum10'] = sum10\n",
    "to_add_df['sum50'] = sum50\n",
    "to_add_df['siteID'] = site\n",
    "print(to_add_df)"
   ]
  },
  {
   "cell_type": "code",
   "execution_count": 37,
   "id": "roman-puppy",
   "metadata": {},
   "outputs": [
    {
     "name": "stdout",
     "output_type": "stream",
     "text": [
      "  siteID  med_force                            geom   sum10    sum50\n",
      "0   7C15      0.169  POINT (742674.870 4325579.843)  31.749  289.420\n",
      "0   8C11      0.256  POINT (741936.919 4326490.807)  45.371  436.658\n",
      "0   8N38      0.162  POINT (745305.410 4324000.404)  30.991  224.321\n",
      "0   9C16      0.230  POINT (742580.357 4325429.434)  28.169  310.639\n",
      "0   9C17      0.172  POINT (743040.195 4324966.391)  39.661  264.485\n"
     ]
    }
   ],
   "source": [
    "final_df = final_df.append(to_add_df)\n",
    "print(final_df)"
   ]
  },
  {
   "cell_type": "code",
   "execution_count": 38,
   "id": "elder-celebrity",
   "metadata": {},
   "outputs": [],
   "source": [
    "site = '2C12'"
   ]
  },
  {
   "cell_type": "code",
   "execution_count": 39,
   "id": "comprehensive-oregon",
   "metadata": {},
   "outputs": [
    {
     "data": {
      "text/html": [
       "<div>\n",
       "<style scoped>\n",
       "    .dataframe tbody tr th:only-of-type {\n",
       "        vertical-align: middle;\n",
       "    }\n",
       "\n",
       "    .dataframe tbody tr th {\n",
       "        vertical-align: top;\n",
       "    }\n",
       "\n",
       "    .dataframe thead th {\n",
       "        text-align: right;\n",
       "    }\n",
       "</style>\n",
       "<table border=\"1\" class=\"dataframe\">\n",
       "  <thead>\n",
       "    <tr style=\"text-align: right;\">\n",
       "      <th></th>\n",
       "      <th>comments</th>\n",
       "      <th>dists</th>\n",
       "    </tr>\n",
       "  </thead>\n",
       "  <tbody>\n",
       "    <tr>\n",
       "      <th>22761</th>\n",
       "      <td>fname = SNEX20_SMP_S19M1479_2C12_20200212.CSV,...</td>\n",
       "      <td>1.108941</td>\n",
       "    </tr>\n",
       "    <tr>\n",
       "      <th>2191</th>\n",
       "      <td>fname = SNEX20_SMP_S19M1484_2C12_20200212.CSV,...</td>\n",
       "      <td>14.920851</td>\n",
       "    </tr>\n",
       "    <tr>\n",
       "      <th>17437</th>\n",
       "      <td>fname = SNEX20_SMP_S19M1483_2C12_20200212.CSV,...</td>\n",
       "      <td>23.117949</td>\n",
       "    </tr>\n",
       "    <tr>\n",
       "      <th>14533</th>\n",
       "      <td>fname = SNEX20_SMP_S19M1490_2C12_20200212.CSV,...</td>\n",
       "      <td>26.086094</td>\n",
       "    </tr>\n",
       "    <tr>\n",
       "      <th>7031</th>\n",
       "      <td>fname = SNEX20_SMP_S19M1489_2C12_20200212.CSV,...</td>\n",
       "      <td>29.327493</td>\n",
       "    </tr>\n",
       "  </tbody>\n",
       "</table>\n",
       "</div>"
      ],
      "text/plain": [
       "                                                comments      dists\n",
       "22761  fname = SNEX20_SMP_S19M1479_2C12_20200212.CSV,...   1.108941\n",
       "2191   fname = SNEX20_SMP_S19M1484_2C12_20200212.CSV,...  14.920851\n",
       "17437  fname = SNEX20_SMP_S19M1483_2C12_20200212.CSV,...  23.117949\n",
       "14533  fname = SNEX20_SMP_S19M1490_2C12_20200212.CSV,...  26.086094\n",
       "7031   fname = SNEX20_SMP_S19M1489_2C12_20200212.CSV,...  29.327493"
      ]
     },
     "execution_count": 39,
     "metadata": {},
     "output_type": "execute_result"
    }
   ],
   "source": [
    "\n",
    "engine_smp, session_smp = get_db(db_name)\n",
    "q_smp = session_smp.query(LayerData).filter(LayerData.type == 'force').filter(LayerData.site_id.contains(site) )\n",
    "df_smp = query_to_geopandas(q_smp, engine_smp)\n",
    "\n",
    "q_pit=session_smp.query(LayerData).filter(LayerData.type == 'hand_hardness').filter(LayerData.site_id.contains(site) )\n",
    "df_pit = query_to_geopandas(q_pit, engine_smp)\n",
    "\n",
    "session_smp.close()\n",
    "\n",
    "# # Plot SMP profile locations with colored by the time they were taken using upside down triangles\n",
    "# ax = df_smp.plot(column='time', cmap='jet', marker='v', label='SMP', figsize=(5,5), markersize=100, edgecolor='black')\n",
    "\n",
    "# ax.plot(df_pit.easting, df_pit.northing, color='black', marker='s', markersize=15, label='Pit ({})'.format(site))\n",
    "\n",
    "# # Add important labels\n",
    "# ax.set_xlabel('Easting [m]')\n",
    "# ax.set_ylabel('Northing [m]')\n",
    "# plt.suptitle('SMP Locations at Site {} Showing Acquisition Order'.format(site), fontsize=16)\n",
    "\n",
    "# # Avoid using Scientific notation for coords.\n",
    "# ax.ticklabel_format(style='plain', useOffset=False)\n",
    "# ax.legend()\n",
    "# # plt.tight_layout()\n",
    "# plt.show()\n",
    "\n",
    "# find closest SMP profile to the pit\n",
    "\n",
    "# No profile is taken at the same time, so we grab all the unique times and sort them\n",
    "times = sorted(df_smp['time'].unique())\n",
    "\n",
    "nprofiles=len(times)\n",
    "\n",
    "ids=np.empty(nprofiles)\n",
    "\n",
    "p=0\n",
    "for t in times:\n",
    "    ind = df_smp['time'] == t\n",
    "    data = df_smp.loc[ind].copy()\n",
    "    ids[p]=data.iloc[0].id\n",
    "    p+=1\n",
    "    \n",
    "i_dists=df_smp['id'].isin(ids)\n",
    "\n",
    "df_smp_dists=df_smp.loc[i_dists]\n",
    "df_smp_dists=df_smp_dists.assign(dists=-1)\n",
    "df_smp_dists['dists']=np.sqrt((df_smp_dists['easting']-df_pit.iloc[0].easting)**2+(df_smp_dists['northing']-df_pit.iloc[0].northing)**2)\n",
    "\n",
    "    \n",
    "df_smp_dists.sort_values(by='dists')[['comments','dists']].head() #check out the list of profiles sorted by distance to pit"
   ]
  },
  {
   "cell_type": "code",
   "execution_count": 40,
   "id": "written-morris",
   "metadata": {},
   "outputs": [
    {
     "data": {
      "image/png": "[encoded data removed]",
      "text/plain": [
       "<Figure size 432x288 with 1 Axes>"
      ]
     },
     "metadata": {
      "needs_background": "light"
     },
     "output_type": "display_data"
    }
   ],
   "source": [
    "filenames = ['SNEX20_SMP_S19M1479_2C12_20200212.CSV']\n",
    "\n",
    "for f in filenames:\n",
    "    # Grab any layer data that has the file name in its comments\n",
    "    qry = session.query(LayerData).filter(LayerData.comments.contains(f)).order_by('depth')\n",
    "\n",
    "    # build a geopandas dataframe from the query\n",
    "    df = query_to_geopandas(qry, engine)\n",
    "\n",
    "    # Everything in the layers table is a string so we need to cast our value column as a float to calc stats on it\n",
    "    df['value'] = df['value'].astype(float)\n",
    "\n",
    "    # plot biz plot the profile vertically.\n",
    "    fig, axes = plt.subplots(1)\n",
    "    axes.plot(df['value'], df['depth'])"
   ]
  },
  {
   "cell_type": "code",
   "execution_count": 41,
   "id": "deluxe-redhead",
   "metadata": {},
   "outputs": [],
   "source": [
    "surface = -15\n",
    "ground = -90"
   ]
  },
  {
   "cell_type": "code",
   "execution_count": 42,
   "id": "aerial-forum",
   "metadata": {},
   "outputs": [
    {
     "name": "stdout",
     "output_type": "stream",
     "text": [
      "0.413\n",
      "66.578\n",
      "1411.966\n",
      "  siteID  med_force                            geom   sum10     sum50\n",
      "0   2C12      0.413  POINT (742228.807 4326412.908)  66.578  1411.966\n"
     ]
    },
    {
     "data": {
      "image/png": "[encoded data removed]",
      "text/plain": [
       "<Figure size 432x288 with 1 Axes>"
      ]
     },
     "metadata": {
      "needs_background": "light"
     },
     "output_type": "display_data"
    }
   ],
   "source": [
    "#Threshold for surface and ground\n",
    "ind =  (df['depth'] < surface) & (df['depth'] > ground)\n",
    "ind_10cm = (df['depth'] < surface) & (df['depth'] > (surface - 10))\n",
    "ind_50cm = (df['depth'] < surface) & (df['depth'] > (surface - 50))\n",
    "\n",
    "# Print out a stat\n",
    "median = df[ind]['value'].median()\n",
    "print(median)\n",
    "\n",
    "sum10 = df[ind_10cm]['value'].sum()\n",
    "print(sum10)\n",
    "\n",
    "sum50 =  df[ind_50cm]['value'].sum()\n",
    "print(sum50)\n",
    "\n",
    "\n",
    "# plot biz plot the profile vertically.\n",
    "fig, axes = plt.subplots(1)\n",
    "axes.plot(df[ind]['value'], df[ind]['depth'])\n",
    "\n",
    "# fig, axes = plt.subplots(1)\n",
    "# axes.plot(df[ind_50cm]['value'], df[ind_50cm]['depth'])\n",
    "\n",
    "# add median force and location to a dataframe\n",
    "to_add_df['geom'] = df['geom'].unique() # Which should only be one location\n",
    "to_add_df['med_force'] = df[ind]['value'].median()   \n",
    "to_add_df['sum10'] = sum10\n",
    "to_add_df['sum50'] = sum50\n",
    "to_add_df['siteID'] = site\n",
    "print(to_add_df)"
   ]
  },
  {
   "cell_type": "code",
   "execution_count": 43,
   "id": "intermediate-livestock",
   "metadata": {},
   "outputs": [
    {
     "name": "stdout",
     "output_type": "stream",
     "text": [
      "  siteID  med_force                            geom   sum10     sum50\n",
      "0   7C15      0.169  POINT (742674.870 4325579.843)  31.749   289.420\n",
      "0   8C11      0.256  POINT (741936.919 4326490.807)  45.371   436.658\n",
      "0   8N38      0.162  POINT (745305.410 4324000.404)  30.991   224.321\n",
      "0   9C16      0.230  POINT (742580.357 4325429.434)  28.169   310.639\n",
      "0   9C17      0.172  POINT (743040.195 4324966.391)  39.661   264.485\n",
      "0   2C12      0.413  POINT (742228.807 4326412.908)  66.578  1411.966\n"
     ]
    }
   ],
   "source": [
    "final_df = final_df.append(to_add_df)\n",
    "print(final_df)"
   ]
  },
  {
   "cell_type": "code",
   "execution_count": 44,
   "id": "quarterly-spectacular",
   "metadata": {},
   "outputs": [],
   "source": [
    "site = '5N10'"
   ]
  },
  {
   "cell_type": "code",
   "execution_count": 45,
   "id": "structural-remainder",
   "metadata": {},
   "outputs": [
    {
     "data": {
      "text/html": [
       "<div>\n",
       "<style scoped>\n",
       "    .dataframe tbody tr th:only-of-type {\n",
       "        vertical-align: middle;\n",
       "    }\n",
       "\n",
       "    .dataframe tbody tr th {\n",
       "        vertical-align: top;\n",
       "    }\n",
       "\n",
       "    .dataframe thead th {\n",
       "        text-align: right;\n",
       "    }\n",
       "</style>\n",
       "<table border=\"1\" class=\"dataframe\">\n",
       "  <thead>\n",
       "    <tr style=\"text-align: right;\">\n",
       "      <th></th>\n",
       "      <th>comments</th>\n",
       "      <th>dists</th>\n",
       "    </tr>\n",
       "  </thead>\n",
       "  <tbody>\n",
       "    <tr>\n",
       "      <th>56111</th>\n",
       "      <td>fname = SNEX20_SMP_S06M0674_5N10_20200128.CSV,...</td>\n",
       "      <td>1.611272</td>\n",
       "    </tr>\n",
       "    <tr>\n",
       "      <th>43829</th>\n",
       "      <td>fname = SNEX20_SMP_S06M0677_5N10_20200128.CSV,...</td>\n",
       "      <td>1.698240</td>\n",
       "    </tr>\n",
       "    <tr>\n",
       "      <th>53035</th>\n",
       "      <td>fname = SNEX20_SMP_S06M0678_5N10_20200128.CSV,...</td>\n",
       "      <td>1.698240</td>\n",
       "    </tr>\n",
       "    <tr>\n",
       "      <th>77538</th>\n",
       "      <td>fname = SNEX20_SMP_S06M0676_5N10_20200128.CSV,...</td>\n",
       "      <td>1.698240</td>\n",
       "    </tr>\n",
       "    <tr>\n",
       "      <th>67721</th>\n",
       "      <td>fname = SNEX20_SMP_S19M1366_5N10_20200210.CSV,...</td>\n",
       "      <td>2.011265</td>\n",
       "    </tr>\n",
       "  </tbody>\n",
       "</table>\n",
       "</div>"
      ],
      "text/plain": [
       "                                                comments     dists\n",
       "56111  fname = SNEX20_SMP_S06M0674_5N10_20200128.CSV,...  1.611272\n",
       "43829  fname = SNEX20_SMP_S06M0677_5N10_20200128.CSV,...  1.698240\n",
       "53035  fname = SNEX20_SMP_S06M0678_5N10_20200128.CSV,...  1.698240\n",
       "77538  fname = SNEX20_SMP_S06M0676_5N10_20200128.CSV,...  1.698240\n",
       "67721  fname = SNEX20_SMP_S19M1366_5N10_20200210.CSV,...  2.011265"
      ]
     },
     "execution_count": 45,
     "metadata": {},
     "output_type": "execute_result"
    }
   ],
   "source": [
    "\n",
    "engine_smp, session_smp = get_db(db_name)\n",
    "q_smp = session_smp.query(LayerData).filter(LayerData.type == 'force').filter(LayerData.site_id.contains(site) )\n",
    "df_smp = query_to_geopandas(q_smp, engine_smp)\n",
    "\n",
    "q_pit=session_smp.query(LayerData).filter(LayerData.type == 'hand_hardness').filter(LayerData.site_id.contains(site) )\n",
    "df_pit = query_to_geopandas(q_pit, engine_smp)\n",
    "\n",
    "session_smp.close()\n",
    "\n",
    "# # Plot SMP profile locations with colored by the time they were taken using upside down triangles\n",
    "# ax = df_smp.plot(column='time', cmap='jet', marker='v', label='SMP', figsize=(5,5), markersize=100, edgecolor='black')\n",
    "\n",
    "# ax.plot(df_pit.easting, df_pit.northing, color='black', marker='s', markersize=15, label='Pit ({})'.format(site))\n",
    "\n",
    "# # Add important labels\n",
    "# ax.set_xlabel('Easting [m]')\n",
    "# ax.set_ylabel('Northing [m]')\n",
    "# plt.suptitle('SMP Locations at Site {} Showing Acquisition Order'.format(site), fontsize=16)\n",
    "\n",
    "# # Avoid using Scientific notation for coords.\n",
    "# ax.ticklabel_format(style='plain', useOffset=False)\n",
    "# ax.legend()\n",
    "# # plt.tight_layout()\n",
    "# plt.show()\n",
    "\n",
    "# find closest SMP profile to the pit\n",
    "\n",
    "# No profile is taken at the same time, so we grab all the unique times and sort them\n",
    "times = sorted(df_smp['time'].unique())\n",
    "\n",
    "nprofiles=len(times)\n",
    "\n",
    "ids=np.empty(nprofiles)\n",
    "\n",
    "p=0\n",
    "for t in times:\n",
    "    ind = df_smp['time'] == t\n",
    "    data = df_smp.loc[ind].copy()\n",
    "    ids[p]=data.iloc[0].id\n",
    "    p+=1\n",
    "    \n",
    "i_dists=df_smp['id'].isin(ids)\n",
    "\n",
    "df_smp_dists=df_smp.loc[i_dists]\n",
    "df_smp_dists=df_smp_dists.assign(dists=-1)\n",
    "df_smp_dists['dists']=np.sqrt((df_smp_dists['easting']-df_pit.iloc[0].easting)**2+(df_smp_dists['northing']-df_pit.iloc[0].northing)**2)\n",
    "\n",
    "    \n",
    "df_smp_dists.sort_values(by='dists')[['comments','dists']].head() #check out the list of profiles sorted by distance to pit"
   ]
  },
  {
   "cell_type": "code",
   "execution_count": 46,
   "id": "pending-queensland",
   "metadata": {},
   "outputs": [
    {
     "data": {
      "image/png": "[encoded data removed]",
      "text/plain": [
       "<Figure size 432x288 with 1 Axes>"
      ]
     },
     "metadata": {
      "needs_background": "light"
     },
     "output_type": "display_data"
    }
   ],
   "source": [
    "filenames = ['SNEX20_SMP_S06M0674_5N10_20200128.CSV']\n",
    "\n",
    "for f in filenames:\n",
    "    # Grab any layer data that has the file name in its comments\n",
    "    qry = session.query(LayerData).filter(LayerData.comments.contains(f)).order_by('depth')\n",
    "\n",
    "    # build a geopandas dataframe from the query\n",
    "    df = query_to_geopandas(qry, engine)\n",
    "\n",
    "    # Everything in the layers table is a string so we need to cast our value column as a float to calc stats on it\n",
    "    df['value'] = df['value'].astype(float)\n",
    "\n",
    "    # plot biz plot the profile vertically.\n",
    "    fig, axes = plt.subplots(1)\n",
    "    axes.plot(df['value'], df['depth'])"
   ]
  },
  {
   "cell_type": "code",
   "execution_count": 47,
   "id": "yellow-electricity",
   "metadata": {},
   "outputs": [],
   "source": [
    "surface = 0\n",
    "ground = -65"
   ]
  },
  {
   "cell_type": "code",
   "execution_count": 48,
   "id": "qualified-crowd",
   "metadata": {},
   "outputs": [
    {
     "name": "stdout",
     "output_type": "stream",
     "text": [
      "0.136\n",
      "49.007999999999996\n",
      "241.708\n",
      "  siteID  med_force                            geom   sum10    sum50\n",
      "0   5N10      0.136  POINT (742378.063 4324185.610)  49.008  241.708\n"
     ]
    },
    {
     "data": {
      "image/png": "[encoded data removed]",
      "text/plain": [
       "<Figure size 432x288 with 1 Axes>"
      ]
     },
     "metadata": {
      "needs_background": "light"
     },
     "output_type": "display_data"
    }
   ],
   "source": [
    "#Threshold for surface and ground\n",
    "ind =  (df['depth'] < surface) & (df['depth'] > ground)\n",
    "ind_10cm = (df['depth'] < surface) & (df['depth'] > (surface - 10))\n",
    "ind_50cm = (df['depth'] < surface) & (df['depth'] > (surface - 50))\n",
    "\n",
    "# Print out a stat\n",
    "median = df[ind]['value'].median()\n",
    "print(median)\n",
    "\n",
    "sum10 = df[ind_10cm]['value'].sum()\n",
    "print(sum10)\n",
    "\n",
    "sum50 =  df[ind_50cm]['value'].sum()\n",
    "print(sum50)\n",
    "\n",
    "\n",
    "# plot biz plot the profile vertically.\n",
    "fig, axes = plt.subplots(1)\n",
    "axes.plot(df[ind]['value'], df[ind]['depth'])\n",
    "\n",
    "# fig, axes = plt.subplots(1)\n",
    "# axes.plot(df[ind_50cm]['value'], df[ind_50cm]['depth'])\n",
    "\n",
    "# add median force and location to a dataframe\n",
    "to_add_df['geom'] = df['geom'].unique() # Which should only be one location\n",
    "to_add_df['med_force'] = df[ind]['value'].median()   \n",
    "to_add_df['sum10'] = sum10\n",
    "to_add_df['sum50'] = sum50\n",
    "to_add_df['siteID'] = site\n",
    "print(to_add_df)"
   ]
  },
  {
   "cell_type": "code",
   "execution_count": 49,
   "id": "bulgarian-tradition",
   "metadata": {},
   "outputs": [
    {
     "name": "stdout",
     "output_type": "stream",
     "text": [
      "  siteID  med_force                            geom   sum10     sum50\n",
      "0   7C15      0.169  POINT (742674.870 4325579.843)  31.749   289.420\n",
      "0   8C11      0.256  POINT (741936.919 4326490.807)  45.371   436.658\n",
      "0   8N38      0.162  POINT (745305.410 4324000.404)  30.991   224.321\n",
      "0   9C16      0.230  POINT (742580.357 4325429.434)  28.169   310.639\n",
      "0   9C17      0.172  POINT (743040.195 4324966.391)  39.661   264.485\n",
      "0   2C12      0.413  POINT (742228.807 4326412.908)  66.578  1411.966\n",
      "0   5N10      0.136  POINT (742378.063 4324185.610)  49.008   241.708\n"
     ]
    }
   ],
   "source": [
    "final_df = final_df.append(to_add_df)\n",
    "print(final_df)"
   ]
  },
  {
   "cell_type": "code",
   "execution_count": 50,
   "id": "cultural-capitol",
   "metadata": {},
   "outputs": [],
   "source": [
    "site = '5N19'"
   ]
  },
  {
   "cell_type": "code",
   "execution_count": 51,
   "id": "colored-diameter",
   "metadata": {},
   "outputs": [
    {
     "data": {
      "text/html": [
       "<div>\n",
       "<style scoped>\n",
       "    .dataframe tbody tr th:only-of-type {\n",
       "        vertical-align: middle;\n",
       "    }\n",
       "\n",
       "    .dataframe tbody tr th {\n",
       "        vertical-align: top;\n",
       "    }\n",
       "\n",
       "    .dataframe thead th {\n",
       "        text-align: right;\n",
       "    }\n",
       "</style>\n",
       "<table border=\"1\" class=\"dataframe\">\n",
       "  <thead>\n",
       "    <tr style=\"text-align: right;\">\n",
       "      <th></th>\n",
       "      <th>comments</th>\n",
       "      <th>dists</th>\n",
       "    </tr>\n",
       "  </thead>\n",
       "  <tbody>\n",
       "    <tr>\n",
       "      <th>25858</th>\n",
       "      <td>fname = SNEX20_SMP_S19M0743_5N19_20200128.CSV,...</td>\n",
       "      <td>5.724373</td>\n",
       "    </tr>\n",
       "    <tr>\n",
       "      <th>55066</th>\n",
       "      <td>fname = SNEX20_SMP_S19M0744_5N19_20200128.CSV,...</td>\n",
       "      <td>5.878827</td>\n",
       "    </tr>\n",
       "    <tr>\n",
       "      <th>40779</th>\n",
       "      <td>fname = SNEX20_SMP_S19M0745_5N19_20200128.CSV,...</td>\n",
       "      <td>5.878827</td>\n",
       "    </tr>\n",
       "    <tr>\n",
       "      <th>57731</th>\n",
       "      <td>fname = SNEX20_SMP_S19M0735_5N19_20200128.CSV,...</td>\n",
       "      <td>7.931272</td>\n",
       "    </tr>\n",
       "    <tr>\n",
       "      <th>15517</th>\n",
       "      <td>fname = SNEX20_SMP_S19M0722_5N19_20200128.CSV,...</td>\n",
       "      <td>8.879409</td>\n",
       "    </tr>\n",
       "  </tbody>\n",
       "</table>\n",
       "</div>"
      ],
      "text/plain": [
       "                                                comments     dists\n",
       "25858  fname = SNEX20_SMP_S19M0743_5N19_20200128.CSV,...  5.724373\n",
       "55066  fname = SNEX20_SMP_S19M0744_5N19_20200128.CSV,...  5.878827\n",
       "40779  fname = SNEX20_SMP_S19M0745_5N19_20200128.CSV,...  5.878827\n",
       "57731  fname = SNEX20_SMP_S19M0735_5N19_20200128.CSV,...  7.931272\n",
       "15517  fname = SNEX20_SMP_S19M0722_5N19_20200128.CSV,...  8.879409"
      ]
     },
     "execution_count": 51,
     "metadata": {},
     "output_type": "execute_result"
    }
   ],
   "source": [
    "\n",
    "engine_smp, session_smp = get_db(db_name)\n",
    "q_smp = session_smp.query(LayerData).filter(LayerData.type == 'force').filter(LayerData.site_id.contains(site) )\n",
    "df_smp = query_to_geopandas(q_smp, engine_smp)\n",
    "\n",
    "q_pit=session_smp.query(LayerData).filter(LayerData.type == 'hand_hardness').filter(LayerData.site_id.contains(site) )\n",
    "df_pit = query_to_geopandas(q_pit, engine_smp)\n",
    "\n",
    "session_smp.close()\n",
    "\n",
    "# # Plot SMP profile locations with colored by the time they were taken using upside down triangles\n",
    "# ax = df_smp.plot(column='time', cmap='jet', marker='v', label='SMP', figsize=(5,5), markersize=100, edgecolor='black')\n",
    "\n",
    "# ax.plot(df_pit.easting, df_pit.northing, color='black', marker='s', markersize=15, label='Pit ({})'.format(site))\n",
    "\n",
    "# # Add important labels\n",
    "# ax.set_xlabel('Easting [m]')\n",
    "# ax.set_ylabel('Northing [m]')\n",
    "# plt.suptitle('SMP Locations at Site {} Showing Acquisition Order'.format(site), fontsize=16)\n",
    "\n",
    "# # Avoid using Scientific notation for coords.\n",
    "# ax.ticklabel_format(style='plain', useOffset=False)\n",
    "# ax.legend()\n",
    "# # plt.tight_layout()\n",
    "# plt.show()\n",
    "\n",
    "# find closest SMP profile to the pit\n",
    "\n",
    "# No profile is taken at the same time, so we grab all the unique times and sort them\n",
    "times = sorted(df_smp['time'].unique())\n",
    "\n",
    "nprofiles=len(times)\n",
    "\n",
    "ids=np.empty(nprofiles)\n",
    "\n",
    "p=0\n",
    "for t in times:\n",
    "    ind = df_smp['time'] == t\n",
    "    data = df_smp.loc[ind].copy()\n",
    "    ids[p]=data.iloc[0].id\n",
    "    p+=1\n",
    "    \n",
    "i_dists=df_smp['id'].isin(ids)\n",
    "\n",
    "df_smp_dists=df_smp.loc[i_dists]\n",
    "df_smp_dists=df_smp_dists.assign(dists=-1)\n",
    "df_smp_dists['dists']=np.sqrt((df_smp_dists['easting']-df_pit.iloc[0].easting)**2+(df_smp_dists['northing']-df_pit.iloc[0].northing)**2)\n",
    "\n",
    "    \n",
    "df_smp_dists.sort_values(by='dists')[['comments','dists']].head() #check out the list of profiles sorted by distance to pit"
   ]
  },
  {
   "cell_type": "code",
   "execution_count": 52,
   "id": "recorded-roads",
   "metadata": {},
   "outputs": [
    {
     "data": {
      "image/png": "[encoded data removed]",
      "text/plain": [
       "<Figure size 432x288 with 1 Axes>"
      ]
     },
     "metadata": {
      "needs_background": "light"
     },
     "output_type": "display_data"
    }
   ],
   "source": [
    "filenames = ['SNEX20_SMP_S19M0743_5N19_20200128.CSV']\n",
    "\n",
    "for f in filenames:\n",
    "    # Grab any layer data that has the file name in its comments\n",
    "    qry = session.query(LayerData).filter(LayerData.comments.contains(f)).order_by('depth')\n",
    "\n",
    "    # build a geopandas dataframe from the query\n",
    "    df = query_to_geopandas(qry, engine)\n",
    "\n",
    "    # Everything in the layers table is a string so we need to cast our value column as a float to calc stats on it\n",
    "    df['value'] = df['value'].astype(float)\n",
    "\n",
    "    # plot biz plot the profile vertically.\n",
    "    fig, axes = plt.subplots(1)\n",
    "    axes.plot(df['value'], df['depth'])"
   ]
  },
  {
   "cell_type": "code",
   "execution_count": 58,
   "id": "moral-therapy",
   "metadata": {},
   "outputs": [],
   "source": [
    "surface = -10\n",
    "ground = -100"
   ]
  },
  {
   "cell_type": "code",
   "execution_count": 59,
   "id": "charming-lightweight",
   "metadata": {},
   "outputs": [
    {
     "name": "stdout",
     "output_type": "stream",
     "text": [
      "0.16\n",
      "25.721000000000004\n",
      "296.328\n",
      "  siteID  med_force                            geom   sum10    sum50\n",
      "0   5N19       0.16  POINT (743220.199 4324254.403)  25.721  296.328\n"
     ]
    },
    {
     "data": {
      "image/png": "[encoded data removed]",
      "text/plain": [
       "<Figure size 432x288 with 1 Axes>"
      ]
     },
     "metadata": {
      "needs_background": "light"
     },
     "output_type": "display_data"
    }
   ],
   "source": [
    "#Threshold for surface and ground\n",
    "ind =  (df['depth'] < surface) & (df['depth'] > ground)\n",
    "ind_10cm = (df['depth'] < surface) & (df['depth'] > (surface - 10))\n",
    "ind_50cm = (df['depth'] < surface) & (df['depth'] > (surface - 50))\n",
    "\n",
    "# Print out a stat\n",
    "median = df[ind]['value'].median()\n",
    "print(median)\n",
    "\n",
    "sum10 = df[ind_10cm]['value'].sum()\n",
    "print(sum10)\n",
    "\n",
    "sum50 =  df[ind_50cm]['value'].sum()\n",
    "print(sum50)\n",
    "\n",
    "\n",
    "# plot biz plot the profile vertically.\n",
    "fig, axes = plt.subplots(1)\n",
    "axes.plot(df[ind]['value'], df[ind]['depth'])\n",
    "\n",
    "# fig, axes = plt.subplots(1)\n",
    "# axes.plot(df[ind_50cm]['value'], df[ind_50cm]['depth'])\n",
    "\n",
    "# add median force and location to a dataframe\n",
    "to_add_df['geom'] = df['geom'].unique() # Which should only be one location\n",
    "to_add_df['med_force'] = df[ind]['value'].median()   \n",
    "to_add_df['sum10'] = sum10\n",
    "to_add_df['sum50'] = sum50\n",
    "to_add_df['siteID'] = site\n",
    "print(to_add_df)"
   ]
  },
  {
   "cell_type": "code",
   "execution_count": 60,
   "id": "dated-salem",
   "metadata": {},
   "outputs": [
    {
     "name": "stdout",
     "output_type": "stream",
     "text": [
      "  siteID  med_force                            geom   sum10     sum50\n",
      "0   7C15      0.169  POINT (742674.870 4325579.843)  31.749   289.420\n",
      "0   8C11      0.256  POINT (741936.919 4326490.807)  45.371   436.658\n",
      "0   8N38      0.162  POINT (745305.410 4324000.404)  30.991   224.321\n",
      "0   9C16      0.230  POINT (742580.357 4325429.434)  28.169   310.639\n",
      "0   9C17      0.172  POINT (743040.195 4324966.391)  39.661   264.485\n",
      "0   2C12      0.413  POINT (742228.807 4326412.908)  66.578  1411.966\n",
      "0   5N10      0.136  POINT (742378.063 4324185.610)  49.008   241.708\n",
      "0   5N19      0.160  POINT (743220.199 4324254.403)  25.721   296.328\n"
     ]
    }
   ],
   "source": [
    "final_df = final_df.append(to_add_df)\n",
    "print(final_df)"
   ]
  },
  {
   "cell_type": "code",
   "execution_count": 61,
   "id": "cordless-exclusion",
   "metadata": {},
   "outputs": [],
   "source": [
    "site = '5S43'"
   ]
  },
  {
   "cell_type": "code",
   "execution_count": 62,
   "id": "dental-counter",
   "metadata": {},
   "outputs": [
    {
     "data": {
      "text/html": [
       "<div>\n",
       "<style scoped>\n",
       "    .dataframe tbody tr th:only-of-type {\n",
       "        vertical-align: middle;\n",
       "    }\n",
       "\n",
       "    .dataframe tbody tr th {\n",
       "        vertical-align: top;\n",
       "    }\n",
       "\n",
       "    .dataframe thead th {\n",
       "        text-align: right;\n",
       "    }\n",
       "</style>\n",
       "<table border=\"1\" class=\"dataframe\">\n",
       "  <thead>\n",
       "    <tr style=\"text-align: right;\">\n",
       "      <th></th>\n",
       "      <th>comments</th>\n",
       "      <th>dists</th>\n",
       "    </tr>\n",
       "  </thead>\n",
       "  <tbody>\n",
       "    <tr>\n",
       "      <th>1305</th>\n",
       "      <td>fname = SNEX20_SMP_S06M0711_5S43_20200129.CSV,...</td>\n",
       "      <td>3.386228</td>\n",
       "    </tr>\n",
       "    <tr>\n",
       "      <th>16181</th>\n",
       "      <td>fname = SNEX20_SMP_S06M0729_5S43_20200129.CSV,...</td>\n",
       "      <td>4.038430</td>\n",
       "    </tr>\n",
       "    <tr>\n",
       "      <th>22081</th>\n",
       "      <td>fname = SNEX20_SMP_S06M0730_5S43_20200129.CSV,...</td>\n",
       "      <td>4.171419</td>\n",
       "    </tr>\n",
       "    <tr>\n",
       "      <th>25131</th>\n",
       "      <td>fname = SNEX20_SMP_S06M0728_5S43_20200129.CSV,...</td>\n",
       "      <td>5.219217</td>\n",
       "    </tr>\n",
       "    <tr>\n",
       "      <th>17719</th>\n",
       "      <td>fname = SNEX20_SMP_S06M0710_5S43_20200129.CSV,...</td>\n",
       "      <td>6.655421</td>\n",
       "    </tr>\n",
       "  </tbody>\n",
       "</table>\n",
       "</div>"
      ],
      "text/plain": [
       "                                                comments     dists\n",
       "1305   fname = SNEX20_SMP_S06M0711_5S43_20200129.CSV,...  3.386228\n",
       "16181  fname = SNEX20_SMP_S06M0729_5S43_20200129.CSV,...  4.038430\n",
       "22081  fname = SNEX20_SMP_S06M0730_5S43_20200129.CSV,...  4.171419\n",
       "25131  fname = SNEX20_SMP_S06M0728_5S43_20200129.CSV,...  5.219217\n",
       "17719  fname = SNEX20_SMP_S06M0710_5S43_20200129.CSV,...  6.655421"
      ]
     },
     "execution_count": 62,
     "metadata": {},
     "output_type": "execute_result"
    }
   ],
   "source": [
    "\n",
    "engine_smp, session_smp = get_db(db_name)\n",
    "q_smp = session_smp.query(LayerData).filter(LayerData.type == 'force').filter(LayerData.site_id.contains(site) )\n",
    "df_smp = query_to_geopandas(q_smp, engine_smp)\n",
    "\n",
    "q_pit=session_smp.query(LayerData).filter(LayerData.type == 'hand_hardness').filter(LayerData.site_id.contains(site) )\n",
    "df_pit = query_to_geopandas(q_pit, engine_smp)\n",
    "\n",
    "session_smp.close()\n",
    "\n",
    "# # Plot SMP profile locations with colored by the time they were taken using upside down triangles\n",
    "# ax = df_smp.plot(column='time', cmap='jet', marker='v', label='SMP', figsize=(5,5), markersize=100, edgecolor='black')\n",
    "\n",
    "# ax.plot(df_pit.easting, df_pit.northing, color='black', marker='s', markersize=15, label='Pit ({})'.format(site))\n",
    "\n",
    "# # Add important labels\n",
    "# ax.set_xlabel('Easting [m]')\n",
    "# ax.set_ylabel('Northing [m]')\n",
    "# plt.suptitle('SMP Locations at Site {} Showing Acquisition Order'.format(site), fontsize=16)\n",
    "\n",
    "# # Avoid using Scientific notation for coords.\n",
    "# ax.ticklabel_format(style='plain', useOffset=False)\n",
    "# ax.legend()\n",
    "# # plt.tight_layout()\n",
    "# plt.show()\n",
    "\n",
    "# find closest SMP profile to the pit\n",
    "\n",
    "# No profile is taken at the same time, so we grab all the unique times and sort them\n",
    "times = sorted(df_smp['time'].unique())\n",
    "\n",
    "nprofiles=len(times)\n",
    "\n",
    "ids=np.empty(nprofiles)\n",
    "\n",
    "p=0\n",
    "for t in times:\n",
    "    ind = df_smp['time'] == t\n",
    "    data = df_smp.loc[ind].copy()\n",
    "    ids[p]=data.iloc[0].id\n",
    "    p+=1\n",
    "    \n",
    "i_dists=df_smp['id'].isin(ids)\n",
    "\n",
    "df_smp_dists=df_smp.loc[i_dists]\n",
    "df_smp_dists=df_smp_dists.assign(dists=-1)\n",
    "df_smp_dists['dists']=np.sqrt((df_smp_dists['easting']-df_pit.iloc[0].easting)**2+(df_smp_dists['northing']-df_pit.iloc[0].northing)**2)\n",
    "\n",
    "    \n",
    "df_smp_dists.sort_values(by='dists')[['comments','dists']].head() #check out the list of profiles sorted by distance to pit"
   ]
  },
  {
   "cell_type": "code",
   "execution_count": 63,
   "id": "damaged-niagara",
   "metadata": {},
   "outputs": [
    {
     "data": {
      "image/png": "[encoded data removed]",
      "text/plain": [
       "<Figure size 432x288 with 1 Axes>"
      ]
     },
     "metadata": {
      "needs_background": "light"
     },
     "output_type": "display_data"
    }
   ],
   "source": [
    "filenames = ['SNEX20_SMP_S06M0711_5S43_20200129.CSV']\n",
    "\n",
    "for f in filenames:\n",
    "    # Grab any layer data that has the file name in its comments\n",
    "    qry = session.query(LayerData).filter(LayerData.comments.contains(f)).order_by('depth')\n",
    "\n",
    "    # build a geopandas dataframe from the query\n",
    "    df = query_to_geopandas(qry, engine)\n",
    "\n",
    "    # Everything in the layers table is a string so we need to cast our value column as a float to calc stats on it\n",
    "    df['value'] = df['value'].astype(float)\n",
    "\n",
    "    # plot biz plot the profile vertically.\n",
    "    fig, axes = plt.subplots(1)\n",
    "    axes.plot(df['value'], df['depth'])"
   ]
  },
  {
   "cell_type": "code",
   "execution_count": 64,
   "id": "sharing-jerusalem",
   "metadata": {},
   "outputs": [],
   "source": [
    "surface = 0\n",
    "ground = -56"
   ]
  },
  {
   "cell_type": "code",
   "execution_count": 65,
   "id": "public-concrete",
   "metadata": {},
   "outputs": [
    {
     "name": "stdout",
     "output_type": "stream",
     "text": [
      "0.162\n",
      "34.066\n",
      "247.123\n",
      "  siteID  med_force                            geom   sum10    sum50\n",
      "0   5S43      0.162  POINT (746925.616 4322662.123)  34.066  247.123\n"
     ]
    },
    {
     "data": {
      "image/png": "[encoded data removed]",
      "text/plain": [
       "<Figure size 432x288 with 1 Axes>"
      ]
     },
     "metadata": {
      "needs_background": "light"
     },
     "output_type": "display_data"
    }
   ],
   "source": [
    "#Threshold for surface and ground\n",
    "ind =  (df['depth'] < surface) & (df['depth'] > ground)\n",
    "ind_10cm = (df['depth'] < surface) & (df['depth'] > (surface - 10))\n",
    "ind_50cm = (df['depth'] < surface) & (df['depth'] > (surface - 50))\n",
    "\n",
    "# Print out a stat\n",
    "median = df[ind]['value'].median()\n",
    "print(median)\n",
    "\n",
    "sum10 = df[ind_10cm]['value'].sum()\n",
    "print(sum10)\n",
    "\n",
    "sum50 =  df[ind_50cm]['value'].sum()\n",
    "print(sum50)\n",
    "\n",
    "\n",
    "# plot biz plot the profile vertically.\n",
    "fig, axes = plt.subplots(1)\n",
    "axes.plot(df[ind]['value'], df[ind]['depth'])\n",
    "\n",
    "# fig, axes = plt.subplots(1)\n",
    "# axes.plot(df[ind_50cm]['value'], df[ind_50cm]['depth'])\n",
    "\n",
    "# add median force and location to a dataframe\n",
    "to_add_df['geom'] = df['geom'].unique() # Which should only be one location\n",
    "to_add_df['med_force'] = df[ind]['value'].median()   \n",
    "to_add_df['sum10'] = sum10\n",
    "to_add_df['sum50'] = sum50\n",
    "to_add_df['siteID'] = site\n",
    "print(to_add_df)"
   ]
  },
  {
   "cell_type": "code",
   "execution_count": 66,
   "id": "neural-entertainment",
   "metadata": {},
   "outputs": [
    {
     "name": "stdout",
     "output_type": "stream",
     "text": [
      "  siteID  med_force                            geom   sum10     sum50\n",
      "0   7C15      0.169  POINT (742674.870 4325579.843)  31.749   289.420\n",
      "0   8C11      0.256  POINT (741936.919 4326490.807)  45.371   436.658\n",
      "0   8N38      0.162  POINT (745305.410 4324000.404)  30.991   224.321\n",
      "0   9C16      0.230  POINT (742580.357 4325429.434)  28.169   310.639\n",
      "0   9C17      0.172  POINT (743040.195 4324966.391)  39.661   264.485\n",
      "0   2C12      0.413  POINT (742228.807 4326412.908)  66.578  1411.966\n",
      "0   5N10      0.136  POINT (742378.063 4324185.610)  49.008   241.708\n",
      "0   5N19      0.160  POINT (743220.199 4324254.403)  25.721   296.328\n",
      "0   5S43      0.162  POINT (746925.616 4322662.123)  34.066   247.123\n"
     ]
    }
   ],
   "source": [
    "final_df = final_df.append(to_add_df)\n",
    "print(final_df)"
   ]
  },
  {
   "cell_type": "code",
   "execution_count": 67,
   "id": "balanced-butler",
   "metadata": {},
   "outputs": [],
   "source": [
    "site = '8N25'"
   ]
  },
  {
   "cell_type": "code",
   "execution_count": 68,
   "id": "technical-trance",
   "metadata": {},
   "outputs": [
    {
     "data": {
      "text/html": [
       "<div>\n",
       "<style scoped>\n",
       "    .dataframe tbody tr th:only-of-type {\n",
       "        vertical-align: middle;\n",
       "    }\n",
       "\n",
       "    .dataframe tbody tr th {\n",
       "        vertical-align: top;\n",
       "    }\n",
       "\n",
       "    .dataframe thead th {\n",
       "        text-align: right;\n",
       "    }\n",
       "</style>\n",
       "<table border=\"1\" class=\"dataframe\">\n",
       "  <thead>\n",
       "    <tr style=\"text-align: right;\">\n",
       "      <th></th>\n",
       "      <th>comments</th>\n",
       "      <th>dists</th>\n",
       "    </tr>\n",
       "  </thead>\n",
       "  <tbody>\n",
       "    <tr>\n",
       "      <th>5053</th>\n",
       "      <td>fname = SNEX20_SMP_S19M0777_8N25_20200128.CSV,...</td>\n",
       "      <td>1.783284</td>\n",
       "    </tr>\n",
       "    <tr>\n",
       "      <th>5703</th>\n",
       "      <td>fname = SNEX20_SMP_S19M0795_8N25_20200128.CSV,...</td>\n",
       "      <td>4.765383</td>\n",
       "    </tr>\n",
       "    <tr>\n",
       "      <th>47247</th>\n",
       "      <td>fname = SNEX20_SMP_S19M0796_8N25_20200128.CSV,...</td>\n",
       "      <td>4.925943</td>\n",
       "    </tr>\n",
       "    <tr>\n",
       "      <th>34788</th>\n",
       "      <td>fname = SNEX20_SMP_S19M0788_8N25_20200128.CSV,...</td>\n",
       "      <td>5.078257</td>\n",
       "    </tr>\n",
       "    <tr>\n",
       "      <th>54058</th>\n",
       "      <td>fname = SNEX20_SMP_S19M0789_8N25_20200128.CSV,...</td>\n",
       "      <td>5.199117</td>\n",
       "    </tr>\n",
       "  </tbody>\n",
       "</table>\n",
       "</div>"
      ],
      "text/plain": [
       "                                                comments     dists\n",
       "5053   fname = SNEX20_SMP_S19M0777_8N25_20200128.CSV,...  1.783284\n",
       "5703   fname = SNEX20_SMP_S19M0795_8N25_20200128.CSV,...  4.765383\n",
       "47247  fname = SNEX20_SMP_S19M0796_8N25_20200128.CSV,...  4.925943\n",
       "34788  fname = SNEX20_SMP_S19M0788_8N25_20200128.CSV,...  5.078257\n",
       "54058  fname = SNEX20_SMP_S19M0789_8N25_20200128.CSV,...  5.199117"
      ]
     },
     "execution_count": 68,
     "metadata": {},
     "output_type": "execute_result"
    }
   ],
   "source": [
    "\n",
    "engine_smp, session_smp = get_db(db_name)\n",
    "q_smp = session_smp.query(LayerData).filter(LayerData.type == 'force').filter(LayerData.site_id.contains(site) )\n",
    "df_smp = query_to_geopandas(q_smp, engine_smp)\n",
    "\n",
    "q_pit=session_smp.query(LayerData).filter(LayerData.type == 'hand_hardness').filter(LayerData.site_id.contains(site) )\n",
    "df_pit = query_to_geopandas(q_pit, engine_smp)\n",
    "\n",
    "session_smp.close()\n",
    "\n",
    "# # Plot SMP profile locations with colored by the time they were taken using upside down triangles\n",
    "# ax = df_smp.plot(column='time', cmap='jet', marker='v', label='SMP', figsize=(5,5), markersize=100, edgecolor='black')\n",
    "\n",
    "# ax.plot(df_pit.easting, df_pit.northing, color='black', marker='s', markersize=15, label='Pit ({})'.format(site))\n",
    "\n",
    "# # Add important labels\n",
    "# ax.set_xlabel('Easting [m]')\n",
    "# ax.set_ylabel('Northing [m]')\n",
    "# plt.suptitle('SMP Locations at Site {} Showing Acquisition Order'.format(site), fontsize=16)\n",
    "\n",
    "# # Avoid using Scientific notation for coords.\n",
    "# ax.ticklabel_format(style='plain', useOffset=False)\n",
    "# ax.legend()\n",
    "# # plt.tight_layout()\n",
    "# plt.show()\n",
    "\n",
    "# find closest SMP profile to the pit\n",
    "\n",
    "# No profile is taken at the same time, so we grab all the unique times and sort them\n",
    "times = sorted(df_smp['time'].unique())\n",
    "\n",
    "nprofiles=len(times)\n",
    "\n",
    "ids=np.empty(nprofiles)\n",
    "\n",
    "p=0\n",
    "for t in times:\n",
    "    ind = df_smp['time'] == t\n",
    "    data = df_smp.loc[ind].copy()\n",
    "    ids[p]=data.iloc[0].id\n",
    "    p+=1\n",
    "    \n",
    "i_dists=df_smp['id'].isin(ids)\n",
    "\n",
    "df_smp_dists=df_smp.loc[i_dists]\n",
    "df_smp_dists=df_smp_dists.assign(dists=-1)\n",
    "df_smp_dists['dists']=np.sqrt((df_smp_dists['easting']-df_pit.iloc[0].easting)**2+(df_smp_dists['northing']-df_pit.iloc[0].northing)**2)\n",
    "\n",
    "    \n",
    "df_smp_dists.sort_values(by='dists')[['comments','dists']].head() #check out the list of profiles sorted by distance to pit"
   ]
  },
  {
   "cell_type": "code",
   "execution_count": 69,
   "id": "occupational-spokesman",
   "metadata": {},
   "outputs": [
    {
     "data": {
      "image/png": "[encoded data removed]",
      "text/plain": [
       "<Figure size 432x288 with 1 Axes>"
      ]
     },
     "metadata": {
      "needs_background": "light"
     },
     "output_type": "display_data"
    }
   ],
   "source": [
    "filenames = ['SNEX20_SMP_S19M0777_8N25_20200128.CSV']\n",
    "\n",
    "for f in filenames:\n",
    "    # Grab any layer data that has the file name in its comments\n",
    "    qry = session.query(LayerData).filter(LayerData.comments.contains(f)).order_by('depth')\n",
    "\n",
    "    # build a geopandas dataframe from the query\n",
    "    df = query_to_geopandas(qry, engine)\n",
    "\n",
    "    # Everything in the layers table is a string so we need to cast our value column as a float to calc stats on it\n",
    "    df['value'] = df['value'].astype(float)\n",
    "\n",
    "    # plot biz plot the profile vertically.\n",
    "    fig, axes = plt.subplots(1)\n",
    "    axes.plot(df['value'], df['depth'])"
   ]
  },
  {
   "cell_type": "code",
   "execution_count": 70,
   "id": "grand-safety",
   "metadata": {},
   "outputs": [],
   "source": [
    "surface = 0\n",
    "ground = -102"
   ]
  },
  {
   "cell_type": "code",
   "execution_count": 71,
   "id": "direct-george",
   "metadata": {},
   "outputs": [
    {
     "name": "stdout",
     "output_type": "stream",
     "text": [
      "0.104\n",
      "12.670000000000005\n",
      "144.066\n",
      "  siteID  med_force                            geom  sum10    sum50\n",
      "0   8N25      0.104  POINT (743617.866 4324414.624)  12.67  144.066\n"
     ]
    },
    {
     "data": {
      "image/png": "[encoded data removed]",
      "text/plain": [
       "<Figure size 432x288 with 1 Axes>"
      ]
     },
     "metadata": {
      "needs_background": "light"
     },
     "output_type": "display_data"
    }
   ],
   "source": [
    "#Threshold for surface and ground\n",
    "ind =  (df['depth'] < surface) & (df['depth'] > ground)\n",
    "ind_10cm = (df['depth'] < surface) & (df['depth'] > (surface - 10))\n",
    "ind_50cm = (df['depth'] < surface) & (df['depth'] > (surface - 50))\n",
    "\n",
    "# Print out a stat\n",
    "median = df[ind]['value'].median()\n",
    "print(median)\n",
    "\n",
    "sum10 = df[ind_10cm]['value'].sum()\n",
    "print(sum10)\n",
    "\n",
    "sum50 =  df[ind_50cm]['value'].sum()\n",
    "print(sum50)\n",
    "\n",
    "\n",
    "# plot biz plot the profile vertically.\n",
    "fig, axes = plt.subplots(1)\n",
    "axes.plot(df[ind]['value'], df[ind]['depth'])\n",
    "\n",
    "# fig, axes = plt.subplots(1)\n",
    "# axes.plot(df[ind_50cm]['value'], df[ind_50cm]['depth'])\n",
    "\n",
    "# add median force and location to a dataframe\n",
    "to_add_df['geom'] = df['geom'].unique() # Which should only be one location\n",
    "to_add_df['med_force'] = df[ind]['value'].median()   \n",
    "to_add_df['sum10'] = sum10\n",
    "to_add_df['sum50'] = sum50\n",
    "to_add_df['siteID'] = site\n",
    "print(to_add_df)"
   ]
  },
  {
   "cell_type": "code",
   "execution_count": 72,
   "id": "verbal-russell",
   "metadata": {},
   "outputs": [
    {
     "name": "stdout",
     "output_type": "stream",
     "text": [
      "  siteID  med_force                            geom   sum10     sum50\n",
      "0   7C15      0.169  POINT (742674.870 4325579.843)  31.749   289.420\n",
      "0   8C11      0.256  POINT (741936.919 4326490.807)  45.371   436.658\n",
      "0   8N38      0.162  POINT (745305.410 4324000.404)  30.991   224.321\n",
      "0   9C16      0.230  POINT (742580.357 4325429.434)  28.169   310.639\n",
      "0   9C17      0.172  POINT (743040.195 4324966.391)  39.661   264.485\n",
      "0   2C12      0.413  POINT (742228.807 4326412.908)  66.578  1411.966\n",
      "0   5N10      0.136  POINT (742378.063 4324185.610)  49.008   241.708\n",
      "0   5N19      0.160  POINT (743220.199 4324254.403)  25.721   296.328\n",
      "0   5S43      0.162  POINT (746925.616 4322662.123)  34.066   247.123\n",
      "0   8N25      0.104  POINT (743617.866 4324414.624)  12.670   144.066\n"
     ]
    }
   ],
   "source": [
    "final_df = final_df.append(to_add_df)\n",
    "print(final_df)"
   ]
  },
  {
   "cell_type": "code",
   "execution_count": 73,
   "id": "little-jacob",
   "metadata": {},
   "outputs": [],
   "source": [
    "site = '9S51'"
   ]
  },
  {
   "cell_type": "code",
   "execution_count": 74,
   "id": "funky-productivity",
   "metadata": {},
   "outputs": [
    {
     "data": {
      "text/html": [
       "<div>\n",
       "<style scoped>\n",
       "    .dataframe tbody tr th:only-of-type {\n",
       "        vertical-align: middle;\n",
       "    }\n",
       "\n",
       "    .dataframe tbody tr th {\n",
       "        vertical-align: top;\n",
       "    }\n",
       "\n",
       "    .dataframe thead th {\n",
       "        text-align: right;\n",
       "    }\n",
       "</style>\n",
       "<table border=\"1\" class=\"dataframe\">\n",
       "  <thead>\n",
       "    <tr style=\"text-align: right;\">\n",
       "      <th></th>\n",
       "      <th>comments</th>\n",
       "      <th>dists</th>\n",
       "    </tr>\n",
       "  </thead>\n",
       "  <tbody>\n",
       "    <tr>\n",
       "      <th>25580</th>\n",
       "      <td>fname = SNEX20_SMP_S06M0778_9S51_20200129.CSV,...</td>\n",
       "      <td>3.401423</td>\n",
       "    </tr>\n",
       "    <tr>\n",
       "      <th>7073</th>\n",
       "      <td>fname = SNEX20_SMP_S06M0776_9S51_20200129.CSV,...</td>\n",
       "      <td>4.837354</td>\n",
       "    </tr>\n",
       "    <tr>\n",
       "      <th>1113</th>\n",
       "      <td>fname = SNEX20_SMP_S06M0773_9S51_20200129.CSV,...</td>\n",
       "      <td>5.428927</td>\n",
       "    </tr>\n",
       "    <tr>\n",
       "      <th>2676</th>\n",
       "      <td>fname = SNEX20_SMP_S06M0770_9S51_20200129.CSV,...</td>\n",
       "      <td>9.332031</td>\n",
       "    </tr>\n",
       "    <tr>\n",
       "      <th>27049</th>\n",
       "      <td>fname = SNEX20_SMP_S06M0777_9S51_20200129.CSV,...</td>\n",
       "      <td>9.684893</td>\n",
       "    </tr>\n",
       "  </tbody>\n",
       "</table>\n",
       "</div>"
      ],
      "text/plain": [
       "                                                comments     dists\n",
       "25580  fname = SNEX20_SMP_S06M0778_9S51_20200129.CSV,...  3.401423\n",
       "7073   fname = SNEX20_SMP_S06M0776_9S51_20200129.CSV,...  4.837354\n",
       "1113   fname = SNEX20_SMP_S06M0773_9S51_20200129.CSV,...  5.428927\n",
       "2676   fname = SNEX20_SMP_S06M0770_9S51_20200129.CSV,...  9.332031\n",
       "27049  fname = SNEX20_SMP_S06M0777_9S51_20200129.CSV,...  9.684893"
      ]
     },
     "execution_count": 74,
     "metadata": {},
     "output_type": "execute_result"
    }
   ],
   "source": [
    "\n",
    "engine_smp, session_smp = get_db(db_name)\n",
    "q_smp = session_smp.query(LayerData).filter(LayerData.type == 'force').filter(LayerData.site_id.contains(site) )\n",
    "df_smp = query_to_geopandas(q_smp, engine_smp)\n",
    "\n",
    "q_pit=session_smp.query(LayerData).filter(LayerData.type == 'hand_hardness').filter(LayerData.site_id.contains(site) )\n",
    "df_pit = query_to_geopandas(q_pit, engine_smp)\n",
    "\n",
    "session_smp.close()\n",
    "\n",
    "# # Plot SMP profile locations with colored by the time they were taken using upside down triangles\n",
    "# ax = df_smp.plot(column='time', cmap='jet', marker='v', label='SMP', figsize=(5,5), markersize=100, edgecolor='black')\n",
    "\n",
    "# ax.plot(df_pit.easting, df_pit.northing, color='black', marker='s', markersize=15, label='Pit ({})'.format(site))\n",
    "\n",
    "# # Add important labels\n",
    "# ax.set_xlabel('Easting [m]')\n",
    "# ax.set_ylabel('Northing [m]')\n",
    "# plt.suptitle('SMP Locations at Site {} Showing Acquisition Order'.format(site), fontsize=16)\n",
    "\n",
    "# # Avoid using Scientific notation for coords.\n",
    "# ax.ticklabel_format(style='plain', useOffset=False)\n",
    "# ax.legend()\n",
    "# # plt.tight_layout()\n",
    "# plt.show()\n",
    "\n",
    "# find closest SMP profile to the pit\n",
    "\n",
    "# No profile is taken at the same time, so we grab all the unique times and sort them\n",
    "times = sorted(df_smp['time'].unique())\n",
    "\n",
    "nprofiles=len(times)\n",
    "\n",
    "ids=np.empty(nprofiles)\n",
    "\n",
    "p=0\n",
    "for t in times:\n",
    "    ind = df_smp['time'] == t\n",
    "    data = df_smp.loc[ind].copy()\n",
    "    ids[p]=data.iloc[0].id\n",
    "    p+=1\n",
    "    \n",
    "i_dists=df_smp['id'].isin(ids)\n",
    "\n",
    "df_smp_dists=df_smp.loc[i_dists]\n",
    "df_smp_dists=df_smp_dists.assign(dists=-1)\n",
    "df_smp_dists['dists']=np.sqrt((df_smp_dists['easting']-df_pit.iloc[0].easting)**2+(df_smp_dists['northing']-df_pit.iloc[0].northing)**2)\n",
    "\n",
    "    \n",
    "df_smp_dists.sort_values(by='dists')[['comments','dists']].head() #check out the list of profiles sorted by distance to pit"
   ]
  },
  {
   "cell_type": "code",
   "execution_count": 75,
   "id": "seeing-career",
   "metadata": {},
   "outputs": [
    {
     "data": {
      "image/png": "[encoded data removed]",
      "text/plain": [
       "<Figure size 432x288 with 1 Axes>"
      ]
     },
     "metadata": {
      "needs_background": "light"
     },
     "output_type": "display_data"
    }
   ],
   "source": [
    "filenames = ['SNEX20_SMP_S06M0778_9S51_20200129.CSV']\n",
    "\n",
    "for f in filenames:\n",
    "    # Grab any layer data that has the file name in its comments\n",
    "    qry = session.query(LayerData).filter(LayerData.comments.contains(f)).order_by('depth')\n",
    "\n",
    "    # build a geopandas dataframe from the query\n",
    "    df = query_to_geopandas(qry, engine)\n",
    "\n",
    "    # Everything in the layers table is a string so we need to cast our value column as a float to calc stats on it\n",
    "    df['value'] = df['value'].astype(float)\n",
    "\n",
    "    # plot biz plot the profile vertically.\n",
    "    fig, axes = plt.subplots(1)\n",
    "    axes.plot(df['value'], df['depth'])"
   ]
  },
  {
   "cell_type": "code",
   "execution_count": 76,
   "id": "magnetic-apparel",
   "metadata": {},
   "outputs": [],
   "source": [
    "surface = 0\n",
    "ground = -65"
   ]
  },
  {
   "cell_type": "code",
   "execution_count": 77,
   "id": "medium-volleyball",
   "metadata": {},
   "outputs": [
    {
     "name": "stdout",
     "output_type": "stream",
     "text": [
      "0.156\n",
      "34.023\n",
      "220.24\n",
      "  siteID  med_force                            geom   sum10   sum50\n",
      "0   9S51      0.156  POINT (748320.515 4322634.367)  34.023  220.24\n"
     ]
    },
    {
     "data": {
      "image/png": "[encoded data removed]",
      "text/plain": [
       "<Figure size 432x288 with 1 Axes>"
      ]
     },
     "metadata": {
      "needs_background": "light"
     },
     "output_type": "display_data"
    }
   ],
   "source": [
    "#Threshold for surface and ground\n",
    "ind =  (df['depth'] < surface) & (df['depth'] > ground)\n",
    "ind_10cm = (df['depth'] < surface) & (df['depth'] > (surface - 10))\n",
    "ind_50cm = (df['depth'] < surface) & (df['depth'] > (surface - 50))\n",
    "\n",
    "# Print out a stat\n",
    "median = df[ind]['value'].median()\n",
    "print(median)\n",
    "\n",
    "sum10 = df[ind_10cm]['value'].sum()\n",
    "print(sum10)\n",
    "\n",
    "sum50 =  df[ind_50cm]['value'].sum()\n",
    "print(sum50)\n",
    "\n",
    "\n",
    "# plot biz plot the profile vertically.\n",
    "fig, axes = plt.subplots(1)\n",
    "axes.plot(df[ind]['value'], df[ind]['depth'])\n",
    "\n",
    "# fig, axes = plt.subplots(1)\n",
    "# axes.plot(df[ind_50cm]['value'], df[ind_50cm]['depth'])\n",
    "\n",
    "# add median force and location to a dataframe\n",
    "to_add_df['geom'] = df['geom'].unique() # Which should only be one location\n",
    "to_add_df['med_force'] = df[ind]['value'].median()   \n",
    "to_add_df['sum10'] = sum10\n",
    "to_add_df['sum50'] = sum50\n",
    "to_add_df['siteID'] = site\n",
    "print(to_add_df)"
   ]
  },
  {
   "cell_type": "code",
   "execution_count": 78,
   "id": "numerous-distributor",
   "metadata": {},
   "outputs": [
    {
     "name": "stdout",
     "output_type": "stream",
     "text": [
      "  siteID  med_force                            geom   sum10     sum50\n",
      "0   7C15      0.169  POINT (742674.870 4325579.843)  31.749   289.420\n",
      "0   8C11      0.256  POINT (741936.919 4326490.807)  45.371   436.658\n",
      "0   8N38      0.162  POINT (745305.410 4324000.404)  30.991   224.321\n",
      "0   9C16      0.230  POINT (742580.357 4325429.434)  28.169   310.639\n",
      "0   9C17      0.172  POINT (743040.195 4324966.391)  39.661   264.485\n",
      "0   2C12      0.413  POINT (742228.807 4326412.908)  66.578  1411.966\n",
      "0   5N10      0.136  POINT (742378.063 4324185.610)  49.008   241.708\n",
      "0   5N19      0.160  POINT (743220.199 4324254.403)  25.721   296.328\n",
      "0   5S43      0.162  POINT (746925.616 4322662.123)  34.066   247.123\n",
      "0   8N25      0.104  POINT (743617.866 4324414.624)  12.670   144.066\n",
      "0   9S51      0.156  POINT (748320.515 4322634.367)  34.023   220.240\n"
     ]
    }
   ],
   "source": [
    "final_df = final_df.append(to_add_df)\n",
    "print(final_df)"
   ]
  },
  {
   "cell_type": "code",
   "execution_count": 79,
   "id": "temporal-paper",
   "metadata": {},
   "outputs": [],
   "source": [
    "site = '1N23'"
   ]
  },
  {
   "cell_type": "code",
   "execution_count": 80,
   "id": "rolled-dispatch",
   "metadata": {},
   "outputs": [
    {
     "data": {
      "text/html": [
       "<div>\n",
       "<style scoped>\n",
       "    .dataframe tbody tr th:only-of-type {\n",
       "        vertical-align: middle;\n",
       "    }\n",
       "\n",
       "    .dataframe tbody tr th {\n",
       "        vertical-align: top;\n",
       "    }\n",
       "\n",
       "    .dataframe thead th {\n",
       "        text-align: right;\n",
       "    }\n",
       "</style>\n",
       "<table border=\"1\" class=\"dataframe\">\n",
       "  <thead>\n",
       "    <tr style=\"text-align: right;\">\n",
       "      <th></th>\n",
       "      <th>comments</th>\n",
       "      <th>dists</th>\n",
       "    </tr>\n",
       "  </thead>\n",
       "  <tbody>\n",
       "    <tr>\n",
       "      <th>0</th>\n",
       "      <td>fname = SNEX20_SMP_S19M1477_1N23_20200211.CSV,...</td>\n",
       "      <td>2.533204</td>\n",
       "    </tr>\n",
       "    <tr>\n",
       "      <th>1605</th>\n",
       "      <td>fname = SNEX20_SMP_S19M1478_1N23_20200211.CSV,...</td>\n",
       "      <td>2.742104</td>\n",
       "    </tr>\n",
       "    <tr>\n",
       "      <th>3495</th>\n",
       "      <td>fname = SNEX20_SMP_S19M1476_1N23_20200211.CSV,...</td>\n",
       "      <td>4.147655</td>\n",
       "    </tr>\n",
       "  </tbody>\n",
       "</table>\n",
       "</div>"
      ],
      "text/plain": [
       "                                               comments     dists\n",
       "0     fname = SNEX20_SMP_S19M1477_1N23_20200211.CSV,...  2.533204\n",
       "1605  fname = SNEX20_SMP_S19M1478_1N23_20200211.CSV,...  2.742104\n",
       "3495  fname = SNEX20_SMP_S19M1476_1N23_20200211.CSV,...  4.147655"
      ]
     },
     "execution_count": 80,
     "metadata": {},
     "output_type": "execute_result"
    }
   ],
   "source": [
    "\n",
    "engine_smp, session_smp = get_db(db_name)\n",
    "q_smp = session_smp.query(LayerData).filter(LayerData.type == 'force').filter(LayerData.site_id.contains(site) )\n",
    "df_smp = query_to_geopandas(q_smp, engine_smp)\n",
    "\n",
    "q_pit=session_smp.query(LayerData).filter(LayerData.type == 'hand_hardness').filter(LayerData.site_id.contains(site) )\n",
    "df_pit = query_to_geopandas(q_pit, engine_smp)\n",
    "\n",
    "session_smp.close()\n",
    "\n",
    "# # Plot SMP profile locations with colored by the time they were taken using upside down triangles\n",
    "# ax = df_smp.plot(column='time', cmap='jet', marker='v', label='SMP', figsize=(5,5), markersize=100, edgecolor='black')\n",
    "\n",
    "# ax.plot(df_pit.easting, df_pit.northing, color='black', marker='s', markersize=15, label='Pit ({})'.format(site))\n",
    "\n",
    "# # Add important labels\n",
    "# ax.set_xlabel('Easting [m]')\n",
    "# ax.set_ylabel('Northing [m]')\n",
    "# plt.suptitle('SMP Locations at Site {} Showing Acquisition Order'.format(site), fontsize=16)\n",
    "\n",
    "# # Avoid using Scientific notation for coords.\n",
    "# ax.ticklabel_format(style='plain', useOffset=False)\n",
    "# ax.legend()\n",
    "# # plt.tight_layout()\n",
    "# plt.show()\n",
    "\n",
    "# find closest SMP profile to the pit\n",
    "\n",
    "# No profile is taken at the same time, so we grab all the unique times and sort them\n",
    "times = sorted(df_smp['time'].unique())\n",
    "\n",
    "nprofiles=len(times)\n",
    "\n",
    "ids=np.empty(nprofiles)\n",
    "\n",
    "p=0\n",
    "for t in times:\n",
    "    ind = df_smp['time'] == t\n",
    "    data = df_smp.loc[ind].copy()\n",
    "    ids[p]=data.iloc[0].id\n",
    "    p+=1\n",
    "    \n",
    "i_dists=df_smp['id'].isin(ids)\n",
    "\n",
    "df_smp_dists=df_smp.loc[i_dists]\n",
    "df_smp_dists=df_smp_dists.assign(dists=-1)\n",
    "df_smp_dists['dists']=np.sqrt((df_smp_dists['easting']-df_pit.iloc[0].easting)**2+(df_smp_dists['northing']-df_pit.iloc[0].northing)**2)\n",
    "\n",
    "    \n",
    "df_smp_dists.sort_values(by='dists')[['comments','dists']].head() #check out the list of profiles sorted by distance to pit"
   ]
  },
  {
   "cell_type": "code",
   "execution_count": 81,
   "id": "exotic-albany",
   "metadata": {},
   "outputs": [
    {
     "data": {
      "image/png": "[encoded data removed]",
      "text/plain": [
       "<Figure size 432x288 with 1 Axes>"
      ]
     },
     "metadata": {
      "needs_background": "light"
     },
     "output_type": "display_data"
    }
   ],
   "source": [
    "filenames = ['SNEX20_SMP_S19M1477_1N23_20200211.CSV']\n",
    "\n",
    "for f in filenames:\n",
    "    # Grab any layer data that has the file name in its comments\n",
    "    qry = session.query(LayerData).filter(LayerData.comments.contains(f)).order_by('depth')\n",
    "\n",
    "    # build a geopandas dataframe from the query\n",
    "    df = query_to_geopandas(qry, engine)\n",
    "\n",
    "    # Everything in the layers table is a string so we need to cast our value column as a float to calc stats on it\n",
    "    df['value'] = df['value'].astype(float)\n",
    "\n",
    "    # plot biz plot the profile vertically.\n",
    "    fig, axes = plt.subplots(1)\n",
    "    axes.plot(df['value'], df['depth'])"
   ]
  },
  {
   "cell_type": "code",
   "execution_count": 82,
   "id": "blind-uruguay",
   "metadata": {},
   "outputs": [],
   "source": [
    "surface = -10\n",
    "ground = -80"
   ]
  },
  {
   "cell_type": "code",
   "execution_count": 83,
   "id": "vanilla-strap",
   "metadata": {},
   "outputs": [
    {
     "name": "stdout",
     "output_type": "stream",
     "text": [
      "0.275\n",
      "58.165\n",
      "479.286\n",
      "  siteID  med_force                            geom   sum10    sum50\n",
      "0   1N23      0.275  POINT (743549.053 4324074.696)  58.165  479.286\n"
     ]
    },
    {
     "data": {
      "image/png": "[encoded data removed]",
      "text/plain": [
       "<Figure size 432x288 with 1 Axes>"
      ]
     },
     "metadata": {
      "needs_background": "light"
     },
     "output_type": "display_data"
    }
   ],
   "source": [
    "#Threshold for surface and ground\n",
    "ind =  (df['depth'] < surface) & (df['depth'] > ground)\n",
    "ind_10cm = (df['depth'] < surface) & (df['depth'] > (surface - 10))\n",
    "ind_50cm = (df['depth'] < surface) & (df['depth'] > (surface - 50))\n",
    "\n",
    "# Print out a stat\n",
    "median = df[ind]['value'].median()\n",
    "print(median)\n",
    "\n",
    "sum10 = df[ind_10cm]['value'].sum()\n",
    "print(sum10)\n",
    "\n",
    "sum50 =  df[ind_50cm]['value'].sum()\n",
    "print(sum50)\n",
    "\n",
    "\n",
    "# plot biz plot the profile vertically.\n",
    "fig, axes = plt.subplots(1)\n",
    "axes.plot(df[ind]['value'], df[ind]['depth'])\n",
    "\n",
    "# fig, axes = plt.subplots(1)\n",
    "# axes.plot(df[ind_50cm]['value'], df[ind_50cm]['depth'])\n",
    "\n",
    "# add median force and location to a dataframe\n",
    "to_add_df['geom'] = df['geom'].unique() # Which should only be one location\n",
    "to_add_df['med_force'] = df[ind]['value'].median()   \n",
    "to_add_df['sum10'] = sum10\n",
    "to_add_df['sum50'] = sum50\n",
    "to_add_df['siteID'] = site\n",
    "print(to_add_df)"
   ]
  },
  {
   "cell_type": "code",
   "execution_count": 84,
   "id": "behind-continent",
   "metadata": {},
   "outputs": [
    {
     "name": "stdout",
     "output_type": "stream",
     "text": [
      "  siteID  med_force                            geom   sum10     sum50\n",
      "0   7C15      0.169  POINT (742674.870 4325579.843)  31.749   289.420\n",
      "0   8C11      0.256  POINT (741936.919 4326490.807)  45.371   436.658\n",
      "0   8N38      0.162  POINT (745305.410 4324000.404)  30.991   224.321\n",
      "0   9C16      0.230  POINT (742580.357 4325429.434)  28.169   310.639\n",
      "0   9C17      0.172  POINT (743040.195 4324966.391)  39.661   264.485\n",
      "0   2C12      0.413  POINT (742228.807 4326412.908)  66.578  1411.966\n",
      "0   5N10      0.136  POINT (742378.063 4324185.610)  49.008   241.708\n",
      "0   5N19      0.160  POINT (743220.199 4324254.403)  25.721   296.328\n",
      "0   5S43      0.162  POINT (746925.616 4322662.123)  34.066   247.123\n",
      "0   8N25      0.104  POINT (743617.866 4324414.624)  12.670   144.066\n",
      "0   9S51      0.156  POINT (748320.515 4322634.367)  34.023   220.240\n",
      "0   1N23      0.275  POINT (743549.053 4324074.696)  58.165   479.286\n"
     ]
    }
   ],
   "source": [
    "final_df = final_df.append(to_add_df)\n",
    "print(final_df)"
   ]
  },
  {
   "cell_type": "code",
   "execution_count": 85,
   "id": "frozen-detroit",
   "metadata": {},
   "outputs": [],
   "source": [
    "site = '1S8'"
   ]
  },
  {
   "cell_type": "code",
   "execution_count": 86,
   "id": "declared-douglas",
   "metadata": {},
   "outputs": [
    {
     "data": {
      "text/html": [
       "<div>\n",
       "<style scoped>\n",
       "    .dataframe tbody tr th:only-of-type {\n",
       "        vertical-align: middle;\n",
       "    }\n",
       "\n",
       "    .dataframe tbody tr th {\n",
       "        vertical-align: top;\n",
       "    }\n",
       "\n",
       "    .dataframe thead th {\n",
       "        text-align: right;\n",
       "    }\n",
       "</style>\n",
       "<table border=\"1\" class=\"dataframe\">\n",
       "  <thead>\n",
       "    <tr style=\"text-align: right;\">\n",
       "      <th></th>\n",
       "      <th>comments</th>\n",
       "      <th>dists</th>\n",
       "    </tr>\n",
       "  </thead>\n",
       "  <tbody>\n",
       "    <tr>\n",
       "      <th>13415</th>\n",
       "      <td>fname = SNEX20_SMP_S19M0939_1S8_20200201.CSV, ...</td>\n",
       "      <td>1.724743</td>\n",
       "    </tr>\n",
       "    <tr>\n",
       "      <th>68247</th>\n",
       "      <td>fname = SNEX20_SMP_S19M0940_1S8_20200201.CSV, ...</td>\n",
       "      <td>3.274884</td>\n",
       "    </tr>\n",
       "    <tr>\n",
       "      <th>20147</th>\n",
       "      <td>fname = SNEX20_SMP_S19M0941_1S8_20200201.CSV, ...</td>\n",
       "      <td>3.602398</td>\n",
       "    </tr>\n",
       "    <tr>\n",
       "      <th>70312</th>\n",
       "      <td>fname = SNEX20_SMP_S19M0938_1S8_20200201.CSV, ...</td>\n",
       "      <td>3.862510</td>\n",
       "    </tr>\n",
       "    <tr>\n",
       "      <th>18022</th>\n",
       "      <td>fname = SNEX20_SMP_S19M0937_1S8_20200201.CSV, ...</td>\n",
       "      <td>3.862510</td>\n",
       "    </tr>\n",
       "  </tbody>\n",
       "</table>\n",
       "</div>"
      ],
      "text/plain": [
       "                                                comments     dists\n",
       "13415  fname = SNEX20_SMP_S19M0939_1S8_20200201.CSV, ...  1.724743\n",
       "68247  fname = SNEX20_SMP_S19M0940_1S8_20200201.CSV, ...  3.274884\n",
       "20147  fname = SNEX20_SMP_S19M0941_1S8_20200201.CSV, ...  3.602398\n",
       "70312  fname = SNEX20_SMP_S19M0938_1S8_20200201.CSV, ...  3.862510\n",
       "18022  fname = SNEX20_SMP_S19M0937_1S8_20200201.CSV, ...  3.862510"
      ]
     },
     "execution_count": 86,
     "metadata": {},
     "output_type": "execute_result"
    }
   ],
   "source": [
    "\n",
    "engine_smp, session_smp = get_db(db_name)\n",
    "q_smp = session_smp.query(LayerData).filter(LayerData.type == 'force').filter(LayerData.site_id.contains(site) )\n",
    "df_smp = query_to_geopandas(q_smp, engine_smp)\n",
    "\n",
    "q_pit=session_smp.query(LayerData).filter(LayerData.type == 'hand_hardness').filter(LayerData.site_id.contains(site) )\n",
    "df_pit = query_to_geopandas(q_pit, engine_smp)\n",
    "\n",
    "session_smp.close()\n",
    "\n",
    "# # Plot SMP profile locations with colored by the time they were taken using upside down triangles\n",
    "# ax = df_smp.plot(column='time', cmap='jet', marker='v', label='SMP', figsize=(5,5), markersize=100, edgecolor='black')\n",
    "\n",
    "# ax.plot(df_pit.easting, df_pit.northing, color='black', marker='s', markersize=15, label='Pit ({})'.format(site))\n",
    "\n",
    "# # Add important labels\n",
    "# ax.set_xlabel('Easting [m]')\n",
    "# ax.set_ylabel('Northing [m]')\n",
    "# plt.suptitle('SMP Locations at Site {} Showing Acquisition Order'.format(site), fontsize=16)\n",
    "\n",
    "# # Avoid using Scientific notation for coords.\n",
    "# ax.ticklabel_format(style='plain', useOffset=False)\n",
    "# ax.legend()\n",
    "# # plt.tight_layout()\n",
    "# plt.show()\n",
    "\n",
    "# find closest SMP profile to the pit\n",
    "\n",
    "# No profile is taken at the same time, so we grab all the unique times and sort them\n",
    "times = sorted(df_smp['time'].unique())\n",
    "\n",
    "nprofiles=len(times)\n",
    "\n",
    "ids=np.empty(nprofiles)\n",
    "\n",
    "p=0\n",
    "for t in times:\n",
    "    ind = df_smp['time'] == t\n",
    "    data = df_smp.loc[ind].copy()\n",
    "    ids[p]=data.iloc[0].id\n",
    "    p+=1\n",
    "    \n",
    "i_dists=df_smp['id'].isin(ids)\n",
    "\n",
    "df_smp_dists=df_smp.loc[i_dists]\n",
    "df_smp_dists=df_smp_dists.assign(dists=-1)\n",
    "df_smp_dists['dists']=np.sqrt((df_smp_dists['easting']-df_pit.iloc[0].easting)**2+(df_smp_dists['northing']-df_pit.iloc[0].northing)**2)\n",
    "\n",
    "    \n",
    "df_smp_dists.sort_values(by='dists')[['comments','dists']].head() #check out the list of profiles sorted by distance to pit"
   ]
  },
  {
   "cell_type": "code",
   "execution_count": 87,
   "id": "published-killer",
   "metadata": {},
   "outputs": [
    {
     "data": {
      "image/png": "[encoded data removed]",
      "text/plain": [
       "<Figure size 432x288 with 1 Axes>"
      ]
     },
     "metadata": {
      "needs_background": "light"
     },
     "output_type": "display_data"
    }
   ],
   "source": [
    "filenames = ['SNEX20_SMP_S19M0939_1S8_20200201.CSV']\n",
    "\n",
    "for f in filenames:\n",
    "    # Grab any layer data that has the file name in its comments\n",
    "    qry = session.query(LayerData).filter(LayerData.comments.contains(f)).order_by('depth')\n",
    "\n",
    "    # build a geopandas dataframe from the query\n",
    "    df = query_to_geopandas(qry, engine)\n",
    "\n",
    "    # Everything in the layers table is a string so we need to cast our value column as a float to calc stats on it\n",
    "    df['value'] = df['value'].astype(float)\n",
    "\n",
    "    # plot biz plot the profile vertically.\n",
    "    fig, axes = plt.subplots(1)\n",
    "    axes.plot(df['value'], df['depth'])"
   ]
  },
  {
   "cell_type": "code",
   "execution_count": 90,
   "id": "equal-vitamin",
   "metadata": {},
   "outputs": [],
   "source": [
    "surface = -3\n",
    "ground = -83"
   ]
  },
  {
   "cell_type": "code",
   "execution_count": 91,
   "id": "compressed-ladder",
   "metadata": {},
   "outputs": [
    {
     "name": "stdout",
     "output_type": "stream",
     "text": [
      "0.34\n",
      "99.42500000000001\n",
      "568.171\n",
      "  siteID  med_force                            geom   sum10    sum50\n",
      "0    1S8       0.34  POINT (742607.520 4322918.645)  99.425  568.171\n"
     ]
    },
    {
     "data": {
      "image/png": "[encoded data removed]",
      "text/plain": [
       "<Figure size 432x288 with 1 Axes>"
      ]
     },
     "metadata": {
      "needs_background": "light"
     },
     "output_type": "display_data"
    }
   ],
   "source": [
    "#Threshold for surface and ground\n",
    "ind =  (df['depth'] < surface) & (df['depth'] > ground)\n",
    "ind_10cm = (df['depth'] < surface) & (df['depth'] > (surface - 10))\n",
    "ind_50cm = (df['depth'] < surface) & (df['depth'] > (surface - 50))\n",
    "\n",
    "# Print out a stat\n",
    "median = df[ind]['value'].median()\n",
    "print(median)\n",
    "\n",
    "sum10 = df[ind_10cm]['value'].sum()\n",
    "print(sum10)\n",
    "\n",
    "sum50 =  df[ind_50cm]['value'].sum()\n",
    "print(sum50)\n",
    "\n",
    "\n",
    "# plot biz plot the profile vertically.\n",
    "fig, axes = plt.subplots(1)\n",
    "axes.plot(df[ind]['value'], df[ind]['depth'])\n",
    "\n",
    "# fig, axes = plt.subplots(1)\n",
    "# axes.plot(df[ind_50cm]['value'], df[ind_50cm]['depth'])\n",
    "\n",
    "# add median force and location to a dataframe\n",
    "to_add_df['geom'] = df['geom'].unique() # Which should only be one location\n",
    "to_add_df['med_force'] = df[ind]['value'].median()   \n",
    "to_add_df['sum10'] = sum10\n",
    "to_add_df['sum50'] = sum50\n",
    "to_add_df['siteID'] = site\n",
    "print(to_add_df)"
   ]
  },
  {
   "cell_type": "code",
   "execution_count": 92,
   "id": "billion-pleasure",
   "metadata": {},
   "outputs": [
    {
     "name": "stdout",
     "output_type": "stream",
     "text": [
      "  siteID  med_force                            geom   sum10     sum50\n",
      "0   7C15      0.169  POINT (742674.870 4325579.843)  31.749   289.420\n",
      "0   8C11      0.256  POINT (741936.919 4326490.807)  45.371   436.658\n",
      "0   8N38      0.162  POINT (745305.410 4324000.404)  30.991   224.321\n",
      "0   9C16      0.230  POINT (742580.357 4325429.434)  28.169   310.639\n",
      "0   9C17      0.172  POINT (743040.195 4324966.391)  39.661   264.485\n",
      "0   2C12      0.413  POINT (742228.807 4326412.908)  66.578  1411.966\n",
      "0   5N10      0.136  POINT (742378.063 4324185.610)  49.008   241.708\n",
      "0   5N19      0.160  POINT (743220.199 4324254.403)  25.721   296.328\n",
      "0   5S43      0.162  POINT (746925.616 4322662.123)  34.066   247.123\n",
      "0   8N25      0.104  POINT (743617.866 4324414.624)  12.670   144.066\n",
      "0   9S51      0.156  POINT (748320.515 4322634.367)  34.023   220.240\n",
      "0   1N23      0.275  POINT (743549.053 4324074.696)  58.165   479.286\n",
      "0    1S8      0.340  POINT (742607.520 4322918.645)  99.425   568.171\n"
     ]
    }
   ],
   "source": [
    "final_df = final_df.append(to_add_df)\n",
    "print(final_df)"
   ]
  },
  {
   "cell_type": "code",
   "execution_count": 93,
   "id": "worthy-volume",
   "metadata": {},
   "outputs": [],
   "source": [
    "site = '2S11'"
   ]
  },
  {
   "cell_type": "code",
   "execution_count": 94,
   "id": "arctic-equity",
   "metadata": {},
   "outputs": [
    {
     "data": {
      "text/html": [
       "<div>\n",
       "<style scoped>\n",
       "    .dataframe tbody tr th:only-of-type {\n",
       "        vertical-align: middle;\n",
       "    }\n",
       "\n",
       "    .dataframe tbody tr th {\n",
       "        vertical-align: top;\n",
       "    }\n",
       "\n",
       "    .dataframe thead th {\n",
       "        text-align: right;\n",
       "    }\n",
       "</style>\n",
       "<table border=\"1\" class=\"dataframe\">\n",
       "  <thead>\n",
       "    <tr style=\"text-align: right;\">\n",
       "      <th></th>\n",
       "      <th>comments</th>\n",
       "      <th>dists</th>\n",
       "    </tr>\n",
       "  </thead>\n",
       "  <tbody>\n",
       "    <tr>\n",
       "      <th>30677</th>\n",
       "      <td>fname = SNEX20_SMP_S19M0972_2S11_20200201.CSV,...</td>\n",
       "      <td>4.151605</td>\n",
       "    </tr>\n",
       "    <tr>\n",
       "      <th>45461</th>\n",
       "      <td>fname = SNEX20_SMP_S19M0971_2S11_20200201.CSV,...</td>\n",
       "      <td>4.171270</td>\n",
       "    </tr>\n",
       "    <tr>\n",
       "      <th>0</th>\n",
       "      <td>fname = SNEX20_SMP_S19M0970_2S11_20200201.CSV,...</td>\n",
       "      <td>4.799736</td>\n",
       "    </tr>\n",
       "    <tr>\n",
       "      <th>7412</th>\n",
       "      <td>fname = SNEX20_SMP_S19M0963_2S11_20200201.CSV,...</td>\n",
       "      <td>5.104695</td>\n",
       "    </tr>\n",
       "    <tr>\n",
       "      <th>47931</th>\n",
       "      <td>fname = SNEX20_SMP_S19M0955_2S11_20200201.CSV,...</td>\n",
       "      <td>10.846425</td>\n",
       "    </tr>\n",
       "  </tbody>\n",
       "</table>\n",
       "</div>"
      ],
      "text/plain": [
       "                                                comments      dists\n",
       "30677  fname = SNEX20_SMP_S19M0972_2S11_20200201.CSV,...   4.151605\n",
       "45461  fname = SNEX20_SMP_S19M0971_2S11_20200201.CSV,...   4.171270\n",
       "0      fname = SNEX20_SMP_S19M0970_2S11_20200201.CSV,...   4.799736\n",
       "7412   fname = SNEX20_SMP_S19M0963_2S11_20200201.CSV,...   5.104695\n",
       "47931  fname = SNEX20_SMP_S19M0955_2S11_20200201.CSV,...  10.846425"
      ]
     },
     "execution_count": 94,
     "metadata": {},
     "output_type": "execute_result"
    }
   ],
   "source": [
    "\n",
    "engine_smp, session_smp = get_db(db_name)\n",
    "q_smp = session_smp.query(LayerData).filter(LayerData.type == 'force').filter(LayerData.site_id.contains(site) )\n",
    "df_smp = query_to_geopandas(q_smp, engine_smp)\n",
    "\n",
    "q_pit=session_smp.query(LayerData).filter(LayerData.type == 'hand_hardness').filter(LayerData.site_id.contains(site) )\n",
    "df_pit = query_to_geopandas(q_pit, engine_smp)\n",
    "\n",
    "session_smp.close()\n",
    "\n",
    "# # Plot SMP profile locations with colored by the time they were taken using upside down triangles\n",
    "# ax = df_smp.plot(column='time', cmap='jet', marker='v', label='SMP', figsize=(5,5), markersize=100, edgecolor='black')\n",
    "\n",
    "# ax.plot(df_pit.easting, df_pit.northing, color='black', marker='s', markersize=15, label='Pit ({})'.format(site))\n",
    "\n",
    "# # Add important labels\n",
    "# ax.set_xlabel('Easting [m]')\n",
    "# ax.set_ylabel('Northing [m]')\n",
    "# plt.suptitle('SMP Locations at Site {} Showing Acquisition Order'.format(site), fontsize=16)\n",
    "\n",
    "# # Avoid using Scientific notation for coords.\n",
    "# ax.ticklabel_format(style='plain', useOffset=False)\n",
    "# ax.legend()\n",
    "# # plt.tight_layout()\n",
    "# plt.show()\n",
    "\n",
    "# find closest SMP profile to the pit\n",
    "\n",
    "# No profile is taken at the same time, so we grab all the unique times and sort them\n",
    "times = sorted(df_smp['time'].unique())\n",
    "\n",
    "nprofiles=len(times)\n",
    "\n",
    "ids=np.empty(nprofiles)\n",
    "\n",
    "p=0\n",
    "for t in times:\n",
    "    ind = df_smp['time'] == t\n",
    "    data = df_smp.loc[ind].copy()\n",
    "    ids[p]=data.iloc[0].id\n",
    "    p+=1\n",
    "    \n",
    "i_dists=df_smp['id'].isin(ids)\n",
    "\n",
    "df_smp_dists=df_smp.loc[i_dists]\n",
    "df_smp_dists=df_smp_dists.assign(dists=-1)\n",
    "df_smp_dists['dists']=np.sqrt((df_smp_dists['easting']-df_pit.iloc[0].easting)**2+(df_smp_dists['northing']-df_pit.iloc[0].northing)**2)\n",
    "\n",
    "    \n",
    "df_smp_dists.sort_values(by='dists')[['comments','dists']].head() #check out the list of profiles sorted by distance to pit"
   ]
  },
  {
   "cell_type": "code",
   "execution_count": 95,
   "id": "removable-transparency",
   "metadata": {},
   "outputs": [
    {
     "data": {
      "image/png": "[encoded data removed]",
      "text/plain": [
       "<Figure size 432x288 with 1 Axes>"
      ]
     },
     "metadata": {
      "needs_background": "light"
     },
     "output_type": "display_data"
    }
   ],
   "source": [
    "filenames = ['SNEX20_SMP_S19M0972_2S11_20200201.CSV']\n",
    "\n",
    "for f in filenames:\n",
    "    # Grab any layer data that has the file name in its comments\n",
    "    qry = session.query(LayerData).filter(LayerData.comments.contains(f)).order_by('depth')\n",
    "\n",
    "    # build a geopandas dataframe from the query\n",
    "    df = query_to_geopandas(qry, engine)\n",
    "\n",
    "    # Everything in the layers table is a string so we need to cast our value column as a float to calc stats on it\n",
    "    df['value'] = df['value'].astype(float)\n",
    "\n",
    "    # plot biz plot the profile vertically.\n",
    "    fig, axes = plt.subplots(1)\n",
    "    axes.plot(df['value'], df['depth'])"
   ]
  },
  {
   "cell_type": "code",
   "execution_count": 96,
   "id": "listed-amino",
   "metadata": {},
   "outputs": [],
   "source": [
    "surface = -7\n",
    "ground = -110"
   ]
  },
  {
   "cell_type": "code",
   "execution_count": 97,
   "id": "higher-workshop",
   "metadata": {},
   "outputs": [
    {
     "name": "stdout",
     "output_type": "stream",
     "text": [
      "0.415\n",
      "104.46600000000001\n",
      "730.356\n",
      "  siteID  med_force                            geom    sum10    sum50\n",
      "0   2S11      0.415  POINT (743112.602 4322921.936)  104.466  730.356\n"
     ]
    },
    {
     "data": {
      "image/png": "[encoded data removed]",
      "text/plain": [
       "<Figure size 432x288 with 1 Axes>"
      ]
     },
     "metadata": {
      "needs_background": "light"
     },
     "output_type": "display_data"
    }
   ],
   "source": [
    "#Threshold for surface and ground\n",
    "ind =  (df['depth'] < surface) & (df['depth'] > ground)\n",
    "ind_10cm = (df['depth'] < surface) & (df['depth'] > (surface - 10))\n",
    "ind_50cm = (df['depth'] < surface) & (df['depth'] > (surface - 50))\n",
    "\n",
    "# Print out a stat\n",
    "median = df[ind]['value'].median()\n",
    "print(median)\n",
    "\n",
    "sum10 = df[ind_10cm]['value'].sum()\n",
    "print(sum10)\n",
    "\n",
    "sum50 =  df[ind_50cm]['value'].sum()\n",
    "print(sum50)\n",
    "\n",
    "\n",
    "# plot biz plot the profile vertically.\n",
    "fig, axes = plt.subplots(1)\n",
    "axes.plot(df[ind]['value'], df[ind]['depth'])\n",
    "\n",
    "# fig, axes = plt.subplots(1)\n",
    "# axes.plot(df[ind_50cm]['value'], df[ind_50cm]['depth'])\n",
    "\n",
    "# add median force and location to a dataframe\n",
    "to_add_df['geom'] = df['geom'].unique() # Which should only be one location\n",
    "to_add_df['med_force'] = df[ind]['value'].median()   \n",
    "to_add_df['sum10'] = sum10\n",
    "to_add_df['sum50'] = sum50\n",
    "to_add_df['siteID'] = site\n",
    "print(to_add_df)"
   ]
  },
  {
   "cell_type": "code",
   "execution_count": 98,
   "id": "innocent-learning",
   "metadata": {},
   "outputs": [
    {
     "name": "stdout",
     "output_type": "stream",
     "text": [
      "  siteID  med_force                            geom    sum10     sum50\n",
      "0   7C15      0.169  POINT (742674.870 4325579.843)   31.749   289.420\n",
      "0   8C11      0.256  POINT (741936.919 4326490.807)   45.371   436.658\n",
      "0   8N38      0.162  POINT (745305.410 4324000.404)   30.991   224.321\n",
      "0   9C16      0.230  POINT (742580.357 4325429.434)   28.169   310.639\n",
      "0   9C17      0.172  POINT (743040.195 4324966.391)   39.661   264.485\n",
      "0   2C12      0.413  POINT (742228.807 4326412.908)   66.578  1411.966\n",
      "0   5N10      0.136  POINT (742378.063 4324185.610)   49.008   241.708\n",
      "0   5N19      0.160  POINT (743220.199 4324254.403)   25.721   296.328\n",
      "0   5S43      0.162  POINT (746925.616 4322662.123)   34.066   247.123\n",
      "0   8N25      0.104  POINT (743617.866 4324414.624)   12.670   144.066\n",
      "0   9S51      0.156  POINT (748320.515 4322634.367)   34.023   220.240\n",
      "0   1N23      0.275  POINT (743549.053 4324074.696)   58.165   479.286\n",
      "0    1S8      0.340  POINT (742607.520 4322918.645)   99.425   568.171\n",
      "0   2S11      0.415  POINT (743112.602 4322921.936)  104.466   730.356\n"
     ]
    }
   ],
   "source": [
    "final_df = final_df.append(to_add_df)\n",
    "print(final_df)"
   ]
  },
  {
   "cell_type": "code",
   "execution_count": 99,
   "id": "sitting-mississippi",
   "metadata": {},
   "outputs": [],
   "source": [
    "site = '5N11'"
   ]
  },
  {
   "cell_type": "code",
   "execution_count": 100,
   "id": "atlantic-scholar",
   "metadata": {},
   "outputs": [
    {
     "data": {
      "text/html": [
       "<div>\n",
       "<style scoped>\n",
       "    .dataframe tbody tr th:only-of-type {\n",
       "        vertical-align: middle;\n",
       "    }\n",
       "\n",
       "    .dataframe tbody tr th {\n",
       "        vertical-align: top;\n",
       "    }\n",
       "\n",
       "    .dataframe thead th {\n",
       "        text-align: right;\n",
       "    }\n",
       "</style>\n",
       "<table border=\"1\" class=\"dataframe\">\n",
       "  <thead>\n",
       "    <tr style=\"text-align: right;\">\n",
       "      <th></th>\n",
       "      <th>comments</th>\n",
       "      <th>dists</th>\n",
       "    </tr>\n",
       "  </thead>\n",
       "  <tbody>\n",
       "    <tr>\n",
       "      <th>53026</th>\n",
       "      <td>fname = SNEX20_SMP_S19M1384_5N11_20200210.CSV,...</td>\n",
       "      <td>3.253967</td>\n",
       "    </tr>\n",
       "    <tr>\n",
       "      <th>17006</th>\n",
       "      <td>fname = SNEX20_SMP_S19M1383_5N11_20200210.CSV,...</td>\n",
       "      <td>4.602821</td>\n",
       "    </tr>\n",
       "    <tr>\n",
       "      <th>34312</th>\n",
       "      <td>fname = SNEX20_SMP_S19M1381_5N11_20200210.CSV,...</td>\n",
       "      <td>6.048940</td>\n",
       "    </tr>\n",
       "    <tr>\n",
       "      <th>7500</th>\n",
       "      <td>fname = SNEX20_SMP_S19M1382_5N11_20200210.CSV,...</td>\n",
       "      <td>6.294330</td>\n",
       "    </tr>\n",
       "    <tr>\n",
       "      <th>38789</th>\n",
       "      <td>fname = SNEX20_SMP_S19M1386_5N11_20200210.CSV,...</td>\n",
       "      <td>6.528159</td>\n",
       "    </tr>\n",
       "  </tbody>\n",
       "</table>\n",
       "</div>"
      ],
      "text/plain": [
       "                                                comments     dists\n",
       "53026  fname = SNEX20_SMP_S19M1384_5N11_20200210.CSV,...  3.253967\n",
       "17006  fname = SNEX20_SMP_S19M1383_5N11_20200210.CSV,...  4.602821\n",
       "34312  fname = SNEX20_SMP_S19M1381_5N11_20200210.CSV,...  6.048940\n",
       "7500   fname = SNEX20_SMP_S19M1382_5N11_20200210.CSV,...  6.294330\n",
       "38789  fname = SNEX20_SMP_S19M1386_5N11_20200210.CSV,...  6.528159"
      ]
     },
     "execution_count": 100,
     "metadata": {},
     "output_type": "execute_result"
    }
   ],
   "source": [
    "\n",
    "engine_smp, session_smp = get_db(db_name)\n",
    "q_smp = session_smp.query(LayerData).filter(LayerData.type == 'force').filter(LayerData.site_id.contains(site) )\n",
    "df_smp = query_to_geopandas(q_smp, engine_smp)\n",
    "\n",
    "q_pit=session_smp.query(LayerData).filter(LayerData.type == 'hand_hardness').filter(LayerData.site_id.contains(site) )\n",
    "df_pit = query_to_geopandas(q_pit, engine_smp)\n",
    "\n",
    "session_smp.close()\n",
    "\n",
    "# # Plot SMP profile locations with colored by the time they were taken using upside down triangles\n",
    "# ax = df_smp.plot(column='time', cmap='jet', marker='v', label='SMP', figsize=(5,5), markersize=100, edgecolor='black')\n",
    "\n",
    "# ax.plot(df_pit.easting, df_pit.northing, color='black', marker='s', markersize=15, label='Pit ({})'.format(site))\n",
    "\n",
    "# # Add important labels\n",
    "# ax.set_xlabel('Easting [m]')\n",
    "# ax.set_ylabel('Northing [m]')\n",
    "# plt.suptitle('SMP Locations at Site {} Showing Acquisition Order'.format(site), fontsize=16)\n",
    "\n",
    "# # Avoid using Scientific notation for coords.\n",
    "# ax.ticklabel_format(style='plain', useOffset=False)\n",
    "# ax.legend()\n",
    "# # plt.tight_layout()\n",
    "# plt.show()\n",
    "\n",
    "# find closest SMP profile to the pit\n",
    "\n",
    "# No profile is taken at the same time, so we grab all the unique times and sort them\n",
    "times = sorted(df_smp['time'].unique())\n",
    "\n",
    "nprofiles=len(times)\n",
    "\n",
    "ids=np.empty(nprofiles)\n",
    "\n",
    "p=0\n",
    "for t in times:\n",
    "    ind = df_smp['time'] == t\n",
    "    data = df_smp.loc[ind].copy()\n",
    "    ids[p]=data.iloc[0].id\n",
    "    p+=1\n",
    "    \n",
    "i_dists=df_smp['id'].isin(ids)\n",
    "\n",
    "df_smp_dists=df_smp.loc[i_dists]\n",
    "df_smp_dists=df_smp_dists.assign(dists=-1)\n",
    "df_smp_dists['dists']=np.sqrt((df_smp_dists['easting']-df_pit.iloc[0].easting)**2+(df_smp_dists['northing']-df_pit.iloc[0].northing)**2)\n",
    "\n",
    "    \n",
    "df_smp_dists.sort_values(by='dists')[['comments','dists']].head() #check out the list of profiles sorted by distance to pit"
   ]
  },
  {
   "cell_type": "code",
   "execution_count": 101,
   "id": "fresh-panic",
   "metadata": {},
   "outputs": [
    {
     "data": {
      "image/png": "[encoded data removed]",
      "text/plain": [
       "<Figure size 432x288 with 1 Axes>"
      ]
     },
     "metadata": {
      "needs_background": "light"
     },
     "output_type": "display_data"
    }
   ],
   "source": [
    "filenames = ['SNEX20_SMP_S19M1384_5N11_20200210.CSV']\n",
    "\n",
    "for f in filenames:\n",
    "    # Grab any layer data that has the file name in its comments\n",
    "    qry = session.query(LayerData).filter(LayerData.comments.contains(f)).order_by('depth')\n",
    "\n",
    "    # build a geopandas dataframe from the query\n",
    "    df = query_to_geopandas(qry, engine)\n",
    "\n",
    "    # Everything in the layers table is a string so we need to cast our value column as a float to calc stats on it\n",
    "    df['value'] = df['value'].astype(float)\n",
    "\n",
    "    # plot biz plot the profile vertically.\n",
    "    fig, axes = plt.subplots(1)\n",
    "    axes.plot(df['value'], df['depth'])"
   ]
  },
  {
   "cell_type": "code",
   "execution_count": 102,
   "id": "mounted-austin",
   "metadata": {},
   "outputs": [],
   "source": [
    "surface = -17\n",
    "ground = -120"
   ]
  },
  {
   "cell_type": "code",
   "execution_count": 103,
   "id": "attempted-laugh",
   "metadata": {},
   "outputs": [
    {
     "name": "stdout",
     "output_type": "stream",
     "text": [
      "0.238\n",
      "196.34100000000004\n",
      "589.2139999999999\n",
      "  siteID  med_force                            geom    sum10    sum50\n",
      "0   5N11      0.238  POINT (742374.751 4324464.813)  196.341  589.214\n"
     ]
    },
    {
     "data": {
      "image/png": "[encoded data removed]",
      "text/plain": [
       "<Figure size 432x288 with 1 Axes>"
      ]
     },
     "metadata": {
      "needs_background": "light"
     },
     "output_type": "display_data"
    }
   ],
   "source": [
    "#Threshold for surface and ground\n",
    "ind =  (df['depth'] < surface) & (df['depth'] > ground)\n",
    "ind_10cm = (df['depth'] < surface) & (df['depth'] > (surface - 10))\n",
    "ind_50cm = (df['depth'] < surface) & (df['depth'] > (surface - 50))\n",
    "\n",
    "# Print out a stat\n",
    "median = df[ind]['value'].median()\n",
    "print(median)\n",
    "\n",
    "sum10 = df[ind_10cm]['value'].sum()\n",
    "print(sum10)\n",
    "\n",
    "sum50 =  df[ind_50cm]['value'].sum()\n",
    "print(sum50)\n",
    "\n",
    "\n",
    "# plot biz plot the profile vertically.\n",
    "fig, axes = plt.subplots(1)\n",
    "axes.plot(df[ind]['value'], df[ind]['depth'])\n",
    "\n",
    "# fig, axes = plt.subplots(1)\n",
    "# axes.plot(df[ind_50cm]['value'], df[ind_50cm]['depth'])\n",
    "\n",
    "# add median force and location to a dataframe\n",
    "to_add_df['geom'] = df['geom'].unique() # Which should only be one location\n",
    "to_add_df['med_force'] = df[ind]['value'].median()   \n",
    "to_add_df['sum10'] = sum10\n",
    "to_add_df['sum50'] = sum50\n",
    "to_add_df['siteID'] = site\n",
    "print(to_add_df)"
   ]
  },
  {
   "cell_type": "code",
   "execution_count": 104,
   "id": "statistical-question",
   "metadata": {},
   "outputs": [
    {
     "name": "stdout",
     "output_type": "stream",
     "text": [
      "  siteID  med_force                            geom    sum10     sum50\n",
      "0   7C15      0.169  POINT (742674.870 4325579.843)   31.749   289.420\n",
      "0   8C11      0.256  POINT (741936.919 4326490.807)   45.371   436.658\n",
      "0   8N38      0.162  POINT (745305.410 4324000.404)   30.991   224.321\n",
      "0   9C16      0.230  POINT (742580.357 4325429.434)   28.169   310.639\n",
      "0   9C17      0.172  POINT (743040.195 4324966.391)   39.661   264.485\n",
      "0   2C12      0.413  POINT (742228.807 4326412.908)   66.578  1411.966\n",
      "0   5N10      0.136  POINT (742378.063 4324185.610)   49.008   241.708\n",
      "0   5N19      0.160  POINT (743220.199 4324254.403)   25.721   296.328\n",
      "0   5S43      0.162  POINT (746925.616 4322662.123)   34.066   247.123\n",
      "0   8N25      0.104  POINT (743617.866 4324414.624)   12.670   144.066\n",
      "0   9S51      0.156  POINT (748320.515 4322634.367)   34.023   220.240\n",
      "0   1N23      0.275  POINT (743549.053 4324074.696)   58.165   479.286\n",
      "0    1S8      0.340  POINT (742607.520 4322918.645)   99.425   568.171\n",
      "0   2S11      0.415  POINT (743112.602 4322921.936)  104.466   730.356\n",
      "0   5N11      0.238  POINT (742374.751 4324464.813)  196.341   589.214\n"
     ]
    }
   ],
   "source": [
    "final_df = final_df.append(to_add_df)\n",
    "print(final_df)"
   ]
  },
  {
   "cell_type": "code",
   "execution_count": 105,
   "id": "outdoor-excitement",
   "metadata": {},
   "outputs": [],
   "source": [
    "site = '5N15'"
   ]
  },
  {
   "cell_type": "code",
   "execution_count": 106,
   "id": "answering-stockholm",
   "metadata": {},
   "outputs": [
    {
     "data": {
      "text/html": [
       "<div>\n",
       "<style scoped>\n",
       "    .dataframe tbody tr th:only-of-type {\n",
       "        vertical-align: middle;\n",
       "    }\n",
       "\n",
       "    .dataframe tbody tr th {\n",
       "        vertical-align: top;\n",
       "    }\n",
       "\n",
       "    .dataframe thead th {\n",
       "        text-align: right;\n",
       "    }\n",
       "</style>\n",
       "<table border=\"1\" class=\"dataframe\">\n",
       "  <thead>\n",
       "    <tr style=\"text-align: right;\">\n",
       "      <th></th>\n",
       "      <th>comments</th>\n",
       "      <th>dists</th>\n",
       "    </tr>\n",
       "  </thead>\n",
       "  <tbody>\n",
       "    <tr>\n",
       "      <th>29170</th>\n",
       "      <td>fname = SNEX20_SMP_S19M1188_5N15_20200206.CSV,...</td>\n",
       "      <td>1.448648</td>\n",
       "    </tr>\n",
       "    <tr>\n",
       "      <th>37511</th>\n",
       "      <td>fname = SNEX20_SMP_S19M1196_5N15_20200206.CSV,...</td>\n",
       "      <td>1.978863</td>\n",
       "    </tr>\n",
       "    <tr>\n",
       "      <th>49314</th>\n",
       "      <td>fname = SNEX20_SMP_S19M1190_5N15_20200206.CSV,...</td>\n",
       "      <td>2.667578</td>\n",
       "    </tr>\n",
       "    <tr>\n",
       "      <th>0</th>\n",
       "      <td>fname = SNEX20_SMP_S19M1189_5N15_20200206.CSV,...</td>\n",
       "      <td>3.799602</td>\n",
       "    </tr>\n",
       "    <tr>\n",
       "      <th>43291</th>\n",
       "      <td>fname = SNEX20_SMP_S19M1195_5N15_20200206.CSV,...</td>\n",
       "      <td>9.212671</td>\n",
       "    </tr>\n",
       "  </tbody>\n",
       "</table>\n",
       "</div>"
      ],
      "text/plain": [
       "                                                comments     dists\n",
       "29170  fname = SNEX20_SMP_S19M1188_5N15_20200206.CSV,...  1.448648\n",
       "37511  fname = SNEX20_SMP_S19M1196_5N15_20200206.CSV,...  1.978863\n",
       "49314  fname = SNEX20_SMP_S19M1190_5N15_20200206.CSV,...  2.667578\n",
       "0      fname = SNEX20_SMP_S19M1189_5N15_20200206.CSV,...  3.799602\n",
       "43291  fname = SNEX20_SMP_S19M1195_5N15_20200206.CSV,...  9.212671"
      ]
     },
     "execution_count": 106,
     "metadata": {},
     "output_type": "execute_result"
    }
   ],
   "source": [
    "\n",
    "engine_smp, session_smp = get_db(db_name)\n",
    "q_smp = session_smp.query(LayerData).filter(LayerData.type == 'force').filter(LayerData.site_id.contains(site) )\n",
    "df_smp = query_to_geopandas(q_smp, engine_smp)\n",
    "\n",
    "q_pit=session_smp.query(LayerData).filter(LayerData.type == 'hand_hardness').filter(LayerData.site_id.contains(site) )\n",
    "df_pit = query_to_geopandas(q_pit, engine_smp)\n",
    "\n",
    "session_smp.close()\n",
    "\n",
    "# # Plot SMP profile locations with colored by the time they were taken using upside down triangles\n",
    "# ax = df_smp.plot(column='time', cmap='jet', marker='v', label='SMP', figsize=(5,5), markersize=100, edgecolor='black')\n",
    "\n",
    "# ax.plot(df_pit.easting, df_pit.northing, color='black', marker='s', markersize=15, label='Pit ({})'.format(site))\n",
    "\n",
    "# # Add important labels\n",
    "# ax.set_xlabel('Easting [m]')\n",
    "# ax.set_ylabel('Northing [m]')\n",
    "# plt.suptitle('SMP Locations at Site {} Showing Acquisition Order'.format(site), fontsize=16)\n",
    "\n",
    "# # Avoid using Scientific notation for coords.\n",
    "# ax.ticklabel_format(style='plain', useOffset=False)\n",
    "# ax.legend()\n",
    "# # plt.tight_layout()\n",
    "# plt.show()\n",
    "\n",
    "# find closest SMP profile to the pit\n",
    "\n",
    "# No profile is taken at the same time, so we grab all the unique times and sort them\n",
    "times = sorted(df_smp['time'].unique())\n",
    "\n",
    "nprofiles=len(times)\n",
    "\n",
    "ids=np.empty(nprofiles)\n",
    "\n",
    "p=0\n",
    "for t in times:\n",
    "    ind = df_smp['time'] == t\n",
    "    data = df_smp.loc[ind].copy()\n",
    "    ids[p]=data.iloc[0].id\n",
    "    p+=1\n",
    "    \n",
    "i_dists=df_smp['id'].isin(ids)\n",
    "\n",
    "df_smp_dists=df_smp.loc[i_dists]\n",
    "df_smp_dists=df_smp_dists.assign(dists=-1)\n",
    "df_smp_dists['dists']=np.sqrt((df_smp_dists['easting']-df_pit.iloc[0].easting)**2+(df_smp_dists['northing']-df_pit.iloc[0].northing)**2)\n",
    "\n",
    "    \n",
    "df_smp_dists.sort_values(by='dists')[['comments','dists']].head() #check out the list of profiles sorted by distance to pit"
   ]
  },
  {
   "cell_type": "code",
   "execution_count": 107,
   "id": "greek-accreditation",
   "metadata": {},
   "outputs": [
    {
     "data": {
      "image/png": "[encoded data removed]",
      "text/plain": [
       "<Figure size 432x288 with 1 Axes>"
      ]
     },
     "metadata": {
      "needs_background": "light"
     },
     "output_type": "display_data"
    }
   ],
   "source": [
    "filenames = ['SNEX20_SMP_S19M1188_5N15_20200206.CSV']\n",
    "\n",
    "for f in filenames:\n",
    "    # Grab any layer data that has the file name in its comments\n",
    "    qry = session.query(LayerData).filter(LayerData.comments.contains(f)).order_by('depth')\n",
    "\n",
    "    # build a geopandas dataframe from the query\n",
    "    df = query_to_geopandas(qry, engine)\n",
    "\n",
    "    # Everything in the layers table is a string so we need to cast our value column as a float to calc stats on it\n",
    "    df['value'] = df['value'].astype(float)\n",
    "\n",
    "    # plot biz plot the profile vertically.\n",
    "    fig, axes = plt.subplots(1)\n",
    "    axes.plot(df['value'], df['depth'])"
   ]
  },
  {
   "cell_type": "code",
   "execution_count": 110,
   "id": "searching-barrier",
   "metadata": {},
   "outputs": [],
   "source": [
    "surface = -7\n",
    "ground = -122"
   ]
  },
  {
   "cell_type": "code",
   "execution_count": 111,
   "id": "advanced-stress",
   "metadata": {},
   "outputs": [
    {
     "name": "stdout",
     "output_type": "stream",
     "text": [
      "0.404\n",
      "73.187\n",
      "635.241\n",
      "  siteID  med_force                            geom   sum10    sum50\n",
      "0   5N15      0.404  POINT (743057.553 4324276.078)  73.187  635.241\n"
     ]
    },
    {
     "data": {
      "image/png": "[encoded data removed]",
      "text/plain": [
       "<Figure size 432x288 with 1 Axes>"
      ]
     },
     "metadata": {
      "needs_background": "light"
     },
     "output_type": "display_data"
    }
   ],
   "source": [
    "#Threshold for surface and ground\n",
    "ind =  (df['depth'] < surface) & (df['depth'] > ground)\n",
    "ind_10cm = (df['depth'] < surface) & (df['depth'] > (surface - 10))\n",
    "ind_50cm = (df['depth'] < surface) & (df['depth'] > (surface - 50))\n",
    "\n",
    "# Print out a stat\n",
    "median = df[ind]['value'].median()\n",
    "print(median)\n",
    "\n",
    "sum10 = df[ind_10cm]['value'].sum()\n",
    "print(sum10)\n",
    "\n",
    "sum50 =  df[ind_50cm]['value'].sum()\n",
    "print(sum50)\n",
    "\n",
    "\n",
    "# plot biz plot the profile vertically.\n",
    "fig, axes = plt.subplots(1)\n",
    "axes.plot(df[ind]['value'], df[ind]['depth'])\n",
    "\n",
    "# fig, axes = plt.subplots(1)\n",
    "# axes.plot(df[ind_50cm]['value'], df[ind_50cm]['depth'])\n",
    "\n",
    "# add median force and location to a dataframe\n",
    "to_add_df['geom'] = df['geom'].unique() # Which should only be one location\n",
    "to_add_df['med_force'] = df[ind]['value'].median()   \n",
    "to_add_df['sum10'] = sum10\n",
    "to_add_df['sum50'] = sum50\n",
    "to_add_df['siteID'] = site\n",
    "print(to_add_df)"
   ]
  },
  {
   "cell_type": "code",
   "execution_count": 112,
   "id": "tropical-military",
   "metadata": {},
   "outputs": [
    {
     "name": "stdout",
     "output_type": "stream",
     "text": [
      "  siteID  med_force                            geom    sum10     sum50\n",
      "0   7C15      0.169  POINT (742674.870 4325579.843)   31.749   289.420\n",
      "0   8C11      0.256  POINT (741936.919 4326490.807)   45.371   436.658\n",
      "0   8N38      0.162  POINT (745305.410 4324000.404)   30.991   224.321\n",
      "0   9C16      0.230  POINT (742580.357 4325429.434)   28.169   310.639\n",
      "0   9C17      0.172  POINT (743040.195 4324966.391)   39.661   264.485\n",
      "0   2C12      0.413  POINT (742228.807 4326412.908)   66.578  1411.966\n",
      "0   5N10      0.136  POINT (742378.063 4324185.610)   49.008   241.708\n",
      "0   5N19      0.160  POINT (743220.199 4324254.403)   25.721   296.328\n",
      "0   5S43      0.162  POINT (746925.616 4322662.123)   34.066   247.123\n",
      "0   8N25      0.104  POINT (743617.866 4324414.624)   12.670   144.066\n",
      "0   9S51      0.156  POINT (748320.515 4322634.367)   34.023   220.240\n",
      "0   1N23      0.275  POINT (743549.053 4324074.696)   58.165   479.286\n",
      "0    1S8      0.340  POINT (742607.520 4322918.645)   99.425   568.171\n",
      "0   2S11      0.415  POINT (743112.602 4322921.936)  104.466   730.356\n",
      "0   5N11      0.238  POINT (742374.751 4324464.813)  196.341   589.214\n",
      "0   5N15      0.404  POINT (743057.553 4324276.078)   73.187   635.241\n"
     ]
    }
   ],
   "source": [
    "final_df = final_df.append(to_add_df)\n",
    "print(final_df)"
   ]
  },
  {
   "cell_type": "code",
   "execution_count": 113,
   "id": "another-latest",
   "metadata": {},
   "outputs": [
    {
     "data": {
      "text/plain": [
       "16"
      ]
     },
     "execution_count": 113,
     "metadata": {},
     "output_type": "execute_result"
    }
   ],
   "source": [
    "len(final_df)"
   ]
  },
  {
   "cell_type": "code",
   "execution_count": 117,
   "id": "occupational-siemens",
   "metadata": {},
   "outputs": [],
   "source": [
    "final_df.to_csv('SMP_data.csv')"
   ]
  },
  {
   "cell_type": "code",
   "execution_count": null,
   "id": "optimum-breath",
   "metadata": {},
   "outputs": [],
   "source": []
  }
 ],
 "metadata": {
  "kernelspec": {
   "display_name": "Python 3",
   "language": "python",
   "name": "python3"
  },
  "language_info": {
   "codemirror_mode": {
    "name": "ipython",
    "version": 3
   },
   "file_extension": ".py",
   "mimetype": "text/x-python",
   "name": "python",
   "nbconvert_exporter": "python",
   "pygments_lexer": "ipython3",
   "version": "3.8.8"
  }
 },
 "nbformat": 4,
 "nbformat_minor": 5
}
