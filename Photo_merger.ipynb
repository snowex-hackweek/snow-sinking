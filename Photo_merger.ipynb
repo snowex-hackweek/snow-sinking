{
 "cells": [
  {
   "cell_type": "code",
   "execution_count": 1,
   "id": "occupational-connecticut",
   "metadata": {},
   "outputs": [
    {
     "name": "stdout",
     "output_type": "stream",
     "text": [
      "['SnowEx20_SnowPits_GMIOP_20200130_9C17_south_v01.jpg', 'SnowEx20_SnowPits_GMIOP_20200130_9C17_west_v01.jpg', 'SnowEx20_SnowPits_GMIOP_20200130_9C17_north_v01.jpg', 'SnowEx20_SnowPits_GMIOP_20200130_9C17_east_v01.jpg']\n",
      "/home/jovyan/snow-sinking/9C17\n"
     ]
    }
   ],
   "source": [
    "import os\n",
    "os.chdir('/home/jovyan/snow-sinking/9C17')# site for specified folder names\n",
    "dir = os.getcwd()\n",
    "file = os.listdir (dir)\n",
    "print(file)\n",
    "print(dir)"
   ]
  },
  {
   "cell_type": "code",
   "execution_count": 2,
   "id": "statutory-actress",
   "metadata": {},
   "outputs": [],
   "source": [
    "# standard imports\n",
    "import os\n",
    "from pathlib import Path\n",
    "import glob\n",
    "import pandas as pd\n",
    "import numpy as np\n",
    "from PIL import Image"
   ]
  },
  {
   "cell_type": "code",
   "execution_count": null,
   "id": "industrial-familiar",
   "metadata": {},
   "outputs": [],
   "source": [
    "south = file[0]#make changes to files based off the first line of code \n",
    "west = file[1]\n",
    "north = file[2]\n",
    "east = file[3]\n",
    "\n",
    "def merge_images(s, n):\n",
    "    \"\"\"Merge two images into one, displayed side by side\n",
    "    :param file1: path to first image file\n",
    "    :param file2: path to second image file\n",
    "    :return: the merged Image object\n",
    "    \"\"\"\n",
    "    image1 = Image.open(s)\n",
    "    image2 = Image.open(n)\n",
    "\n",
    "    (width1, height1) = image1.size\n",
    "    (width2, height2) = image2.size\n",
    "\n",
    "    result_width = width1 + width2\n",
    "    result_height = max(height1, height2)\n",
    "\n",
    "    result = Image.new('RGB', (result_width, result_height))\n",
    "    result.paste(im=image1, box=(0, 0))\n",
    "    result.paste(im=image2, box=(width1, 0))\n",
    "    return result\n",
    "\n",
    "merge_images(north, east)"
   ]
  },
  {
   "cell_type": "code",
   "execution_count": null,
   "id": "indonesian-brazilian",
   "metadata": {},
   "outputs": [],
   "source": [
    "merge_images(south, west)"
   ]
  }
 ],
 "metadata": {
  "kernelspec": {
   "display_name": "Python 3",
   "language": "python",
   "name": "python3"
  },
  "language_info": {
   "codemirror_mode": {
    "name": "ipython",
    "version": 3
   },
   "file_extension": ".py",
   "mimetype": "text/x-python",
   "name": "python",
   "nbconvert_exporter": "python",
   "pygments_lexer": "ipython3",
   "version": "3.8.8"
  }
 },
 "nbformat": 4,
 "nbformat_minor": 5
}
