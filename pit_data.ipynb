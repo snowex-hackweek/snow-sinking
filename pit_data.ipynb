{
 "cells": [
  {
   "cell_type": "markdown",
   "id": "limited-entity",
   "metadata": {},
   "source": [
    "# Starting to access snow pit data \n",
    "\n",
    "## Created & being used currently by Cassie Lumbrazo\n",
    "\n",
    "In shared repos, please limit edits to 1 person working in a single Jupyter notebook at a time. \\\n",
    "#### **Checkout the `collab_repo_rules.md` if you're unsure.** \n",
    "\n",
    "Thanks ;)"
   ]
  },
  {
   "cell_type": "markdown",
   "id": "nuclear-former",
   "metadata": {},
   "source": [
    "**Import General Packages**"
   ]
  },
  {
   "cell_type": "code",
   "execution_count": 3,
   "id": "religious-answer",
   "metadata": {},
   "outputs": [],
   "source": [
    "# Alot of this code from the time-lapse tutorial \n",
    "\n",
    "# Packages to connect and download from the SnowEx database \n",
    "import snowexsql.db # import SnowEx SQL library\n",
    "from snowexsql.db import get_db # connection function from the snowexsql library\n",
    "from snowexsql.data import PointData, SiteData # point and table classes \n",
    "from snowexsql.conversions import query_to_geopandas # function to convert incoming data from database to geopandas df\n",
    "\n",
    "# Packages for data analysis \n",
    "import geopandas as gpd # geopandas library for data anaylsis and visualization\n",
    "import pandas as pd # pandas as to read csv data and visualize tabular data\n",
    "import numpy as np # numpy for data analysis \n",
    "\n",
    "# Packages for data visualization\n",
    "import matplotlib.pyplot as plt # matplotlib.pyplot for plotting images and graphs\n",
    "from IPython.display import Image # used to display images inside the notebook\n",
    "import seaborn as sns # a module that adds some plotting capabilities \n",
    "import matplotlib as mpl # import all of matplotlib for plotting \n",
    "\n",
    "# The following settings just set some defaults for the plots in this notebook\n",
    "sns.set() # activates some of the default settings from seaborn\n",
    "sns.set_style(\"dark\", {\"xtick.bottom\": True, 'ytick.left': True}) # improves x and y ticks \n",
    "\n",
    "plt.rcParams['figure.figsize']  = (10, 4) # figure size\n",
    "plt.rcParams['axes.titlesize']  = 14 # title size \n",
    "plt.rcParams['axes.labelsize']  = 12 # axes label size \n",
    "plt.rcParams['xtick.labelsize'] = 11 # x tick label size \n",
    "plt.rcParams['ytick.labelsize'] = 11 # y tick label size \n",
    "plt.rcParams['legend.fontsize'] = 11 # legend size \n",
    "mpl.rcParams['figure.dpi'] = 100"
   ]
  },
  {
   "cell_type": "markdown",
   "id": "contained-charge",
   "metadata": {},
   "source": [
    "Connecting to the `snowexsql` database using code from https://snowex-hackweek.github.io/website/tutorials/database/1_getting_started_example.html"
   ]
  },
  {
   "cell_type": "code",
   "execution_count": 1,
   "id": "closed-cutting",
   "metadata": {},
   "outputs": [],
   "source": [
    "# Following this tutorial: https://snowex-hackweek.github.io/website/tutorials/database/1_getting_started_example.html\n",
    "\n",
    "# Import the connection function from the snowexsql library\n",
    "from snowexsql.db import get_db\n",
    "\n",
    "# This is what you will use for all of hackweek to access the db\n",
    "db_name = 'snow:hackweek@52.32.183.144/snowex'\n",
    "\n",
    "# Using the function get_db, we receive 2 ways to interact with the database\n",
    "engine, session = get_db(db_name)"
   ]
  },
  {
   "cell_type": "code",
   "execution_count": null,
   "id": "mineral-supply",
   "metadata": {},
   "outputs": [],
   "source": []
  }
 ],
 "metadata": {
  "kernelspec": {
   "display_name": "Python 3",
   "language": "python",
   "name": "python3"
  },
  "language_info": {
   "codemirror_mode": {
    "name": "ipython",
    "version": 3
   },
   "file_extension": ".py",
   "mimetype": "text/x-python",
   "name": "python",
   "nbconvert_exporter": "python",
   "pygments_lexer": "ipython3",
   "version": "3.8.8"
  }
 },
 "nbformat": 4,
 "nbformat_minor": 5
}
