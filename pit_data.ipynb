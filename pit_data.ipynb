{
 "cells": [
  {
   "cell_type": "markdown",
   "id": "reflected-prison",
   "metadata": {},
   "source": [
    "# Notebook to start accessing Pit Data\n",
    "\n",
    "### Created by Cassie Lumbrazo\n",
    "\n",
    "In shared repos, please limit edits to 1 person working in a single notebook at a time. \n",
    "Feel free to copy code from others notebooks, but try to avoid collaborating in a single notebook at the same time & pushing changes to the #snow-sinking repo. This will cause merge conflicts within the notebook and hurt everyones brains a lot. "
   ]
  },
  {
   "cell_type": "code",
   "execution_count": null,
   "id": "voluntary-olympus",
   "metadata": {},
   "outputs": [],
   "source": []
  },
  {
   "cell_type": "code",
   "execution_count": null,
   "id": "caroline-library",
   "metadata": {},
   "outputs": [],
   "source": []
  }
 ],
 "metadata": {
  "kernelspec": {
   "display_name": "Python 3",
   "language": "python",
   "name": "python3"
  },
  "language_info": {
   "codemirror_mode": {
    "name": "ipython",
    "version": 3
   },
   "file_extension": ".py",
   "mimetype": "text/x-python",
   "name": "python",
   "nbconvert_exporter": "python",
   "pygments_lexer": "ipython3",
   "version": "3.8.8"
  }
 },
 "nbformat": 4,
 "nbformat_minor": 5
}
